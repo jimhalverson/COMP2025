{
 "cells": [
  {
   "cell_type": "markdown",
   "id": "197c118e",
   "metadata": {},
   "source": [
    "# Optimization and Cosmological Constants\n",
    "\n",
    "Much of life is an optimization problem. Crucially, optimization problems come not only objectives, but also constraints, sometimes *multiple* constraints. These constraints may be aligned, or may be at odds with one another. Let's talk about some examples!\n",
    "\n",
    "In this course we've already seen one optimization technique: gradient descent. In this lecture we'll talk about optimization in general. This is important because gradient descent has its shortcoming, for instance it can get stuck in local minima and is not applicable in discrete problems. We'll talk about some other optimization techniques that can help us avoid these problems: simulated annealing and genetic algorithms.\n",
    "\n",
    "# Bousso-Polchinski Model\n",
    "\n",
    "We will apply these techniques to a problem that is very important in cosmology: the cosmological constant problem. This is the problem of why the cosmological constant is so small. In 2000, Bousso and Polchinski gave a new answer to this problem from string theory, that there is a discretuum of vacua with different values of the cosmological constant. This large discretuum (at least, to the extent that the toy model is accurate) ensures the existence of small cosmological constants in string theory, but it doesn't mean it's easy to *find* them. We'll use optimization techniques to find them.\n",
    "\n",
    "In the Bousso-Polchinski model, we have \n",
    "\n",
    "$\\Lambda = \\Lambda_0 + N\\cdot N$\n",
    "\n",
    "where $N\\in \\mathbb{Z}^{h_{21}}$ is a vector of integers and $\\Lambda_0 < 0$. There are many reasons that this is a toy model, but it gets the essential conceptual idea correct. The problem problem is that the observed cosmological constant in Nature is $10^{-120}$ in Planck units, and therefore the goal of the BP model is to find $N$ such that \n",
    "\n",
    "$0 < \\Lambda < \\epsilon$\n",
    "\n",
    "One can think of this as adding up fluxes to lie in a shell slightly between spheres of radius $\\Lambda_0$ and $\\Lambda_0 + \\epsilon$. We won't go all the way to $10^{-120}$, but we'll be happy to just get within a very thin shell.\n",
    "\n"
   ]
  },
  {
   "cell_type": "code",
   "execution_count": 17,
   "id": "c91af5d8",
   "metadata": {},
   "outputs": [
    {
     "name": "stdout",
     "output_type": "stream",
     "text": [
      "256000\n"
     ]
    }
   ],
   "source": [
    "import matplotlib.pyplot as plt\n",
    "import seaborn as sns\n",
    "import numpy as np\n",
    "import pandas as pd\n",
    "\n",
    "L0 = 200000.1293123\n",
    "# L0 = 728123.1238904512\n",
    "h21 = 1000\n",
    "M = 4\n",
    "# M = 5\n",
    "\n",
    "print((2**M)**2*h21)\n",
    "assert (2**M)**2*h21 > L0"
   ]
  },
  {
   "cell_type": "markdown",
   "id": "96de594e",
   "metadata": {},
   "source": [
    "# Random Search\n",
    "\n",
    "This part isn't rocket science. Our vectors are \n",
    "\n",
    "$$N \\in \\mathbb{Z}^{h_{21}}$$\n",
    "\n",
    "where the integers in the vectors are restricted to lie between $-2^M$ and $2^M$. If we pick them randomly, how do we do?"
   ]
  },
  {
   "cell_type": "code",
   "execution_count": 18,
   "id": "aa776b8f",
   "metadata": {},
   "outputs": [
    {
     "name": "stdout",
     "output_type": "stream",
     "text": [
      "Squared Euclidean norm: 101753.0\n",
      "Distance: 98247.1293123\n",
      "Percent Error: 49.12353289476489\n"
     ]
    }
   ],
   "source": [
    "import numpy as np\n",
    "\n",
    "def random_search(L0, h21, M, num_samples=10000):\n",
    "    closest_vector = None\n",
    "    closest_distance = float('inf')\n",
    "    \n",
    "    for _ in range(num_samples):\n",
    "        N = np.random.randint(-2**M, 2**M+1, h21)\n",
    "        distance = abs(np.linalg.norm(N)**2 - L0)\n",
    "        if distance < closest_distance:\n",
    "            closest_distance = distance\n",
    "            closest_vector = N\n",
    "    \n",
    "    return closest_vector, closest_distance\n",
    "\n",
    "N, distance = random_search(L0, h21, M)\n",
    "print(\"Squared Euclidean norm:\", np.linalg.norm(N)**2)\n",
    "print(\"Distance:\", distance)\n",
    "print(\"Percent Error:\", 100.*distance/L0)"
   ]
  },
  {
   "cell_type": "markdown",
   "id": "bdb14a9e",
   "metadata": {},
   "source": [
    "Let's be a little more systematic."
   ]
  },
  {
   "cell_type": "code",
   "execution_count": null,
   "id": "0062bcef",
   "metadata": {},
   "outputs": [],
   "source": []
  },
  {
   "cell_type": "code",
   "execution_count": 19,
   "id": "b11ae4bc",
   "metadata": {},
   "outputs": [
    {
     "name": "stdout",
     "output_type": "stream",
     "text": [
      "0.4960253258506213\n"
     ]
    },
    {
     "data": {
      "image/png": "[encoded data removed]",
      "text/plain": [
       "<Figure size 640x480 with 1 Axes>"
      ]
     },
     "metadata": {},
     "output_type": "display_data"
    }
   ],
   "source": [
    "num_samples = [2**k for k in range(5,14)]\n",
    "percent_errors = [random_search(L0, h21, M, num_samples=N)[1]/L0 for N in num_samples]\n",
    "\n",
    "plt.plot(num_samples, percent_errors)\n",
    "plt.yscale('log')\n",
    "plt.xscale('log')\n",
    "print(min(percent_errors))"
   ]
  },
  {
   "cell_type": "markdown",
   "id": "ed3c3fb7",
   "metadata": {},
   "source": [
    "To prove the point, let's let this go for *awhile*"
   ]
  },
  {
   "cell_type": "code",
   "execution_count": 20,
   "id": "62808a0d",
   "metadata": {},
   "outputs": [
    {
     "name": "stdout",
     "output_type": "stream",
     "text": [
      "96946.1293123 103054\n",
      "Percent Error: 48.47303331535287\n"
     ]
    }
   ],
   "source": [
    "N, distance = random_search(L0, h21, M, num_samples=10**6)\n",
    "print(distance, np.dot(N,N))\n",
    "print('Percent Error:', 100.*distance/L0)"
   ]
  },
  {
   "cell_type": "markdown",
   "id": "c7eb8f28",
   "metadata": {},
   "source": [
    "# Simulated Annealing\n",
    "\n",
    "We can do better. We can use a technique called simulated annealing. The basic idea is to think of the problem as some energy minimization, and then slowly cool the system, introducing fluctuation in a natural way, and hoping that the \"cooling\" system finds a good minimum of the energy.\n",
    "\n",
    "In this problem, we have \n",
    "$$E(N) = |N\\cdot N - \\Lambda_0|$$\n",
    "\n",
    "The basic steps in the algorithm are:\n",
    "- Pick a random vector $N$ at init.\n",
    "- Pick a random integer $i$.\n",
    "- Do something to the $i$th element of $N$, call this $N'$.\n",
    "- If $E(N) > E(N')$, then accept the new vector.\n",
    "- If $E(N) <> E(N')$, then accept the new vector with probability $e^{-\\frac{E(N') - E(N)}{T}}$.\n",
    "- Make $T$ smaller next time around.\n",
    "- Iterate."
   ]
  },
  {
   "cell_type": "code",
   "execution_count": 21,
   "id": "3e41262f",
   "metadata": {},
   "outputs": [
    {
     "name": "stdout",
     "output_type": "stream",
     "text": [
      "Vector N: [  8  14   8  16   9  16 -14   8  16 -14  16  12  14  16  16  10 -15 -16\n",
      " -16 -16 -16 -16 -11 -11  16 -16 -16  11 -16  16  14  16  15  16  -9   9\n",
      " -16  -9  16 -13  14  11   8  16  15  16 -11  -5 -13  16  16 -16  16 -16\n",
      " -13  10  -5   3  16  15   6  13  12  16 -16 -12  16  15  16  16 -16   8\n",
      " -14  16  15  10  12 -13  16 -16   9   1  13  16 -14 -11   9 -16 -16 -16\n",
      "   9  16 -16   8  -6  16 -12 -15  13  -9  -6 -14 -13  -9  -5 -16  16 -16\n",
      " -16  -9 -16   4 -13  16 -11  11  15   5   1  10 -16 -16  13 -16 -15  14\n",
      "   5  16 -16   7  12  15 -16  16  16  10  -5  13 -11 -16 -16 -12  14 -12\n",
      "  15  16  12  -8   9 -16 -12  16 -13  16 -16  16 -16  16 -16 -16 -16  14\n",
      "   7  -8  16 -16 -15  13  -9 -16  16  14 -16  16  -9  16  13   6 -16   7\n",
      "  12 -12 -16  13  -9 -16 -15  -5 -16  -8 -13  16  13 -12 -16   8 -16 -16\n",
      "   7  15 -16 -16 -16  11 -11 -14 -13 -16  16   3  16  16   4  16  16 -16\n",
      " -14   8 -13 -16  16 -16  16   9  16 -14  16  -6  16 -16  16  16 -14 -16\n",
      "  12  16  16 -16  -9  16  16  16 -14 -16 -16  16 -15  15  16 -16   4  -7\n",
      " -12  -5 -16   2  -7   8 -16  -5 -12  16  16 -16   9 -10 -16  16  16 -16\n",
      "   7  16 -12  16  16  13  16  16  16  15 -10  16  16  -9 -12   6  16  10\n",
      "  -7  16  12 -14  16 -16 -14 -16 -16  -6 -16   7  -7  16   9  -6 -11 -12\n",
      " -11  16 -16  -9  10 -14  16  -9  10 -16  -7  -5  11  15  16  16  15  11\n",
      "  16  -5  15  -8 -15  16   4 -16 -16  16  13  16  13 -16  13  15   7   4\n",
      "  13  -9  16 -16  -2  15 -16  15 -16 -12 -12  13  16   9  16 -16   8  12\n",
      "   3 -16  15  16  16  -6  16  16 -11  16   5  16  16   5 -16 -11 -16  15\n",
      "  -9  16  15   5   8  12  -5 -14 -16 -14  16 -16  16  14  16   9   8  -5\n",
      "  16  16 -16   9  -8 -16  16  16 -16  12  13 -16  11  15 -12  10 -15  10\n",
      "  14  -9   4 -16   4 -13 -11   4 -13 -16  16   3  13   5  15  -8  16   8\n",
      "  16 -16  -2 -16 -16  16 -16 -16 -15 -16 -10 -16  10  -6   9  16  16 -16\n",
      "   2 -16  16  16  10  -6 -15 -12 -10  16 -16  13  15 -13  16  11  16  16\n",
      "   5 -11 -12 -15 -16  15  16   9 -16 -16 -11  16 -15 -16 -12  -9 -15  12\n",
      " -11  16  16  16   8  11 -16 -15 -16 -16   7  12 -10 -16  16  12  12 -14\n",
      "  16  15  16  -7  12  15   8 -16  -8 -16  16  16  16  13 -16  16   8  16\n",
      " -12 -16  16 -16  10 -13 -14  16   5  11  -9 -11 -10  16 -16  16   3  13\n",
      "  16  16 -11  16  16  16 -11  16  16  -8 -10  12 -14  16 -15 -16   6 -11\n",
      "  16 -15 -16 -10  16 -16 -16  -6 -16 -13  16 -15  14  -6  16  16 -16  16\n",
      "  -7  -7 -14  16  16 -16 -16  11 -11   5  -3   5   8  15  10  16 -16  16\n",
      " -16 -13  -5  -5  -6 -16  -4  -6 -13 -16  16 -16  -9  10  10 -16  16   8\n",
      "  15 -16  16 -13  16  16 -16  -6 -16   7 -15 -16  10  -6  15 -16  16  16\n",
      " -16  16 -16  15  12 -16 -11 -16 -16 -16 -16  -8  -8   8  16  13 -16  14\n",
      " -12  16  16 -16  16   4  16  16 -16 -10 -16  -6  -9 -13 -15  12   6 -13\n",
      "  -7 -13 -14   8 -16  16  16 -16  13 -13   5  16 -14  16   6  16  16  -9\n",
      " -14 -14 -16 -16  16 -16  14 -10  14 -16  16  16  12  12  -9  -6  13  16\n",
      " -16   7 -11  12  16  14  -8   9 -16 -10  15 -14  16 -16 -10  14  14  14\n",
      " -16  -8  16 -16  13  16  16 -16   3  15  16 -16  16  11  16  15  12  16\n",
      " -16 -15  13  16 -16  -3  10 -11 -11 -10   8  14 -13  16  -3 -15 -16   3\n",
      " -16  16   6  16 -16  16  15 -11 -16  15 -12  13  -5   1  -7   8 -13   8\n",
      "  16 -14 -13  -9   8 -12  16  16  -6  12 -16 -15 -11   8 -14 -16   7  -4\n",
      "  16  11  -7 -13 -10 -11  13 -16  -6 -15  16 -10 -16   5   9  16  11   6\n",
      " -16   8  12  -7  16  16  16 -13 -16  16  -3 -16   9 -16  16 -12  16  -5\n",
      " -16   6  16 -16 -10 -14 -13  12 -16 -16 -16   3   5  11 -14  16  16 -14\n",
      "  16  10  16 -16  16  15 -13  -6 -12  15  16  -3 -13  16  12 -12 -10  16\n",
      " -16  14  11 -16   5  16  16 -13  -8  15  14  16 -15  16 -16 -16   6 -13\n",
      "  16  11  10 -16 -13 -16 -16  14 -16 -16 -16  -9  14   3  16  16 -16 -13\n",
      "  16  13  14  16   8  10  -8   8 -16 -16  16 -16  16   7  -4   4 -15   8\n",
      " -12  14 -15  15   7 -13  16   3 -16   8  -7  -8  -8  -7  16  16  16  16\n",
      " -16 -11  16  -9  10 -16  16  16   8 -16  -9  11  16  16  16  -6  16  -4\n",
      " -16  11 -16 -16 -13   6 -16 -13  16  14 -12 -16  -8   6  15 -12  14 -16\n",
      "  12 -16 -16  16   7  -7  16  12  11  12  11   3 -16   8 -16   5  16 -10\n",
      "  -6  10  12  14  -9  16  16 -16   5  11]\n",
      "Squared Euclidean norm: 178683.0\n",
      "Distance: 21317.129312300007\n",
      "Percent Error: 10.658557764736907\n"
     ]
    }
   ],
   "source": [
    "import numpy as np\n",
    "\n",
    "def simulated_annealing(L0, h21, M, max_iters=10000, initial_temp=1000, cooling_rate=0.99):\n",
    "    current_vector = np.random.randint(-2**M, 2**M+1, h21)\n",
    "    current_distance = abs(np.linalg.norm(current_vector)**2 - L0)\n",
    "    \n",
    "    best_vector = np.copy(current_vector)\n",
    "    best_distance = current_distance\n",
    "    \n",
    "    temperature = initial_temp\n",
    "    \n",
    "    for i in range(max_iters):\n",
    "        new_vector = np.copy(current_vector)\n",
    "        index_to_change = np.random.choice(h21)\n",
    "        change = np.random.randint(-2, 3)\n",
    "        new_vector[index_to_change] += change\n",
    "        new_vector = np.clip(new_vector, -2**M, 2**M)\n",
    "        \n",
    "        new_distance = abs(np.linalg.norm(new_vector)**2 - L0)\n",
    "        \n",
    "        if new_distance < best_distance:\n",
    "            best_vector = np.copy(new_vector)\n",
    "            best_distance = new_distance\n",
    "            \n",
    "        if new_distance < current_distance or np.random.rand() < np.exp((current_distance - new_distance) / temperature):\n",
    "            current_vector = np.copy(new_vector)\n",
    "            current_distance = new_distance\n",
    "            \n",
    "        temperature *= cooling_rate\n",
    "        \n",
    "    return best_vector, best_distance\n",
    "\n",
    "# L0 = 10000\n",
    "# h21 = 5\n",
    "# M = 10\n",
    "N, distance = simulated_annealing(L0, h21, M)\n",
    "print(\"Vector N:\", N)\n",
    "print(\"Squared Euclidean norm:\", np.linalg.norm(N)**2)\n",
    "print(\"Distance:\", distance)\n",
    "print(\"Percent Error:\", 100.*distance/L0)\n"
   ]
  },
  {
   "cell_type": "markdown",
   "id": "9cfdd779",
   "metadata": {},
   "source": [
    "Already much better in .1s than 10s of seconds with random search. Let's crank up the number of iterations and cool more slowly."
   ]
  },
  {
   "cell_type": "code",
   "execution_count": 22,
   "id": "aa08d2ec",
   "metadata": {},
   "outputs": [
    {
     "name": "stderr",
     "output_type": "stream",
     "text": [
      "/var/folders/13/4h_rwpc12q15_80s7fq2msnw0000gp/T/ipykernel_59011/2802165486.py:25: RuntimeWarning: overflow encountered in scalar divide\n",
      "  if new_distance < current_distance or np.random.rand() < np.exp((current_distance - new_distance) / temperature):\n"
     ]
    },
    {
     "name": "stdout",
     "output_type": "stream",
     "text": [
      "Squared Euclidean norm: 200000.0\n",
      "Distance: 0.129312300006859\n",
      "Percent Error: 6.465610819927919e-05\n"
     ]
    }
   ],
   "source": [
    "N, distance = simulated_annealing(L0, h21, M, max_iters=1000000, cooling_rate=0.999)\n",
    "#print(\"Vector N:\", N)\n",
    "print(\"Squared Euclidean norm:\", np.linalg.norm(N)**2)\n",
    "print(\"Distance:\", distance)\n",
    "print(\"Percent Error:\", 100.*distance/L0)"
   ]
  },
  {
   "cell_type": "markdown",
   "id": "bbc723f7",
   "metadata": {},
   "source": [
    "# Genetic Algorithms"
   ]
  },
  {
   "cell_type": "code",
   "execution_count": 23,
   "id": "ae68c232",
   "metadata": {},
   "outputs": [
    {
     "name": "stdout",
     "output_type": "stream",
     "text": [
      "Squared Euclidean norm: 136304.0\n",
      "Distance: 63696.12931230001\n",
      "Percent Error: 31.848044064430862\n"
     ]
    }
   ],
   "source": [
    "import numpy as np\n",
    "\n",
    "def genetic_algorithm(L0, h21, M, population_size=100, generations=10000, mutation_rate=0.1):\n",
    "    population = np.random.randint(-2**M, 2**M+1, (population_size, h21))\n",
    "    \n",
    "    for generation in range(generations):\n",
    "        fitness = np.array([1/abs(np.linalg.norm(ind)**2 - L0) for ind in population])\n",
    "        parents_indices = fitness.argsort()[-2:]\n",
    "        parent1, parent2 = population[parents_indices]\n",
    "        \n",
    "        point = np.random.randint(1, h21-1)\n",
    "        child = np.concatenate([parent1[:point], parent2[point:]]) # single point cross-over\n",
    "        \n",
    "        if np.random.rand() < mutation_rate:\n",
    "            mutation_index = np.random.choice(h21)\n",
    "            mutation_value = np.random.randint(-2**M, 2**M+1)\n",
    "            child[mutation_index] = mutation_value\n",
    "        \n",
    "        worst_index = fitness.argmin()\n",
    "        population[worst_index] = child\n",
    "        \n",
    "    best_index = np.argmax([1 / (abs(np.linalg.norm(ind)**2 - L0)) for ind in population])\n",
    "    best_vector = population[best_index]\n",
    "    distance = abs(np.linalg.norm(best_vector)**2 - L0)\n",
    "    \n",
    "    return best_vector, distance\n",
    "\n",
    "N, distance = genetic_algorithm(L0, h21, M)\n",
    "print(\"Squared Euclidean norm:\", np.linalg.norm(N)**2)\n",
    "print(\"Distance:\", distance)\n",
    "print(\"Percent Error:\", 100.*distance/L0)\n"
   ]
  },
  {
   "cell_type": "markdown",
   "id": "d2debcfa",
   "metadata": {},
   "source": [
    "But don't you know that evolution takes time?"
   ]
  },
  {
   "cell_type": "code",
   "execution_count": 24,
   "id": "9ff525c0",
   "metadata": {},
   "outputs": [
    {
     "name": "stdout",
     "output_type": "stream",
     "text": [
      "Squared Euclidean norm: 199999.0\n",
      "Distance: 1.129312300006859\n",
      "Percent Error: 0.0005646557849187382\n"
     ]
    }
   ],
   "source": [
    "N, distance = genetic_algorithm(L0, h21, M, population_size=100, generations=100000, mutation_rate=0.1)\n",
    "print(\"Squared Euclidean norm:\", np.linalg.norm(N)**2)\n",
    "print(\"Distance:\", distance)\n",
    "print(\"Percent Error:\", 100.*distance/L0)"
   ]
  },
  {
   "cell_type": "markdown",
   "id": "49a9fa44",
   "metadata": {},
   "source": [
    "# Sample and Bump\n",
    "\n",
    "Alternatively, we can try sampling a random unit vector, putting it on the sphere, and bumping it to an integer. How does this work?"
   ]
  },
  {
   "cell_type": "code",
   "execution_count": 25,
   "id": "e3de8110",
   "metadata": {},
   "outputs": [
    {
     "name": "stdout",
     "output_type": "stream",
     "text": [
      "Squared Euclidean norm: 200000.0\n",
      "Distance: 0.129312300006859\n",
      "Percent Error: 6.465610819927919e-05\n"
     ]
    }
   ],
   "source": [
    "def sample_on_sphere(L0, h21, num_samples):\n",
    "    closest_vector = None\n",
    "    closest_distance = float('inf')\n",
    "\n",
    "    for _ in range(num_samples):\n",
    "        # Generate a random vector from a standard normal distribution\n",
    "        random_vector = np.random.randn(h21)\n",
    "        \n",
    "        # Normalize the vector to get a unit vector\n",
    "        unit_vector = random_vector / np.linalg.norm(random_vector)\n",
    "        \n",
    "        # Scale the unit vector to have a norm-squared of L0\n",
    "        point_on_sphere = np.sqrt(L0) * unit_vector\n",
    "        \n",
    "        # Round the point to the nearest integer\n",
    "        rounded_point = np.round(point_on_sphere).astype(int)\n",
    "        \n",
    "        # Calculate the squared Euclidean norm\n",
    "        squared_norm = np.linalg.norm(rounded_point)**2\n",
    "\n",
    "        # Calculate the distance to L0 squared\n",
    "        distance = abs(squared_norm - L0)\n",
    "        if distance < closest_distance:\n",
    "            closest_distance = distance\n",
    "            closest_vector = rounded_point\n",
    "    \n",
    "    return closest_vector, closest_distance\n",
    "\n",
    "\n",
    "N, distance = sample_on_sphere(L0, h21, 100000)\n",
    "print(\"Squared Euclidean norm:\", np.linalg.norm(N)**2)\n",
    "print(\"Distance:\", distance)\n",
    "print(\"Percent Error:\", 100.*distance/L0)\n"
   ]
  },
  {
   "cell_type": "markdown",
   "id": "7cdbbc68",
   "metadata": {},
   "source": [
    "Ok, so this worked better than expected. What are some downsides of this technique?"
   ]
  },
  {
   "cell_type": "markdown",
   "id": "c3530d91",
   "metadata": {},
   "source": [
    "# Modified Bousso Polchinski Model\n",
    "\n",
    "Another model, motivated by so-called type IIB string theory, is \n",
    "\n",
    "$\\Lambda = \\Lambda_0 - \\frac{3}{{\\cal V}^2} \\left|N \\cdot \\Pi\\right|^2$\n",
    "\n",
    "For simplicity, let's take ${\\cal V} = 1000$ and $\\Pi$ sampled randomly from the unit ball."
   ]
  },
  {
   "cell_type": "code",
   "execution_count": 29,
   "id": "42db63be",
   "metadata": {},
   "outputs": [],
   "source": [
    "L0 = 1. \n",
    "Vol = 100.\n",
    "h21 = 1000\n",
    "\n",
    "Pi = np.random.randn(h21)\n",
    "Pi /= np.linalg.norm(Pi)  \n",
    "\n",
    "mod_BP_CC = lambda N: L0 - 3./(Vol**2)* (np.dot(N,Pi))**2"
   ]
  },
  {
   "cell_type": "code",
   "execution_count": 30,
   "id": "ccf84293",
   "metadata": {},
   "outputs": [
    {
     "name": "stdout",
     "output_type": "stream",
     "text": [
      "Best Lambda found: 0.3593250417270075\n",
      "Lambda_0: 1.0\n",
      "Reduction factor: 0.3593250417270075\n",
      "N·Pi = -46.21237057588918\n"
     ]
    }
   ],
   "source": [
    "def random_search_mod_BP(L0, h21, M, Pi, Vol, num_samples=10000):\n",
    "    \"\"\"\n",
    "    Random search for modified BP model: Lambda = L0 - 3/Vol^2 * |N·Pi|^2\n",
    "    Goal: find N such that 0 < Lambda < epsilon (small positive value)\n",
    "    \"\"\"\n",
    "    closest_vector = None\n",
    "    closest_Lambda = None\n",
    "    best_score = float('inf')  # We want Lambda close to 0 but positive\n",
    "    \n",
    "    for _ in range(num_samples):\n",
    "        N = np.random.randint(-2**M, 2**M+1, h21)\n",
    "        Lambda = mod_BP_CC(N)\n",
    "        \n",
    "        # Score: we want Lambda close to 0, but positive\n",
    "        if Lambda > 0:\n",
    "            score = Lambda  # Smaller positive Lambda is better\n",
    "        else:\n",
    "            score = float('inf')  # Reject negative Lambda\n",
    "            \n",
    "        if score < best_score:\n",
    "            best_score = score\n",
    "            closest_Lambda = Lambda\n",
    "            closest_vector = N\n",
    "    \n",
    "    return closest_vector, closest_Lambda\n",
    "\n",
    "# Run random search\n",
    "N, Lambda = random_search_mod_BP(L0, h21, M, Pi, Vol, num_samples=100000)\n",
    "print(f\"Best Lambda found: {Lambda}\")\n",
    "print(f\"Lambda_0: {L0}\")\n",
    "print(f\"Reduction factor: {Lambda/L0}\")\n",
    "print(f\"N·Pi = {np.dot(N, Pi)}\")"
   ]
  },
  {
   "cell_type": "code",
   "execution_count": 12,
   "id": "f3bd175c",
   "metadata": {},
   "outputs": [
    {
     "name": "stdout",
     "output_type": "stream",
     "text": [
      "Best Lambda found: 1.0754907619370258e-05\n",
      "Lambda_0: 1.0\n",
      "Reduction factor: 1.0754907619370258e-05\n",
      "N·Pi = 0.5773471645068735\n",
      "Is Lambda positive? True\n"
     ]
    }
   ],
   "source": [
    "def simulated_annealing_mod_BP(L0, h21, M, Pi, Vol, max_iters=100000, initial_temp=1000, cooling_rate=0.99):\n",
    "    \"\"\"\n",
    "    Simulated annealing for modified BP model: Lambda = L0 - 3/Vol^2 * |N·Pi|^2\n",
    "    Energy function: E(N) = Lambda(N) if Lambda > 0, else large penalty\n",
    "    Goal: minimize Lambda while keeping it positive\n",
    "    \"\"\"\n",
    "    current_vector = np.random.randint(-2**M, 2**M+1, h21)\n",
    "    current_Lambda = mod_BP_CC(current_vector)\n",
    "    \n",
    "    # Energy: we want to minimize Lambda (make it small) but keep it positive\n",
    "    def energy(Lambda):\n",
    "        if Lambda > 0:\n",
    "            return Lambda\n",
    "        else:\n",
    "            return 1e10  # Large penalty for negative Lambda\n",
    "    \n",
    "    current_energy = energy(current_Lambda)\n",
    "    \n",
    "    best_vector = np.copy(current_vector)\n",
    "    best_Lambda = current_Lambda\n",
    "    best_energy = current_energy\n",
    "    \n",
    "    temperature = initial_temp\n",
    "    \n",
    "    for i in range(max_iters):\n",
    "        new_vector = np.copy(current_vector)\n",
    "        index_to_change = np.random.choice(h21)\n",
    "        change = np.random.randint(-2, 3)\n",
    "        new_vector[index_to_change] += change\n",
    "        new_vector = np.clip(new_vector, -2**M, 2**M)\n",
    "        \n",
    "        new_Lambda = mod_BP_CC(new_vector)\n",
    "        new_energy = energy(new_Lambda)\n",
    "        \n",
    "        if new_energy < best_energy:\n",
    "            best_vector = np.copy(new_vector)\n",
    "            best_Lambda = new_Lambda\n",
    "            best_energy = new_energy\n",
    "            \n",
    "        if new_energy < current_energy or np.random.rand() < np.exp((current_energy - new_energy) / temperature):\n",
    "            current_vector = np.copy(new_vector)\n",
    "            current_Lambda = new_Lambda\n",
    "            current_energy = new_energy\n",
    "            \n",
    "        temperature *= cooling_rate\n",
    "        \n",
    "    return best_vector, best_Lambda\n",
    "\n",
    "# Run simulated annealing\n",
    "N, Lambda = simulated_annealing_mod_BP(L0, h21, M, Pi, Vol, max_iters=100000, cooling_rate=0.999)\n",
    "print(f\"Best Lambda found: {Lambda}\")\n",
    "print(f\"Lambda_0: {L0}\")\n",
    "print(f\"Reduction factor: {Lambda/L0}\")\n",
    "print(f\"N·Pi = {np.dot(N, Pi)}\")\n",
    "print(f\"Is Lambda positive? {Lambda > 0}\")"
   ]
  },
  {
   "cell_type": "code",
   "execution_count": 31,
   "id": "501e2006",
   "metadata": {},
   "outputs": [
    {
     "name": "stdout",
     "output_type": "stream",
     "text": [
      "Best Lambda found: 1.567567016191873e-07\n",
      "Lambda_0: 1.0\n",
      "Reduction factor: 1.567567016191873e-07\n",
      "N·Pi = 57.73502239378621\n",
      "Is Lambda positive? True\n"
     ]
    }
   ],
   "source": [
    "def genetic_algorithm_mod_BP(L0, h21, M, Pi, Vol, population_size=100, generations=10000, mutation_rate=0.1):\n",
    "    \"\"\"\n",
    "    Genetic algorithm for modified BP model: Lambda = L0 - 3/Vol^2 * |N·Pi|^2\n",
    "    Fitness: higher for smaller positive Lambda values\n",
    "    \"\"\"\n",
    "    population = np.random.randint(-2**M, 2**M+1, (population_size, h21))\n",
    "    \n",
    "    def fitness(N):\n",
    "        Lambda = mod_BP_CC(N)\n",
    "        if Lambda > 0:\n",
    "            return 1.0 / Lambda  # Higher fitness for smaller positive Lambda\n",
    "        else:\n",
    "            return 0.0  # Zero fitness for negative Lambda\n",
    "    \n",
    "    for generation in range(generations):\n",
    "        # Calculate fitness for all individuals\n",
    "        fitness_scores = np.array([fitness(ind) for ind in population])\n",
    "        \n",
    "        # Select top 2 parents\n",
    "        parents_indices = fitness_scores.argsort()[-2:]\n",
    "        parent1, parent2 = population[parents_indices]\n",
    "        \n",
    "        # Single point crossover\n",
    "        point = np.random.randint(1, h21-1)\n",
    "        child = np.concatenate([parent1[:point], parent2[point:]])\n",
    "        \n",
    "        # Mutation\n",
    "        if np.random.rand() < mutation_rate:\n",
    "            mutation_index = np.random.choice(h21)\n",
    "            mutation_value = np.random.randint(-2**M, 2**M+1)\n",
    "            child[mutation_index] = mutation_value\n",
    "        \n",
    "        # Replace worst individual with child\n",
    "        worst_index = fitness_scores.argmin()\n",
    "        population[worst_index] = child\n",
    "        \n",
    "    # Find best individual in final population\n",
    "    fitness_scores = np.array([fitness(ind) for ind in population])\n",
    "    best_index = fitness_scores.argmax()\n",
    "    best_vector = population[best_index]\n",
    "    best_Lambda = mod_BP_CC(best_vector)\n",
    "    \n",
    "    return best_vector, best_Lambda\n",
    "\n",
    "# Run genetic algorithm\n",
    "N, Lambda = genetic_algorithm_mod_BP(L0, h21, M, Pi, Vol, population_size=100, generations=50000, mutation_rate=0.1)\n",
    "print(f\"Best Lambda found: {Lambda}\")\n",
    "print(f\"Lambda_0: {L0}\")\n",
    "print(f\"Reduction factor: {Lambda/L0}\")\n",
    "print(f\"N·Pi = {np.dot(N, Pi)}\")\n",
    "print(f\"Is Lambda positive? {Lambda > 0}\")"
   ]
  },
  {
   "cell_type": "code",
   "execution_count": null,
   "id": "06a9d384",
   "metadata": {},
   "outputs": [],
   "source": []
  }
 ],
 "metadata": {
  "kernelspec": {
   "display_name": "COMP2025",
   "language": "python",
   "name": "python3"
  },
  "language_info": {
   "codemirror_mode": {
    "name": "ipython",
    "version": 3
   },
   "file_extension": ".py",
   "mimetype": "text/x-python",
   "name": "python",
   "nbconvert_exporter": "python",
   "pygments_lexer": "ipython3",
   "version": "3.13.5"
  }
 },
 "nbformat": 4,
 "nbformat_minor": 5
}
