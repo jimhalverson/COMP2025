{
 "cells": [
  {
   "cell_type": "markdown",
   "id": "f35fd598",
   "metadata": {},
   "source": [
    "Numerical Differentiation\n",
    "========================\n",
    "\n",
    "In order to numerically evaluate a derivative $y'(x)=dy/dx$ at point $x_0$, we approximate is by using finite differences:\n",
    "Therefore we find: \n",
    "\n",
    "$dx \\approx \\Delta x =x_1-x_0$\n",
    "\n",
    "$dy \\approx \\Delta y =y_1-y_0= y(x_1)-y(x_0) = y(x_0+\\Delta_x)-y(x_0)$\n",
    "\n",
    "Then we re-write the derivative in terms of discrete differences as:\n",
    "$$\\frac{dy}{dx} \\approx \\frac{\\Delta y}{\\Delta x}$$\n",
    "\n",
    "#### Example\n",
    "\n",
    "Let's look at the accuracy of this approximation in terms of the interval $\\Delta x$. In our first example we will evaluate the derivative of $y=x^2$ at $x=1$."
   ]
  },
  {
   "cell_type": "code",
   "execution_count": 1,
   "id": "dd88f620",
   "metadata": {},
   "outputs": [
    {
     "name": "stdout",
     "output_type": "stream",
     "text": [
      " 1e+00   3.0000000000000000   1.0000000000000000\n",
      " 1e-01   2.1000000000000019   0.1000000000000019\n",
      " 1e-02   2.0100000000000007   0.0100000000000007\n",
      " 1e-03   2.0009999999996975   0.0009999999996975\n",
      " 1e-04   2.0000999999991720   0.0000999999991720\n",
      " 1e-05   2.0000100000139298   0.0000100000139298\n",
      " 1e-06   2.0000009999243669   0.0000009999243669\n",
      " 1e-07   2.0000001010878061   0.0000001010878061\n",
      " 1e-08   1.9999999878450576  -0.0000000121549424\n",
      " 1e-09   2.0000001654807416   0.0000001654807416\n",
      " 1e-10   2.0000001654807416   0.0000001654807416\n"
     ]
    }
   ],
   "source": [
    "dx = 1.\n",
    "x = 1.\n",
    "while(dx > 1.e-10):\n",
    "    dy = (x+dx)*(x+dx)-x*x\n",
    "    d = dy / dx\n",
    "    print(\"%6.0e %20.16f %20.16f\" % (dx, d, d-2.))\n",
    "    dx = dx / 10.\n",
    "    "
   ]
  },
  {
   "cell_type": "markdown",
   "id": "fc4875a1",
   "metadata": {},
   "source": [
    "Why is it that the sequence does not converge? This is due to the round-off errors in the representation of the floating point numbers. To see this, we can simply type:"
   ]
  },
  {
   "cell_type": "code",
   "execution_count": 2,
   "id": "ed2c9e13",
   "metadata": {},
   "outputs": [
    {
     "data": {
      "text/plain": [
       "0.0002000099999999172"
      ]
     },
     "execution_count": 2,
     "metadata": {},
     "output_type": "execute_result"
    }
   ],
   "source": [
    "((1.+0.0001)*(1+0.0001)-1)"
   ]
  },
  {
   "cell_type": "markdown",
   "id": "dc67c872",
   "metadata": {},
   "source": [
    "Let's try using powers of 1/2"
   ]
  },
  {
   "cell_type": "code",
   "execution_count": 3,
   "id": "ea84faf1",
   "metadata": {},
   "outputs": [
    {
     "name": "stdout",
     "output_type": "stream",
     "text": [
      "1.00000e+00   3.0000000000000000   1.0000000000000000\n",
      "5.00000e-01   2.5000000000000000   0.5000000000000000\n",
      "2.50000e-01   2.2500000000000000   0.2500000000000000\n",
      "1.25000e-01   2.1250000000000000   0.1250000000000000\n",
      "6.25000e-02   2.0625000000000000   0.0625000000000000\n",
      "3.12500e-02   2.0312500000000000   0.0312500000000000\n",
      "1.56250e-02   2.0156250000000000   0.0156250000000000\n",
      "7.81250e-03   2.0078125000000000   0.0078125000000000\n",
      "3.90625e-03   2.0039062500000000   0.0039062500000000\n",
      "1.95312e-03   2.0019531250000000   0.0019531250000000\n",
      "9.76562e-04   2.0009765625000000   0.0009765625000000\n",
      "4.88281e-04   2.0004882812500000   0.0004882812500000\n",
      "2.44141e-04   2.0002441406250000   0.0002441406250000\n",
      "1.22070e-04   2.0001220703125000   0.0001220703125000\n",
      "6.10352e-05   2.0000610351562500   0.0000610351562500\n",
      "3.05176e-05   2.0000305175781250   0.0000305175781250\n",
      "1.52588e-05   2.0000152587890625   0.0000152587890625\n",
      "7.62939e-06   2.0000076293945312   0.0000076293945312\n",
      "3.81470e-06   2.0000038146972656   0.0000038146972656\n",
      "1.90735e-06   2.0000019073486328   0.0000019073486328\n",
      "9.53674e-07   2.0000009536743164   0.0000009536743164\n",
      "4.76837e-07   2.0000004768371582   0.0000004768371582\n",
      "2.38419e-07   2.0000002384185791   0.0000002384185791\n",
      "1.19209e-07   2.0000001192092896   0.0000001192092896\n",
      "5.96046e-08   2.0000000596046448   0.0000000596046448\n",
      "2.98023e-08   2.0000000298023224   0.0000000298023224\n",
      "1.49012e-08   2.0000000149011612   0.0000000149011612\n",
      "7.45058e-09   2.0000000000000000   0.0000000000000000\n",
      "3.72529e-09   2.0000000000000000   0.0000000000000000\n",
      "1.86265e-09   2.0000000000000000   0.0000000000000000\n",
      "9.31323e-10   2.0000000000000000   0.0000000000000000\n",
      "4.65661e-10   2.0000000000000000   0.0000000000000000\n",
      "2.32831e-10   2.0000000000000000   0.0000000000000000\n",
      "1.16415e-10   2.0000000000000000   0.0000000000000000\n"
     ]
    }
   ],
   "source": [
    "dx = 1.\n",
    "x = 1.\n",
    "while(dx > 1.e-10):\n",
    "    dy = (x+dx)*(x+dx)-x*x\n",
    "    d = dy / dx\n",
    "    print(\"%8.5e %20.16f %20.16f\" % (dx, d, d-2.))\n",
    "    dx = dx / 2."
   ]
  },
  {
   "cell_type": "markdown",
   "id": "ee538f7e",
   "metadata": {},
   "source": [
    "In addition, one could consider the midpoint difference, defined as:\n",
    "$$ dy \\approx \\Delta y = y(x_0+\\frac{\\Delta_x}{2})-y(x_0-\\frac{\\Delta_x}{2}).$$\n",
    "\n",
    "For a more complex function we need to import it from the math module. For instance, let's calculate the derivative of $sin(x)$ at $x=\\pi/4$, including both the forward and midpoint differences."
   ]
  },
  {
   "cell_type": "code",
   "execution_count": 4,
   "id": "8158b85f",
   "metadata": {},
   "outputs": [
    {
     "name": "stdout",
     "output_type": "stream",
     "text": [
      "1.00000e+00   0.2699544827129282  -0.4371522984736194   0.6780100988420897  -0.0290966823444578\n",
      "5.00000e-01   0.5048856975964859  -0.2022210835900616   0.6997640691250939  -0.0073427120614536\n",
      "2.50000e-01   0.6118351194488110  -0.0952716617377366   0.7052667953545546  -0.0018399858319930\n",
      "1.25000e-01   0.6611301360648314  -0.0459766451217162   0.7066465151141275  -0.0004602660724201\n",
      "6.25000e-02   0.6845566203276636  -0.0225501608588839   0.7069916978116630  -0.0001150833748845\n",
      "3.12500e-02   0.6959440534591259  -0.0111627277274217   0.7070780092891873  -0.0000287718973603\n",
      "1.56250e-02   0.7015538499518499  -0.0055529312346977   0.7070995881463489  -0.0000071930401987\n",
      "7.81250e-03   0.7043374663312676  -0.0027693148552800   0.7071049829223881  -0.0000017982641595\n",
      "3.90625e-03   0.7057239167465070  -0.0013828644400405   0.7071063316202526  -0.0000004495662950\n",
      "1.95312e-03   0.7064157978737740  -0.0006909833127736   0.7071066687949497  -0.0000001123915979\n",
      "9.76562e-04   0.7067614018394579  -0.0003453793470897   0.7071067530886239  -0.0000000280979237\n",
      "4.88281e-04   0.7069341196006462  -0.0001726615859013   0.7071067741621846  -0.0000000070243630\n",
      "2.44141e-04   0.7070204574170020  -0.0000863237695455   0.7071067794304327  -0.0000000017561149\n",
      "1.22070e-04   0.7070636210582961  -0.0000431601282515   0.7071067807473810  -0.0000000004391666\n",
      "6.10352e-05   0.7070852015622222  -0.0000215796243254   0.7071067810775276  -0.0000000001090200\n",
      "3.05176e-05   0.7070959914854029  -0.0000107897011447   0.7071067811593821  -0.0000000000271655\n",
      "1.52588e-05   0.7071013863678672  -0.0000053948186803   0.7071067811848479  -0.0000000000016996\n",
      "7.62939e-06   0.7071040837909095  -0.0000026973956381   0.7071067811775720  -0.0000000000089756\n",
      "3.81470e-06   0.7071054324915167  -0.0000013486950309   0.7071067811921239   0.0000000000055763\n",
      "1.90735e-06   0.7071061068563722  -0.0000006743301754   0.7071067811921239   0.0000000000055763\n",
      "9.53674e-07   0.7071064440533519  -0.0000003371331957   0.7071067811921239   0.0000000000055763\n",
      "4.76837e-07   0.7071066126227379  -0.0000001685638097   0.7071067811921239   0.0000000000055763\n",
      "2.38419e-07   0.7071066969074309  -0.0000000842791167   0.7071067811921239   0.0000000000055763\n",
      "1.19209e-07   0.7071067392826080  -0.0000000419039395   0.7071067811921239   0.0000000000055763\n",
      "5.96046e-08   0.7071067616343498  -0.0000000195521977   0.7071067821234465   0.0000000009368989\n",
      "2.98023e-08   0.7071067728102207  -0.0000000083763269   0.7071067802608013  -0.0000000009257463\n",
      "1.49012e-08   0.7071067765355110  -0.0000000046510366   0.7071067839860916   0.0000000027995440\n",
      "7.45058e-09   0.7071067839860916   0.0000000027995440   0.7071067839860916   0.0000000027995440\n",
      "3.72529e-09   0.7071067988872528   0.0000000177007052   0.7071067988872528   0.0000000177007052\n",
      "1.86265e-09   0.7071068286895752   0.0000000475030276   0.7071067690849304  -0.0000000121016172\n",
      "9.31323e-10   0.7071068286895752   0.0000000475030276   0.7071067094802856  -0.0000000717062619\n",
      "4.65661e-10   0.7071068286895752   0.0000000475030276   0.7071068286895752   0.0000000475030276\n",
      "2.32831e-10   0.7071070671081543   0.0000002859216067   0.7071070671081543   0.0000002859216067\n",
      "1.16415e-10   0.7071075439453125   0.0000007627587649   0.7071065902709961  -0.0000001909155515\n"
     ]
    }
   ],
   "source": [
    "from math import sin, sqrt, pi\n",
    "dx = 1.\n",
    "while(dx > 1.e-10):\n",
    "    x = pi/4.\n",
    "    d1 = sin(x+dx) - sin(x); #forward\n",
    "    d2 = sin(x+dx*0.5) - sin(x-dx*0.5); # midpoint\n",
    "    d1 = d1 / dx;\n",
    "    d2 = d2 / dx;\n",
    "    print(\"%8.5e %20.16f %20.16f %20.16f %20.16f\" % (dx, d1, d1-sqrt(2.)/2., d2, d2-sqrt(2.)/2.) )\n",
    "    dx = dx / 2."
   ]
  },
  {
   "cell_type": "markdown",
   "id": "b3604048",
   "metadata": {},
   "source": [
    "What do you notice? Which one does better?\n",
    "\n",
    "A more in-depth discussion about round-off errors in numerical differentiation can be found <a href=\"http://www.uio.no/studier/emner/matnat/math/MAT-INF1100/h10/kompendiet/kap11.pdf\">here</a>"
   ]
  },
  {
   "cell_type": "markdown",
   "id": "80c8b32c",
   "metadata": {},
   "source": [
    "# Autodiff\n",
    "\n",
    "Even better than numerical differentiation is automatic differentiation or *autodiff*, which is crucial to breakthroughs in machine learning.\n",
    "\n",
    "This is a technique that allows to evaluate the derivative of a function to machine precision, without the need to use finite differences, using the fact that autodiff package knows the analytical form of the derivative for certain functions. It then builds a computational graph that allows for the evaluation of the derivative of a function using the chain rule."
   ]
  },
  {
   "cell_type": "code",
   "execution_count": 5,
   "id": "f7665212",
   "metadata": {},
   "outputs": [
    {
     "name": "stdout",
     "output_type": "stream",
     "text": [
      "Requirement already satisfied: jax in /home/jim/anaconda3/envs/mlp_to_kan/lib/python3.13/site-packages (0.7.0)\n",
      "Requirement already satisfied: jaxlib in /home/jim/anaconda3/envs/mlp_to_kan/lib/python3.13/site-packages (0.7.0)\n",
      "Requirement already satisfied: ml_dtypes>=0.5.0 in /home/jim/anaconda3/envs/mlp_to_kan/lib/python3.13/site-packages (from jax) (0.5.1)\n",
      "Requirement already satisfied: numpy>=1.26 in /home/jim/anaconda3/envs/mlp_to_kan/lib/python3.13/site-packages (from jax) (2.3.1)\n",
      "Requirement already satisfied: opt_einsum in /home/jim/anaconda3/envs/mlp_to_kan/lib/python3.13/site-packages (from jax) (3.4.0)\n",
      "Requirement already satisfied: scipy>=1.12 in /home/jim/anaconda3/envs/mlp_to_kan/lib/python3.13/site-packages (from jax) (1.16.1)\n"
     ]
    }
   ],
   "source": [
    "!pip install jax jaxlib"
   ]
  },
  {
   "cell_type": "code",
   "execution_count": 6,
   "id": "7b482490",
   "metadata": {},
   "outputs": [],
   "source": [
    "import jax\n",
    "import jax.numpy as jnp"
   ]
  },
  {
   "cell_type": "code",
   "execution_count": 7,
   "id": "83b976eb",
   "metadata": {},
   "outputs": [],
   "source": [
    "def f(x):\n",
    "    return x**2\n"
   ]
  },
  {
   "cell_type": "code",
   "execution_count": 8,
   "id": "af1a8330",
   "metadata": {},
   "outputs": [],
   "source": [
    "grad_f = jax.grad(f)"
   ]
  },
  {
   "cell_type": "code",
   "execution_count": 9,
   "id": "79639020",
   "metadata": {},
   "outputs": [
    {
     "name": "stderr",
     "output_type": "stream",
     "text": [
      "WARNING:2025-09-23 09:43:49,252:jax._src.xla_bridge:872: An NVIDIA GPU may be present on this machine, but a CUDA-enabled jaxlib is not installed. Falling back to cpu.\n"
     ]
    },
    {
     "name": "stdout",
     "output_type": "stream",
     "text": [
      "The gradient of f at x = 13.0 is 26.0\n"
     ]
    }
   ],
   "source": [
    "x = 13.0\n",
    "print(f\"The gradient of f at x = {x} is {grad_f(x)}\")"
   ]
  },
  {
   "cell_type": "markdown",
   "id": "5e08c47c",
   "metadata": {},
   "source": [
    "Compare to finite difference"
   ]
  },
  {
   "cell_type": "code",
   "execution_count": 10,
   "id": "ce26ba0e",
   "metadata": {},
   "outputs": [
    {
     "name": "stdout",
     "output_type": "stream",
     "text": [
      " 1e+00  27.0000000000000000  25.0000000000000000\n",
      " 1e-01  26.0999999999998522  24.0999999999998522\n",
      " 1e-02  26.0099999999994225  24.0099999999994225\n",
      " 1e-03  26.0009999999795127  24.0009999999795127\n",
      " 1e-04  26.0000999998055704  24.0000999998055704\n",
      " 1e-05  26.0000099984836162  24.0000099984836162\n",
      " 1e-06  26.0000009859595558  24.0000009859595558\n",
      " 1e-07  25.9999998775128844  23.9999998775128844\n",
      " 1e-08  26.0000035723351139  24.0000035723351139\n",
      " 1e-09  26.0000092566769965  24.0000092566769965\n",
      " 1e-10  25.9998955698392749  23.9998955698392749\n"
     ]
    }
   ],
   "source": [
    "dx = 1.\n",
    "x = 13.\n",
    "while(dx > 1.e-10):\n",
    "    dy = (x+dx)*(x+dx)-x*x\n",
    "    d = dy / dx\n",
    "    print(\"%6.0e %20.16f %20.16f\" % (dx, d, d-2.))\n",
    "    dx = dx / 10."
   ]
  },
  {
   "cell_type": "code",
   "execution_count": 11,
   "id": "006115b6",
   "metadata": {},
   "outputs": [
    {
     "data": {
      "text/plain": [
       "Array(26., dtype=float32, weak_type=True)"
      ]
     },
     "execution_count": 11,
     "metadata": {},
     "output_type": "execute_result"
    }
   ],
   "source": [
    "grad_f(13.0)"
   ]
  },
  {
   "cell_type": "code",
   "execution_count": 12,
   "id": "0c049640",
   "metadata": {},
   "outputs": [],
   "source": [
    "def f_complicated(x):\n",
    "    return jnp.cos(jnp.sin(jnp.tanh(x)))"
   ]
  },
  {
   "cell_type": "code",
   "execution_count": 13,
   "id": "b5963552",
   "metadata": {},
   "outputs": [],
   "source": [
    "grad_fcomp = jax.grad(f_complicated)"
   ]
  },
  {
   "cell_type": "code",
   "execution_count": 14,
   "id": "735c32bc",
   "metadata": {},
   "outputs": [
    {
     "data": {
      "text/plain": [
       "Array(-0.00301054, dtype=float32, weak_type=True)"
      ]
     },
     "execution_count": 14,
     "metadata": {},
     "output_type": "execute_result"
    }
   ],
   "source": [
    "grad_fcomp(3.1415)"
   ]
  },
  {
   "cell_type": "markdown",
   "id": "9c0c9fbc",
   "metadata": {},
   "source": [
    "Some of the most complicated functions out there are called *neural networks* which can involve millions or billions of smaller functions or *neurons* in the composition. Autodiff also works on them, which is one of the crucial reasons there has been so much progress in AI in the last 10 years. \n",
    "\n",
    "Let's recall our simple neural network architecture that we studied prevously, a feedforward neural network of depth $3$. The equation defining the network is given by:\n",
    "\n",
    "$$\\mathbf{y} = \\mathbf{W}_3\\sigma(\\mathbf{W}_2\\sigma(\\mathbf{W}_1\\mathbf{x}+\\mathbf{b}_1)+\\mathbf{b}_2)+\\mathbf{b}_3$$\n",
    "\n",
    "where $\\mathbf{x}$ is the input vector, $\\mathbf{y}$ is the neural network prediction, $\\mathbf{W}_i$ and $\\mathbf{b}_i$ are the weight matrices and bias vectors of the network, and $\\sigma$ is the non-linear activation function. Recall that the weights and biases are the parameters that are updated when the network is trained to do something useful.\n",
    "\n",
    "So why is autodiff important here? This function looks complicated, but it's just a composition of affine transformations and elementwise non-linearities. We know the derivative of each of these functions, so we can use the chain rule to compute the derivative of the entire network, which is crucial for training. For functions that are compositions of many smaller functions, this is much more efficient than using finite differences and it has less error."
   ]
  },
  {
   "cell_type": "markdown",
   "id": "3bc6889e",
   "metadata": {},
   "source": [
    "# Ordinary differential equations\n",
    "\n",
    "Let’s consider a simple 1st order equation: \n",
    "\n",
    "$\\frac{dy}{dx}=f(x,y)$\n",
    "\n",
    "To solve this equation with a computer we need to **discretize** the differences: we\n",
    "have to convert the differential equation into a “**finite differences**” equation. The simplest\n",
    "solution is Euler’s method.\n",
    "\n",
    "## Euler’s method\n",
    "\n",
    "Supouse that at a point $x_0$, the function $f$ has a value $y_0$. We\n",
    "want to find the approximate value of $y$ in a point $x_1$ close to\n",
    "$x_0$, $x_1=x_0+\\Delta x$, with $\\Delta x$ small. We assume that $f$,\n",
    "the rate of change of $y$, is constant in this interval $\\Delta x$.\n",
    "Therefore we find: \n",
    "\n",
    "$dx \\approx \\Delta x =x_1-x_0\\\\$\n",
    "$dy \\approx \\Delta y =y_1-y_0$\n",
    " \n",
    "with $y_1=y(x_1)=y(x_0+\\Delta x)$. Then we re-write the differential equation in terms of discrete differences as:\n",
    "\n",
    "$\\frac{\\Delta y}{\\Delta x}=f(x,y)$ \n",
    "\n",
    "or \n",
    "\n",
    "$\\Delta y = f(x,y)\\Delta x$\n",
    "\n",
    "and approximate the value of $y_1$ as\n",
    "$y_1=y_0+f(x_0,y_0)(x_1-x_0)$.\n",
    "\n",
    "We can generalize this formula to find\n",
    "the value of $y$ at $x_2=x_1+\\Delta x$ as\n",
    "\n",
    "$y_{2}=y_1+f(x_1,y_1)\\Delta x,$ \n",
    "\n",
    "or in the general case:\n",
    "\n",
    "$y_{n+1}=y_n+f(x_n,y_n)\\Delta x$\n",
    "\n",
    "This is a good approximation as long as $\\Delta x$ is “small”. What is\n",
    "small? Depends on the problem, but it is basically defined by the “rate\n",
    "of change”, or “smoothness” of $f$. $f(x)$ has to behave smoothly and\n",
    "without rapid variations in the interval $\\Delta x$.\n",
    "\n",
    "Notice that Euler’s method is equivalent to a 1st order Taylor expansion\n",
    "about the point $x_0$. "
   ]
  },
  {
   "cell_type": "markdown",
   "id": "9c36915a",
   "metadata": {},
   "source": [
    "### Exercise 1.1: Newton’s law of cooling \n",
    "\n",
    "If the temperature difference between an object and its surroundings is\n",
    "small, the rate of change of the temperature of the object is\n",
    "proportional to the temperature difference: $\\frac{dT}{dt}=-r(T-T_s),$\n",
    "where $T$ is the temperature of the body, $T_s$ is the temperature of\n",
    "the environment, and $r$ is a “cooling constant” that depends on the\n",
    "heat transfer mechanism, the contact area with the environment and the\n",
    "thermal properties of the body. The minus sign appears because if\n",
    "$T>T_s$, the temperature must decrease.\n",
    "\n",
    "Write a program to calculate the temperature of a body at a time $t$,\n",
    "given the cooling constant $r$ and the temperature of the body at time\n",
    "$t=0$. Plot the results for $r=0.1\\frac{1}{min}$; $T_s=83^{\\circ} C$, $T_0=10^{\\circ}$\n",
    "using different intervals $\\Delta t$ and compare with exact (analytical)\n",
    "results."
   ]
  },
  {
   "cell_type": "code",
   "execution_count": 15,
   "id": "98045a53",
   "metadata": {},
   "outputs": [],
   "source": [
    "T0 = 10.   # initial temperature\n",
    "Ts = 83.   # temp. of the environment\n",
    "r = 0.1    # cooling rate\n",
    "dt = 0.05  # time step\n",
    "tmax = 60. # maximum time\n",
    "nsteps = int(tmax/dt)  # number of steps"
   ]
  },
  {
   "cell_type": "code",
   "execution_count": 16,
   "id": "5f1b01c6",
   "metadata": {},
   "outputs": [
    {
     "name": "stdout",
     "output_type": "stream",
     "text": [
      "100.000000000000000000  5.000000000000000000  38.778758136176847415\n",
      "200.000000000000000000  10.000000000000000000  56.212079013989772136\n",
      "300.000000000000000000  15.000000000000000000  66.772669411625400926\n",
      "400.000000000000000000  20.000000000000000000  73.169962866400993562\n",
      "500.000000000000000000  25.000000000000000000  77.045254114859673678\n",
      "600.000000000000000000  30.000000000000000000  79.392790985967252482\n",
      "700.000000000000000000  35.000000000000000000  80.814859421056084443\n",
      "800.000000000000000000  40.000000000000000000  81.676306437699537355\n",
      "900.000000000000000000  45.000000000000000000  82.198145572985325202\n",
      "1000.000000000000000000  50.000000000000000000  82.514260293745351760\n",
      "1100.000000000000000000  55.000000000000000000  82.705753246121219036\n",
      "1200.000000000000000000  60.000000000000000000  82.821754015466851229\n"
     ]
    }
   ],
   "source": [
    "T = T0\n",
    "my_temp, my_time = [], [] # store temps and times\n",
    "for i in range(1,nsteps+1):\n",
    "    new_T = T - r*(T-Ts)*dt\n",
    "    T = new_T\n",
    "    my_time.append(i*dt)\n",
    "    my_temp.append(T)\n",
    "    if i%100 == 0: print ('{:20.18f}  {:20.18f}  {:20.18f}'.format(i,i*dt, T))\n",
    "    # we can also do T = T - r*(T-Ts)*dt\n",
    "    "
   ]
  },
  {
   "cell_type": "markdown",
   "id": "a8fe1b96",
   "metadata": {},
   "source": [
    "Let's try plotting the results. We first need to import the required libraries and methods"
   ]
  },
  {
   "cell_type": "code",
   "execution_count": 17,
   "id": "ffa6069d",
   "metadata": {},
   "outputs": [],
   "source": [
    "import numpy as np\n",
    "from matplotlib import pyplot as plt"
   ]
  },
  {
   "cell_type": "code",
   "execution_count": 18,
   "id": "8e3bcf55",
   "metadata": {},
   "outputs": [
    {
     "data": {
      "image/png": "[encoded data removed]",
      "text/plain": [
       "<Figure size 640x480 with 1 Axes>"
      ]
     },
     "metadata": {},
     "output_type": "display_data"
    }
   ],
   "source": [
    "plt.plot(my_time, my_temp, color='#003366', ls='-', lw=3)\n",
    "plt.xlabel('time')\n",
    "plt.ylabel('temperature');"
   ]
  },
  {
   "cell_type": "markdown",
   "id": "601ffb5f",
   "metadata": {},
   "source": [
    "Alternatively, and in order to re use code in future problems, we could have created a function."
   ]
  },
  {
   "cell_type": "code",
   "execution_count": 19,
   "id": "e495d383",
   "metadata": {},
   "outputs": [],
   "source": [
    "def euler(y, f, dx):\n",
    "    \"\"\"Computes y_new = y + f*dx\n",
    "    \n",
    "    Parameters\n",
    "    ----------\n",
    "    y  : float\n",
    "        old value of y_n at x_n\n",
    "    f  : float\n",
    "        first derivative f(x,y) evaluated at (x_n,y_n)\n",
    "    dx : float\n",
    "        x step\n",
    "    \"\"\"\n",
    "    \n",
    "    return y + f*dx"
   ]
  },
  {
   "cell_type": "code",
   "execution_count": 20,
   "id": "7c78a1c4",
   "metadata": {},
   "outputs": [],
   "source": [
    "T = T0\n",
    "for i in range(1,nsteps):\n",
    "    T = euler(T, -r*(T-Ts), dt)\n",
    "    my_temp[i] = T\n"
   ]
  },
  {
   "cell_type": "markdown",
   "id": "a8b0ee68",
   "metadata": {},
   "source": [
    "Actually, for this particularly simple case, calling a function may introduce unecessary overhead, but it is a an example that we will find useful for future applications. For a simple function like this we could have used a \"lambda\" function (more about lambda functions <a href=\"http://www.secnetix.de/olli/Python/lambda_functions.hawk\">here</a>)."
   ]
  },
  {
   "cell_type": "code",
   "execution_count": 21,
   "id": "2af2c668",
   "metadata": {},
   "outputs": [],
   "source": [
    "euler = lambda y, f, dx: y + f*dx "
   ]
  },
  {
   "cell_type": "markdown",
   "id": "a296da95",
   "metadata": {},
   "source": [
    "Now, let's study the effects of different time steps $dt$ on the convergence. We expect that as $dt$ gets small, the result gets better and better but it's slower and slower"
   ]
  },
  {
   "cell_type": "code",
   "execution_count": 22,
   "id": "9fdf2bc7",
   "metadata": {},
   "outputs": [
    {
     "data": {
      "image/png": "[encoded data removed]",
      "text/plain": [
       "<Figure size 640x480 with 1 Axes>"
      ]
     },
     "metadata": {},
     "output_type": "display_data"
    }
   ],
   "source": [
    "dt = 1.\n",
    "my_color = ['red', 'green', 'blue', 'black', 'magenta', 'cyan']\n",
    "for j in range(0,6):\n",
    "    nsteps = int(tmax/dt)    #the arrays will have different size for different time steps\n",
    "    my_time = np.linspace(dt,tmax,nsteps) \n",
    "    my_temp = np.zeros(nsteps)\n",
    "    T = T0\n",
    "    for i in range(0,nsteps):\n",
    "        T = euler(T, -r*(T-Ts), dt)\n",
    "        my_temp[i] = T\n",
    "        \n",
    "    plt.plot(my_time, my_temp, color=my_color[j], ls='-', lw=3, label=\"dt=\"+str(dt))\n",
    "    dt = dt/2.\n",
    "\n",
    "plt.xlabel('time');\n",
    "plt.ylabel('temperature');\n",
    "plt.legend()\n",
    "plt.xlim(8,10)\n",
    "plt.ylim(48,58);"
   ]
  },
  {
   "cell_type": "markdown",
   "id": "22728bf3",
   "metadata": {},
   "source": [
    "We see that the gap between the result gets smaller and smaller as $dt$ gets smaller and smaller. This problem is too simple to see the effect of $dt$ on computation time.\n",
    "\n",
    "But on theoretical grounds, how does computation time scale?"
   ]
  },
  {
   "cell_type": "markdown",
   "id": "c2b4d149",
   "metadata": {},
   "source": [
    "### Challenge 1.1\n",
    "\n",
    "To properly study convergence, one possibility it so look at the result at a given time, for different time steps. Modify the previous program to print the temperature at $t=10$ as a function of $\\Delta t$. "
   ]
  },
  {
   "cell_type": "code",
   "execution_count": 23,
   "id": "03ac52dc",
   "metadata": {},
   "outputs": [],
   "source": [
    "dt = 1.\n",
    "my_color = ['red', 'green', 'blue', 'black', 'magenta', 'cyan']\n",
    "dts, temp_at_t10s = [], []\n",
    "for j in range(0,15):\n",
    "    dts.append(dt)\n",
    "    nsteps = int(tmax/dt)    #the arrays will have different size for different time steps\n",
    "    my_time = np.linspace(dt,tmax,nsteps) \n",
    "    my_temp = np.zeros(nsteps)\n",
    "    T = T0\n",
    "    for i in range(0,nsteps):\n",
    "        T = euler(T, -r*(T-Ts), dt)\n",
    "        my_temp[i] = T\n",
    "        \n",
    "    t10_idx = np.where(my_time==10.)[0][0]\n",
    "    temp_at_t10s.append(my_temp[t10_idx])\n",
    "\n",
    "    dt = dt / 2"
   ]
  },
  {
   "cell_type": "code",
   "execution_count": 24,
   "id": "1e6492f4",
   "metadata": {},
   "outputs": [
    {
     "data": {
      "text/plain": [
       "<matplotlib.collections.PathCollection at 0x7ce0402063c0>"
      ]
     },
     "execution_count": 24,
     "metadata": {},
     "output_type": "execute_result"
    },
    {
     "data": {
      "image/png": "[encoded data removed]",
      "text/plain": [
       "<Figure size 640x480 with 1 Axes>"
      ]
     },
     "metadata": {},
     "output_type": "display_data"
    }
   ],
   "source": [
    "plt.scatter(dts, temp_at_t10s)"
   ]
  },
  {
   "cell_type": "markdown",
   "id": "3657d75a",
   "metadata": {},
   "source": [
    "This shows explicit convergence to a fixed value. We'd also like to see the temperature differents"
   ]
  },
  {
   "cell_type": "code",
   "execution_count": 25,
   "id": "bbef0863",
   "metadata": {},
   "outputs": [
    {
     "data": {
      "text/plain": [
       "<matplotlib.collections.PathCollection at 0x7cdffc37b250>"
      ]
     },
     "execution_count": 25,
     "metadata": {},
     "output_type": "execute_result"
    },
    {
     "data": {
      "image/png": "[encoded data removed]",
      "text/plain": [
       "<Figure size 640x480 with 1 Axes>"
      ]
     },
     "metadata": {},
     "output_type": "display_data"
    }
   ],
   "source": [
    "plt.xscale('log')\n",
    "plt.yscale('log')\n",
    "plt.scatter(dts[1:], [abs(temp_at_t10s[i] - temp_at_t10s[i-1]) for i in range(1, len(dts))])"
   ]
  },
  {
   "cell_type": "markdown",
   "id": "36bb518f",
   "metadata": {},
   "source": [
    "Such a beautiful line on a log-log scale tells us that the temperature difference for different dts scales as a power law. Let's find out what the exponent is by fitting a line to the data.\n"
   ]
  },
  {
   "cell_type": "code",
   "execution_count": 26,
   "id": "0a9616a6",
   "metadata": {},
   "outputs": [],
   "source": [
    "# fit line to data\n",
    "from scipy.optimize import curve_fit\n",
    "def func(x, a, b):\n",
    "    return a * x + b\n",
    "\n",
    "popt, pcov = curve_fit(func, np.log(dts[1:]), np.log([abs(temp_at_t10s[i] - temp_at_t10s[i-1]) for i in range(1, len(dts))]))"
   ]
  },
  {
   "cell_type": "code",
   "execution_count": 27,
   "id": "b720b86b",
   "metadata": {},
   "outputs": [
    {
     "data": {
      "text/plain": [
       "array([1.004452  , 0.32696688])"
      ]
     },
     "execution_count": 27,
     "metadata": {},
     "output_type": "execute_result"
    }
   ],
   "source": [
    "popt"
   ]
  },
  {
   "cell_type": "markdown",
   "id": "3eef8828",
   "metadata": {},
   "source": [
    "The slope being $1$ tells us the power law."
   ]
  },
  {
   "cell_type": "code",
   "execution_count": null,
   "id": "cc071c98",
   "metadata": {},
   "outputs": [],
   "source": []
  }
 ],
 "metadata": {
  "kernelspec": {
   "display_name": "mlp_to_kan",
   "language": "python",
   "name": "python3"
  },
  "language_info": {
   "codemirror_mode": {
    "name": "ipython",
    "version": 3
   },
   "file_extension": ".py",
   "mimetype": "text/x-python",
   "name": "python",
   "nbconvert_exporter": "python",
   "pygments_lexer": "ipython3",
   "version": "3.13.5"
  }
 },
 "nbformat": 4,
 "nbformat_minor": 5
}
