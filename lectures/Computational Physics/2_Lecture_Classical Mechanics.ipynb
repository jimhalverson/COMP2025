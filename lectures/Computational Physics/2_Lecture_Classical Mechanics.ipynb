{
    "cells": [
        {
            "cell_type": "code",
            "execution_count": null,
            "metadata": {},
            "outputs": [],
            "source": []
        },
        {
            "cell_type": "markdown",
            "metadata": {},
            "source": [
                "# Equations of motion (2nd order ODEs)\n",
                "\n",
                "We know that the motion of an object is determined by Newton’s\n",
                "equations. In the one-dimensional case, we can define the instantaneous\n",
                "position $y(t)$, velocity $v(t)$ and acceleration $a(t)$ of an object\n",
                "using the language of differential calculus: \n",
                "$$v(t)=\\frac{dy}{dt},\n",
                "a(t)=\\frac{dv}{dt}.\n",
                "$$ \n",
                "The motion of the particle is defined by:\n",
                "$\\frac{d^2y}{dt^2}=\\frac{F(t)}{m}$\n",
                "This is a second order differential\n",
                "equation that can written as two first order differential equations:\n",
                "$$\n",
                "\\frac{dv}{dt}=\\frac{F(t)}{m} \\\\\n",
                "\\frac{dy}{dt}v(t).$$ \n",
                "To solve it we can apply any of\n",
                "the methods described in the previous sections. If we pick Euler’s, we\n",
                "obtain: \n",
                "\n",
                "$$\n",
                "\\begin{align}\n",
                "v_{n+1}&=&v_n+\\frac{F(t)}{m}\\Delta t = v_n+a_n\\Delta t, \\\\\n",
                "y_{n+1}&=&y_n+v_n\\Delta t,\\end{align}$$ \n",
                "\n",
                "where $a_n=F(t)/m$.\n",
                "<!-- \n",
                "![forces1](figures/forces1.png).\n",
                "#### Forces acting on an object: a) moving upward b) falling. -->\n",
                "\n",
                "### Exercise 1.2: One dimensional motion\n",
                "Write a program to solve the 1d equations of motion for a falling\n",
                "object. Input values: \n",
                "- $y_0=y(t=0)$\n",
                "- $v_0=v(t=0)$. \n",
                "\n",
                "Compare results with\n",
                "different $\\Delta t$ and the exact solution. Plot $y(t)$ and $v(t)$. Use\n",
                "$y_0=10m$; $v_0=0$.\n"
            ]
        },
        {
            "cell_type": "markdown",
            "metadata": {},
            "source": [
                "This is a godd time to introduce the concept of **objects** and object oriented programming in Python. We will first define a class \"**particle**\""
            ]
        },
        {
            "cell_type": "code",
            "execution_count": null,
            "metadata": {},
            "outputs": [],
            "source": []
        },
        {
            "cell_type": "markdown",
            "metadata": {},
            "source": [
                "We are now in position for a free falling particle. Let's start with imports and initializations"
            ]
        },
        {
            "cell_type": "code",
            "execution_count": null,
            "metadata": {},
            "outputs": [],
            "source": []
        },
        {
            "cell_type": "markdown",
            "metadata": {},
            "source": [
                "Now we need a loop that solves the dynamics a long as the particle is above the ground."
            ]
        },
        {
            "cell_type": "code",
            "execution_count": null,
            "metadata": {},
            "outputs": [],
            "source": []
        },
        {
            "cell_type": "markdown",
            "metadata": {},
            "source": [
                "Let's plot the velocities and positions"
            ]
        },
        {
            "cell_type": "code",
            "execution_count": null,
            "metadata": {},
            "outputs": [],
            "source": []
        },
        {
            "cell_type": "markdown",
            "metadata": {},
            "source": [
                "### Exercise 1.3: Air resistance \n",
                "The form of the velocity-dependent force of the resistance of the air is\n",
                "given by $$F_d=kv$$ where $k$ is a parameter that depends on the\n",
                "properties of the medium and the shape of the object. Since $F$\n",
                "increases as $v$ increases, there is a limiting velocity at which\n",
                "$F_d=F_g=mg$ and the acceleration vanishes:\n",
                "\n",
                "$kv_t=mg \\Rightarrow v_t=\\frac{mg}{k}$\n",
                "\n",
                "In terms of the terminal speed,\n",
                "the force $F_d$ can be rewritten as $$F_d=mg(\\frac{v}{v_t}).$$ Hence,\n",
                "the net force on a falling object is: $$F=mg(1-\\frac{v}{v_t})$$\n",
                "\n",
                "Let's try a slightly different version of this problem where the force $F_d$ varies  with the square of the velocity $F_d=k_2 v^2.$ \n",
                "\n",
                "1.  Derive the net force on a falling object using this\n",
                "    expression, in units of the terminal velocity $v_t$\n",
                "\n",
                "2.  Compute the speed at which a pebble of mass $m=10^{-2}kg$ reaches\n",
                "    the ground if it’s dropped from rest at $y_0=50m$. Compare this\n",
                "    speed to that of a freely falling object under the same conditions.\n",
                "    Assume that the drag force is proportional to $v^2$ and the terminal\n",
                "    speed is $v_t=30m/s$\n",
                "\n",
                "See Mathematica notebook for the detailed solution to 2. The drag and freefall final velocities are 3.49057 and 3.19438, respectively."
            ]
        },
        {
            "cell_type": "markdown",
            "metadata": {},
            "source": [
                "The program will look pretty much identical to the previous one, but we need to introduce the drag force"
            ]
        },
        {
            "cell_type": "code",
            "execution_count": null,
            "metadata": {},
            "outputs": [],
            "source": []
        },
        {
            "cell_type": "code",
            "execution_count": null,
            "metadata": {},
            "outputs": [],
            "source": []
        },
        {
            "cell_type": "markdown",
            "metadata": {},
            "source": [
                "Now we want to ignore drag, which can effectively be done by sending\n",
                "\n",
                "$v_t \\to \\infty$"
            ]
        },
        {
            "cell_type": "code",
            "execution_count": null,
            "metadata": {},
            "outputs": [],
            "source": []
        },
        {
            "cell_type": "markdown",
            "metadata": {},
            "source": [
                "Of course, this physics is rather simple, but seeing the result come out so well in the numerical experiment helps give us confidence in them.\n",
                "\n",
                "We solved the diff eq directly via numerical techniques. However, for some problems with harder diff eqs it's not so easy, and different approaches are worth considering.\n",
                "\n",
                "### Question: how could you do this problem with a neural network?"
            ]
        },
        {
            "cell_type": "markdown",
            "metadata": {},
            "source": [
                "Two dimensional trajectories\n",
                "----------------------------\n",
                "\n",
                "In a 2d trajectory, the direction of the drag force is opposite to the\n",
                "speed vector ${\\bf v}$. Newton’s equations of motion for $x$ and $y$\n",
                "components are written $$\\begin{aligned}\n",
                "&& m\\frac{dv_x}{dt}=-F_{d,x}; \\\\\n",
                "&& m\\frac{dv_y}{dt}=-mg-F_{d,y};\\end{aligned}$$ Using $F_d=kv^2$,\n",
                "$v_x=v\\cos{\\theta}$ and $v_y=v\\sin{\\theta}$, we find $$\\begin{aligned}\n",
                "&& \\frac{dv_x}{dt}=-\\frac{k}{m}vv_x, \\\\ \n",
                "&& \\frac{dv_y}{dt}=-g-\\frac{k}{m}vv_y, \\end{aligned}$$ where\n",
                "$v^2=v_x^2+v_y^2$. Hence, we cannot calculate the vertical motion of the\n",
                "object without reference to the horizontal component.\n",
                "\n",
                "![forces2](figures/forces2.png)\n",
                "#### Object in a two dimensional trajectory under the effect of gravitational and dragging forces}\n",
                "\n",
                "\n",
                "### Exercise 1.7: Trajectory of a shot \n",
                "\n",
                "Modify your code so that the 2d trajectory of an object can be computed,\n",
                "and graphs of $y$ as a function of $x$ can be made.\n",
                "\n",
                "1.  As a check on your program, first neglect the effect of air\n",
                "    resistance so that you an compare to known results. Supouse that the\n",
                "    object is thrown and $t_0$ with an angle $\\theta _0$ with an initial\n",
                "    velocity $v_0=15$m/s. Vary $\\theta_0$ and show that the maximum\n",
                "    range occurs at $\\theta_0=45^{\\circ}$ Compare your result with the\n",
                "    exact value $v_0^2/g$\n",
                "\n",
                "2.  Consider the effects of air resistance. Compute the maximum range,\n",
                "    and the corresponding angle using $k/m=0.1$, $v_0=30$m/s.\n",
                "\n"
            ]
        },
        {
            "cell_type": "code",
            "execution_count": null,
            "metadata": {},
            "outputs": [],
            "source": []
        },
        {
            "cell_type": "code",
            "execution_count": null,
            "metadata": {},
            "outputs": [],
            "source": []
        },
        {
            "cell_type": "markdown",
            "metadata": {},
            "source": [
                "### Challenge 1.4: \n",
                "\n",
                "Modify the previous code to include the effect of drag resistance, and solve Exercise 1.7, part 2."
            ]
        },
        {
            "cell_type": "markdown",
            "metadata": {},
            "source": [
                "#### An introduction to animations with matplotlib"
            ]
        },
        {
            "cell_type": "code",
            "execution_count": null,
            "metadata": {},
            "outputs": [],
            "source": []
        },
        {
            "cell_type": "markdown",
            "metadata": {},
            "source": [
                "Stability\n",
                "---------\n",
                "\n",
                "A major consideration in integrating differential equations is the\n",
                "numerical stability of the algorithm used. Since we have replaced the\n",
                "differential equation by a difference equation, we know that our results\n",
                "will not be exact. Discrepancies will arise when using different step\n",
                "sizes, for instance. This is the “truncation error” and depends on the\n",
                "method employed. Other errors that do not originate in the method\n",
                "correspond to the roundoffs performed by the computer, since it does not\n",
                "work with real numbers, but with a finite number of digits determined by\n",
                "the hardware. These roundoff errors will accumulate and can become\n",
                "significant in some cases.\n",
                "\n",
                "In practice we determine the accuracy of our solutions by reducing the\n",
                "value of the step until the solutions unchanged at the desired level of\n",
                "accuracy.\n",
                "\n",
                "In addition to accuracy, another important factor is the stability of\n",
                "the algorithm. For instance, it may occur that the numerical results are\n",
                "very good for short times, but diverge from the “true” solution for\n",
                "longer times. Such an algorithm is said to be “unstable” for the\n",
                "particular problem.\n",
                "\n",
                "\n",
                "\n",
                "\n",
                "\n"
            ]
        },
        {
            "cell_type": "markdown",
            "metadata": {},
            "source": [
                "# Central Potential \n",
                "\n",
                "<div style=\"background-color: white;\">\n",
                "    <img src=\"figures/forces3.png\" alt=\"Image description\" />\n",
                "</div>\n",
                "\n",
                "#### An object of mass $m$ under the effects of a central force $F$.\n",
                "\n",
                "# Kepler’s problem\n",
                "\n",
                "The motion of the sun and the earth is an example of a two-body\n",
                "problem. This is a relatively simple problem that can be solved\n",
                "analytically (it interesting to notice here, however, that adding a new\n",
                "object to the problem, the moon for instance, make it completely\n",
                "intractable. This is the famous “three body problem”). We can assume\n",
                "that, to a good approximation, the sun is stationary and is a convenient\n",
                "origin of our coordinate system. This is equivalent to changing to a\n",
                "center of mass coordinate system, where most of the mass is\n",
                "concentrated in the sun. The problem can be reduced to an equivalent one\n",
                "body problem involving an object of reduced mass $\\mu$ given by\n",
                "\n",
                "$\\mu=\\frac{mM}{m+M}$\n",
                "\n",
                "Since the mass of the earth is\n",
                "$m=5.99\\times 10^{24}$ kg and the mass of the sun is\n",
                "$M=1.99\\times 10^{30}$ kg we find that for most practical purposes, the\n",
                "reduced mass of the earth-sun system is that of the earth. Hence, in the\n",
                "following we are going to consider the problem of a single particle of\n",
                "mass $m$ moving about a fixed center of force, which we take as the\n",
                "origin of the coordinate system. The gravitational force on the particle\n",
                "m is given by \n",
                "${\\mathbf F}=-\\frac{GMm}{r^3}{\\mathbf r},$\n",
                "where the\n",
                "vector ${\\mathbf r}$ is directed from $M$ to $m$, and $G$ is the\n",
                "gravitation constant \n",
                "$$G=6.67\\times 10^{-11} \\frac{m^3}{kg.s^2}$$\n",
                "The\n",
                "negative sign implies that the gravitational force is attractive, and\n",
                "decreases with the separation $r$. The gravitational force is a “central\n",
                "force”: its magnitude depends on the separation between the particles\n",
                "and its direction is along the line that connects them. The assumption\n",
                "is that the motion is confined to the $xy$ plane. The angular momentum\n",
                "${\\mathbf L}$ lies on the third direction $z$ and is a constant of\n",
                "motion, <span>*i.e.*</span> it is conserved:\n",
                "\n",
                "$$L_z=({\\mathbf r}\\times m{\\mathbf v})_z=m(xv_y-yv_x)=\\mathrm{const.}$$\n",
                "\n",
                "An additional constant of motion ins the total energy $E$ given by\n",
                "\n",
                "$$E=\\frac{1}{2}mv^2-\\frac{GmM}{r}$$\n",
                "\n",
                " If we fix the coordinate system in\n",
                "the sun, the equation of motion is\n",
                "\n",
                "$m\\frac{d^2{\\mathbf r}}{dt^2}=-\\frac{mMG}{r^3}{\\mathbf r}$\n",
                "\n",
                "For\n",
                "computational purposes it is convenient to write it down in cartesian\n",
                "components: $$\\begin{aligned}\n",
                "&& F_x=-\\frac{GMm}{r^2}\\cos{\\theta}=-\\frac{GMm}{r^3}x, \\\\\n",
                "&& F_y=-\\frac{GMm}{r^2}\\sin{\\theta}=-\\frac{GMm}{r^3}y.\\end{aligned}$$\n",
                "Hence, the equations of motions in cartesian coordinates are:\n",
                "$$\\begin{aligned}\n",
                "\n",
                "&& \\frac{d^2x}{dt}=-\\frac{GM}{r^3}x, \\\\\n",
                "&& \\frac{d^2y}{dt}=-\\frac{GM}{r^3}y, \\end{aligned}$$ \n",
                "\n",
                "where\n",
                "$r^2=x^2+y^2$. These are coupled differential equations, since each\n",
                "differential equation contains both $x$ and $y$.\n",
                "\n",
                "### Circular motion \n",
                "\n",
                "Since many planetary orbits are nearly circular, it is useful to obtain\n",
                "the condition for a circular orbit. In this case, the magnitude of the\n",
                "acceleration ${\\mathbf a}$ is related to the radius by\n",
                "\n",
                "$a=\\frac{v^2}{r}$\n",
                "\n",
                "where $v$ is the speed of the object. The\n",
                "acceleration is always directed toward the center. Hence\n",
                "\n",
                "$\\frac{mv^2}{r}=\\frac{mMG}{r^2}$\n",
                "\n",
                "or \n",
                "\n",
                "$v=(\\frac{MG}{r})^{1/2}.$\n",
                "\n",
                "This is a general condition for the circular orbit.\n",
                "We can also find the dependence of the period $T$ on the radius of a\n",
                "circular orbit. Using the relation \n",
                "\n",
                "$T=\\frac{2\\pi r}{v},$\n",
                "\n",
                "we obtain\n",
                "\n",
                "$T^2=\\frac{4\\pi^2r^3}{GM}$\n",
                "\n",
                "### Elliptical orbits \n",
                "\n",
                "An ellipse has two foci $F_1$ and $F_2$, and has the property that for\n",
                "any point the distance $F_1P+F_2P$ is a constant. It also has a\n",
                "horizontal semi-axis $a$ and a vertical $b$. It is common in astronomy\n",
                "to characterize an orbit by its “eccentricity” $e$, given by the ratio\n",
                "of the distance between the foci, and the length of the major axis $2a$.\n",
                "Since $F_1P+F_2P=2a$, it is easy to show that (consider a point $P$ at\n",
                "$x=0$,$y=b$) $$e=\\sqrt{1-\\frac{b^2}{a^2}},$$ with $0<e<1$. A special\n",
                "case is $a=b$ for which the ellipse reduces to a circle and $e=0$. The\n",
                "earth orbit has eccentricity $e=0.0167$.\n",
                "\n",
                "### Astronomical units \n",
                "It is useful to choose a system of units where the product $GM$ is of\n",
                "the order of unity. To describe the earth’s motion, the convention is to\n",
                "choose the earth’s semi-major axis as the unit of length, called\n",
                "“astronomical unit” (AU) and is $$1AU=1.496 \\times 10^{11}m.$$ The unit\n",
                "of time is taken to be “one year”, or $3.15 \\times 10^7$s. In these\n",
                "units, $T=1$yr, $a=1AU$, and we can write\n",
                "$$GM=\\frac{4\\pi ^2a^3}{T^2}=4\\pi ^2 AU^3/yr^2.$$\n",
                "\n",
                "### Exercise 2.1: Simulation of the orbit \n",
                "\n",
                "1.  Write a program to simulate motion in a central force field. Verify\n",
                "    the case of circular orbit using (in astronomical units) ($x_0=1$,\n",
                "    $y_0=0$ and $v_x(t=0)=0$. Use the condition (\\[circular\\] to\n",
                "    calculate $v_y(t=0)$ for a circular orbit. Choose a value of\n",
                "    $\\Delta \n",
                "    t$ such that to a good approximation the total energy $E$\n",
                "    is conserved. Is your value of $\\Delta t$ small enough to reproduce\n",
                "    the orbit over several periods?\n",
                "\n",
                "2.  Run the program for different sets of initial conditions $x_0$ and\n",
                "    $v_y(t=0)$ consistent with the condition for a circular orbit. Set\n",
                "    $y_0=0$ and $v_x(t=0)=0$. For each orbit, measure the radius and the\n",
                "    period to verify Kepler’s third law ($T^2/a^3=\\mathrm{const.}$).\n",
                "    Think of a simple condition which allows you to find the numerical\n",
                "    value of the period.\n",
                "\n",
                "3.  Show that Euler’s method does not shield stable orbits for the same\n",
                "    choice of $\\Delta t$ used in the previous items. Is it sufficient to\n",
                "    simply choose a smaller $\\Delta t$ or Euler’s method is no stable\n",
                "    for this dynamical system? Use the average velocity\n",
                "    $1/2(v_n+v_{n+1})$ to obtain $x_{n+1}$. Are the results any better?\n",
                "\n",
                "4.  Set $y_0=0$ and $v_x(t=0)=0$. By trial and error find several\n",
                "    choices of $x_0$ and $v_y(t=0)$ which yield coonvinient\n",
                "    elliptical orbits. Determine total energy, angular momentum,\n",
                "    semi-major and semi-nimor axes, eccentricity, and period for\n",
                "    each orbit.\n",
                "\n",
                "5.  You probably noticed that Euler’s algorithm with a fixed $\\Delta t$\n",
                "    breaks down if you get to close to the sun. How are you able to\n",
                "    visually confirm this? What is the cause of the failure of the\n",
                "    method? Think of a simple modification of your program that can\n",
                "    improve your results.\n",
                "\n"
            ]
        },
        {
            "cell_type": "code",
            "execution_count": null,
            "metadata": {},
            "outputs": [],
            "source": []
        },
        {
            "cell_type": "code",
            "execution_count": null,
            "metadata": {},
            "outputs": [],
            "source": []
        },
        {
            "cell_type": "code",
            "execution_count": null,
            "metadata": {},
            "outputs": [],
            "source": []
        },
        {
            "cell_type": "code",
            "execution_count": null,
            "metadata": {},
            "outputs": [],
            "source": []
        },
        {
            "cell_type": "markdown",
            "metadata": {},
            "source": [
                "### Challenge 2.1:\n",
                "\n",
                "Modify the previous code to:\n",
                "\n",
                "- Write the axis labels in the right units according to the previous discussion\n",
                "- Answer Exercise 2.1, parts 2-5\n",
                "- Modifly class particle2 to add a higher order method such as Runge-Kutta \n"
            ]
        },
        {
            "cell_type": "markdown",
            "metadata": {},
            "source": [
                "A mini solar system\n",
                "-------------------\n",
                "\n",
                "The presence of other planets implies that the total force on a planet\n",
                "is no longer a central force. Furthermore, since the orbits are not\n",
                "exactly on the same plane, the analysis must be extended to 3D. However,\n",
                "for simplicity, we are going to consider a two-dimensional solar system,\n",
                "with two planets in orbit around the sun.\n",
                "\n",
                "The equations of motion of the two planets of mass $m_1$ and $m_2$ can\n",
                "be written in vector form as $$\\begin{aligned}\n",
                "&& m_1\\frac{d^2 {\\mathbf r}_1}{dt^2}=-\\frac{m_1MG}{r_1^3}{\\mathbf \n",
                "r}_1+\\frac{m_1m_2G}{r_{21}^3}{\\mathbf r}_{21}, \\\\\n",
                "&& m_2\\frac{d^2 {\\mathbf r}_2}{dt^2}=-\\frac{m_2MG}{r_2^3}{\\mathbf \n",
                "r}_2+\\frac{m_1m_2G}{r_{21}^3}{\\mathbf r}_{21},\\end{aligned}$$ where\n",
                "${\\mathbf r}_1$ and ${\\mathbf r}_2$ are directed form the sun to the\n",
                "planets, and ${\\mathbf r}_{21}={\\mathbf r}_2-{\\mathbf r}_1$ is the\n",
                "vector from planet 1 to planet 2. This is a problem with no analytical\n",
                "solution, but its numerical solution can be obtained extending our\n",
                "previous analysis for the two-body problem.\n",
                "\n",
                "### Exercise 2.2: A three body problem \n",
                "\n",
                "Let us consider astronomical units, and values for the masses\n",
                "$m_1/M=0.001$ and $m_2/M=0.01$. Consider initial positions $r_1=1$ and\n",
                "$r_2=4/3$ and velocities ${\\mathbf v}_{1,2}=(0,\\sqrt{GM/r_{1,2}})$.\n",
                "\n",
                "1.  Write a program to calculate the trajectories of the two planets,\n",
                "    and plot them.\n",
                "\n",
                "2.  What would the shape and the periods of the orbits be if the don’t\n",
                "    interact? What is the qualitative effect of the interaction. Why is\n",
                "    one planet affected more by the interaction that the other? Are the\n",
                "    angular momentum and energy of planet 1 conserved? Is the total\n",
                "    momentum an energy of the two planets conserved?\n",
                "\n"
            ]
        },
        {
            "cell_type": "code",
            "execution_count": null,
            "metadata": {},
            "outputs": [],
            "source": []
        },
        {
            "cell_type": "code",
            "execution_count": null,
            "metadata": {},
            "outputs": [],
            "source": []
        },
        {
            "cell_type": "code",
            "execution_count": null,
            "metadata": {},
            "outputs": [],
            "source": []
        },
        {
            "cell_type": "markdown",
            "metadata": {},
            "source": [
                "In this particular case, since both planets do not interact, the individual energies are conserved."
            ]
        },
        {
            "cell_type": "markdown",
            "metadata": {},
            "source": [
                "### Challenge 2:2:\n",
                "\n",
                "Modify the previous code to introduce the gravitational interaction between planets, and repeat the calculations. Consider masses $m_1=0.1$ and $m_2=0.01$, and the initial positions ${\\bf r}_1=(1,0)$ and ${\\bf r}_2=(-3,0)$, with velocities corresponding to circular orbits. Plot the orbits for 5 periods, and the individual and total energies.\n"
            ]
        },
        {
            "cell_type": "code",
            "execution_count": null,
            "metadata": {
                "collapsed": true
            },
            "outputs": [],
            "source": []
        }
    ],
    "metadata": {
        "kernelspec": {
            "display_name": "COMP2025",
            "language": "python",
            "name": "python3"
        },
        "language_info": {
            "codemirror_mode": {
                "name": "ipython",
                "version": 3
            },
            "file_extension": ".py",
            "mimetype": "text/x-python",
            "name": "python",
            "nbconvert_exporter": "python",
            "pygments_lexer": "ipython3",
            "version": "-1.-1.-1"
        }
    },
    "nbformat": 4,
    "nbformat_minor": 1
}
