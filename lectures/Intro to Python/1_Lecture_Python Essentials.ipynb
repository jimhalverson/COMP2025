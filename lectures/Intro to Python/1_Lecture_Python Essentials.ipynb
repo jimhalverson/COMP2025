{
    "cells": [
        {
            "cell_type": "markdown",
            "id": "41f0662b",
            "metadata": {},
            "source": [
                "# Intro to Python: Essential Essentials\n",
                "\n",
                "Now that we've added the syllabus to our class GitHub repo and created a conda environment, it's time to get moving with our first python notebook. The overall goal is to learn all of the basics of python, with an emphasis on code transparency; efficiency comes later.\n",
                "\n",
                "We begin by installing some of the libraries we'll use in this section."
            ]
        },
        {
            "cell_type": "markdown",
            "id": "b2093492",
            "metadata": {},
            "source": [
                "## Basic data types"
            ]
        },
        {
            "cell_type": "markdown",
            "id": "e4872357",
            "metadata": {},
            "source": [
                "the essential data types in python are integers, floats, strings, and booleans. Let's play with them"
            ]
        },
        {
            "cell_type": "code",
            "execution_count": null,
            "id": "fa83a0ad",
            "metadata": {},
            "outputs": [],
            "source": []
        },
        {
            "cell_type": "code",
            "execution_count": null,
            "id": "4d35c45e",
            "metadata": {},
            "outputs": [],
            "source": []
        },
        {
            "cell_type": "code",
            "execution_count": null,
            "id": "1022adb4",
            "metadata": {},
            "outputs": [],
            "source": []
        },
        {
            "cell_type": "code",
            "execution_count": null,
            "id": "c409edcc",
            "metadata": {},
            "outputs": [],
            "source": []
        },
        {
            "cell_type": "code",
            "execution_count": null,
            "id": "1d3e558a",
            "metadata": {},
            "outputs": [],
            "source": []
        },
        {
            "cell_type": "code",
            "execution_count": null,
            "id": "4cdc7325",
            "metadata": {},
            "outputs": [],
            "source": []
        },
        {
            "cell_type": "code",
            "execution_count": null,
            "id": "62b2eb28",
            "metadata": {},
            "outputs": [],
            "source": []
        },
        {
            "cell_type": "code",
            "execution_count": null,
            "id": "00e4b49a",
            "metadata": {},
            "outputs": [],
            "source": []
        },
        {
            "cell_type": "code",
            "execution_count": null,
            "id": "4e20e278",
            "metadata": {},
            "outputs": [],
            "source": []
        },
        {
            "cell_type": "code",
            "execution_count": null,
            "id": "654729f4",
            "metadata": {},
            "outputs": [],
            "source": []
        },
        {
            "cell_type": "code",
            "execution_count": null,
            "id": "ee78b1f4",
            "metadata": {},
            "outputs": [],
            "source": []
        },
        {
            "cell_type": "markdown",
            "id": "4e6584d7",
            "metadata": {},
            "source": [
                "## Conditionals and Loops\n",
                "\n",
                "Conditionals are the bread and butter of programming. They allow us to make decisions based on the state of our program. The basic syntax is"
            ]
        },
        {
            "cell_type": "code",
            "execution_count": null,
            "id": "74e82f2e",
            "metadata": {},
            "outputs": [],
            "source": []
        },
        {
            "cell_type": "code",
            "execution_count": null,
            "id": "a6767bec",
            "metadata": {},
            "outputs": [],
            "source": []
        },
        {
            "cell_type": "markdown",
            "id": "0dab281b",
            "metadata": {},
            "source": [
                "Loops are also very important. They allow us to repeat a task many times."
            ]
        },
        {
            "cell_type": "code",
            "execution_count": null,
            "id": "0a44666e",
            "metadata": {},
            "outputs": [],
            "source": []
        },
        {
            "cell_type": "code",
            "execution_count": null,
            "id": "21027fc6",
            "metadata": {},
            "outputs": [],
            "source": []
        },
        {
            "cell_type": "code",
            "execution_count": null,
            "id": "10ef0950",
            "metadata": {},
            "outputs": [],
            "source": []
        },
        {
            "cell_type": "code",
            "execution_count": null,
            "id": "22c1b60c",
            "metadata": {},
            "outputs": [],
            "source": []
        },
        {
            "cell_type": "markdown",
            "id": "37464011",
            "metadata": {},
            "source": [
                "## Collections\n",
                "\n",
                "Essential types of collections are lists, tuples, dictionaries, and sets. We'll go through each of them."
            ]
        },
        {
            "cell_type": "code",
            "execution_count": null,
            "id": "483ae686",
            "metadata": {},
            "outputs": [],
            "source": []
        },
        {
            "cell_type": "code",
            "execution_count": null,
            "id": "8b4b858a",
            "metadata": {},
            "outputs": [],
            "source": []
        },
        {
            "cell_type": "code",
            "execution_count": null,
            "id": "fcbba70e",
            "metadata": {},
            "outputs": [],
            "source": []
        },
        {
            "cell_type": "code",
            "execution_count": null,
            "id": "45009366",
            "metadata": {},
            "outputs": [],
            "source": []
        },
        {
            "cell_type": "code",
            "execution_count": null,
            "id": "75352786",
            "metadata": {},
            "outputs": [],
            "source": []
        },
        {
            "cell_type": "code",
            "execution_count": null,
            "id": "5cc6cd96",
            "metadata": {},
            "outputs": [],
            "source": []
        },
        {
            "cell_type": "markdown",
            "id": "19bf51f8",
            "metadata": {},
            "source": [
                "You're a physicist and probably think sequences are cool."
            ]
        },
        {
            "cell_type": "code",
            "execution_count": null,
            "id": "a1a49993",
            "metadata": {},
            "outputs": [],
            "source": []
        },
        {
            "cell_type": "code",
            "execution_count": null,
            "id": "fd69af16",
            "metadata": {},
            "outputs": [],
            "source": []
        },
        {
            "cell_type": "markdown",
            "id": "7e529b36",
            "metadata": {},
            "source": [
                "This one is a little complicated because the variable refers to itself. But for ones that don't we have some clever tricks"
            ]
        },
        {
            "cell_type": "code",
            "execution_count": null,
            "id": "ff73ac55",
            "metadata": {},
            "outputs": [],
            "source": []
        },
        {
            "cell_type": "markdown",
            "id": "9e3bd364",
            "metadata": {},
            "source": [
                "Sets aren't subscriptable because they are unordered. But they are very useful for checking membership because they have O(1) lookup time.\n",
                "\n",
                "Lists, on the other hand, are ordered and subscriptable. But they have O(n) lookup time."
            ]
        },
        {
            "cell_type": "markdown",
            "id": "546d917f",
            "metadata": {},
            "source": [
                "# Plotting\n",
                "\n",
                "We need to learn how to plot stuff."
            ]
        },
        {
            "cell_type": "code",
            "execution_count": null,
            "id": "92b84e73",
            "metadata": {},
            "outputs": [],
            "source": []
        },
        {
            "cell_type": "code",
            "execution_count": null,
            "id": "860f2ecd",
            "metadata": {},
            "outputs": [],
            "source": []
        },
        {
            "cell_type": "markdown",
            "id": "ad2c6367",
            "metadata": {},
            "source": [
                "Other types of plots in matplotlib and seaborn are histograms, scatter plots, and 3D plots.\n",
                "\n",
                "Let's make a histogram of the normal distribution."
            ]
        },
        {
            "cell_type": "code",
            "execution_count": null,
            "id": "8d49b928",
            "metadata": {},
            "outputs": [],
            "source": []
        },
        {
            "cell_type": "markdown",
            "id": "4e54627f",
            "metadata": {},
            "source": [
                "# Scientific Computing Libraries\n",
                "\n",
                "Some essential scientific computing libraries in python are \n",
                "- [NumPy](https://numpy.org/): Numerical Python\n",
                "- [SciPy](https://www.scipy.org/): Scientific Python\n",
                "- [Matplotlib](https://matplotlib.org/): Plotting library\n",
                "- [Seaborn](https://seaborn.pydata.org/): Statistical data visualization\n",
                "- [Pandas](https://pandas.pydata.org/): Data analysis library\n",
                "- [SymPy](https://www.sympy.org/en/index.html): Symbolic Python\n",
                "\n",
                "You saw some of these utilized in the previous lecture, but in this lecture we'll introduce them a little more thoroughly."
            ]
        },
        {
            "cell_type": "markdown",
            "id": "b29a518b",
            "metadata": {},
            "source": [
                "# NumPy\n",
                "\n",
                "Numpy is the fundamental package for scientific computing in Python. It provides a multidimensional array object, various derived objects (such as masked arrays and matrices), and an assortment of routines for fast operations on arrays, including mathematical, logical, shape manipulation, sorting, selecting, I/O, discrete Fourier transforms, basic linear algebra, basic statistical operations, random simulation and much more."
            ]
        },
        {
            "cell_type": "code",
            "execution_count": null,
            "id": "861f8616",
            "metadata": {},
            "outputs": [],
            "source": []
        },
        {
            "cell_type": "markdown",
            "id": "cd15e165",
            "metadata": {},
            "source": [
                "## Numpy Essentials\n",
                "\n",
                "To get used to some of the operators, we'll create some random arrays. Functions that do this in numpy include `np.random.rand` and `np.random.randn`. The first creates an array of random numbers between 0 and 1, while the second creates an array of random numbers from a standard normal distribution.\n",
                "\n",
                "If you want to create an array of random integers, you can use `np.random.randint`. We'll use this for now to keep our math simpler."
            ]
        },
        {
            "cell_type": "code",
            "execution_count": null,
            "id": "756d27bc",
            "metadata": {},
            "outputs": [],
            "source": []
        },
        {
            "cell_type": "code",
            "execution_count": null,
            "id": "cbf65c9c",
            "metadata": {},
            "outputs": [],
            "source": []
        },
        {
            "cell_type": "markdown",
            "id": "146ba660",
            "metadata": {},
            "source": [
                "Let's do some basic operations"
            ]
        },
        {
            "cell_type": "code",
            "execution_count": null,
            "id": "c1df9a40",
            "metadata": {},
            "outputs": [],
            "source": []
        },
        {
            "cell_type": "markdown",
            "id": "c4c5ec66",
            "metadata": {},
            "source": [
                "Note: it wasn't obvious, a priori, what to expect for division and multiplication, since these are vectors. However, we see that it does element-wise multiplication and division.\n",
                "\n",
                "This isn't something we normally do in standard linear algebra, so let's so some of that with some 2x2 matrices."
            ]
        },
        {
            "cell_type": "code",
            "execution_count": null,
            "id": "096aa86b",
            "metadata": {},
            "outputs": [],
            "source": []
        },
        {
            "cell_type": "markdown",
            "id": "ace2619c",
            "metadata": {},
            "source": [
                "We can always see the shape of an array with the `shape` attribute."
            ]
        },
        {
            "cell_type": "code",
            "execution_count": null,
            "id": "d4b5c719",
            "metadata": {},
            "outputs": [],
            "source": []
        },
        {
            "cell_type": "markdown",
            "id": "176ec6ff",
            "metadata": {},
            "source": [
                "Let's multiply"
            ]
        },
        {
            "cell_type": "code",
            "execution_count": null,
            "id": "483fdd5a",
            "metadata": {},
            "outputs": [],
            "source": []
        },
        {
            "cell_type": "code",
            "execution_count": null,
            "id": "3438e76d",
            "metadata": {},
            "outputs": [],
            "source": []
        },
        {
            "cell_type": "code",
            "execution_count": null,
            "id": "5c861748",
            "metadata": {},
            "outputs": [],
            "source": []
        },
        {
            "cell_type": "markdown",
            "id": "bba5d8cf",
            "metadata": {},
            "source": [
                "## Numpy Linear Algebra\n",
                "\n",
                "Ok, so we see the NumPy can do some linear algebra. What about some other operations?\n",
                "\n",
                "Some of the most essential operations in `np.linalg` are:\n",
                "- `np.linalg.inv`: Inverse of a matrix\n",
                "- `np.linalg.det`: Determinant of a matrix\n",
                "- `np.linalg.eig`: Eigenvalues and eigenvectors of a matrix\n",
                "- `np.linalg.solve`: Solve a linear system of equations\n",
                "\n",
                "We saw the first, let's see the rest"
            ]
        },
        {
            "cell_type": "code",
            "execution_count": null,
            "id": "5c1421fc",
            "metadata": {},
            "outputs": [],
            "source": []
        },
        {
            "cell_type": "code",
            "execution_count": null,
            "id": "107281bd",
            "metadata": {},
            "outputs": [],
            "source": []
        },
        {
            "cell_type": "code",
            "execution_count": null,
            "id": "f83200d6",
            "metadata": {},
            "outputs": [],
            "source": []
        },
        {
            "cell_type": "markdown",
            "id": "13c1259d",
            "metadata": {},
            "source": [
                "In this syntax `eigvecs[:,i]` means \"all rows, column i\". This is a common syntax in python, and is called \"slicing\". We'll see it again later.\n",
                "\n",
                "In the context of this eigenvalue problem, if we're not careful we can do the wrong thing, because eigvecs is a matrix and we need to be careful whether the rows or columns are the eigenvectors. Let's see what happens if we do the wrong thing."
            ]
        },
        {
            "cell_type": "code",
            "execution_count": null,
            "id": "0ecda1dc",
            "metadata": {},
            "outputs": [],
            "source": []
        },
        {
            "cell_type": "markdown",
            "id": "17864a60",
            "metadata": {},
            "source": [
                "We see these clearly don't match.\n",
                "\n",
                "So: just be careful. Simple tests can always help you sort things out"
            ]
        },
        {
            "cell_type": "markdown",
            "id": "c9ffa3e5",
            "metadata": {},
            "source": [
                "## Numpy Statistics\n",
                "\n",
                "Some of the essential statistical tools in numpy are in `np.random` and `np.linalg`. We'll see some of these in action. Some of the most essential functions are:\n",
                "- `np.random.rand`: Uniform random numbers in [0,1]\n",
                "- `np.random.randn`: Standard normal random numbers\n",
                "- `np.random.randint`: Random integers\n",
                "- `np.random.choice`: Random choice from an array\n",
                "- `np.random.shuffle`: Randomly shuffle an array\n",
                "- `np.random.seed`: Set the random seed\n",
                "- `np.mean`: Mean of an array\n",
                "- `np.std`: Standard deviation of an array\n",
                "- `np.var`: Variance of an array, which is the square of the standard deviation\n",
                "- `np.cov`: Covariance matrix of an array, which is a matrix of all pairwise covariances. The diagional part of the covariance matrix is the variance of each variable."
            ]
        },
        {
            "cell_type": "code",
            "execution_count": null,
            "id": "c7da5854",
            "metadata": {},
            "outputs": [],
            "source": []
        },
        {
            "cell_type": "code",
            "execution_count": null,
            "id": "8b837e84",
            "metadata": {},
            "outputs": [],
            "source": []
        },
        {
            "cell_type": "markdown",
            "id": "6a3ea178",
            "metadata": {},
            "source": [
                "Let's play with mean"
            ]
        },
        {
            "cell_type": "code",
            "execution_count": null,
            "id": "2ffed328",
            "metadata": {},
            "outputs": [],
            "source": []
        },
        {
            "cell_type": "markdown",
            "id": "ba9c6ccc",
            "metadata": {},
            "source": [
                "That's the mean of the whole thing! What if we want the mean of each row?"
            ]
        },
        {
            "cell_type": "code",
            "execution_count": null,
            "id": "836dfdea",
            "metadata": {},
            "outputs": [],
            "source": []
        },
        {
            "cell_type": "markdown",
            "id": "2ab126bb",
            "metadata": {},
            "source": [
                "And the mean of each column?"
            ]
        },
        {
            "cell_type": "code",
            "execution_count": null,
            "id": "642af94b",
            "metadata": {},
            "outputs": [],
            "source": []
        },
        {
            "cell_type": "markdown",
            "id": "adf494de",
            "metadata": {},
            "source": [
                "These shapes are the same, so be careful.\n",
                "\n",
                "A lot of the other functions take an axis argument in a similar way."
            ]
        },
        {
            "cell_type": "markdown",
            "id": "f65a7a8e",
            "metadata": {},
            "source": [
                "Let's check out choice"
            ]
        },
        {
            "cell_type": "code",
            "execution_count": null,
            "id": "badcdf93",
            "metadata": {},
            "outputs": [],
            "source": []
        }
    ],
    "metadata": {
        "kernelspec": {
            "display_name": "base",
            "language": "python",
            "name": "python3"
        },
        "language_info": {
            "codemirror_mode": {
                "name": "ipython",
                "version": 3
            },
            "file_extension": ".py",
            "mimetype": "text/x-python",
            "name": "python",
            "nbconvert_exporter": "python",
            "pygments_lexer": "ipython3",
            "version": "3.12.7"
        }
    },
    "nbformat": 4,
    "nbformat_minor": 5
}
