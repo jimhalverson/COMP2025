{
 "cells": [
  {
   "cell_type": "markdown",
   "id": "41f0662b",
   "metadata": {},
   "source": [
    "# Intro to Python: Essential Essentials\n",
    "\n",
    "Now that we've added the syllabus to our class GitHub repo and created a conda environment, it's time to get moving with our first python notebook. The overall goal is to learn all of the basics of python, with an emphasis on code transparency; efficiency comes later.\n",
    "\n",
    "We begin by installing some of the libraries we'll use in this section."
   ]
  },
  {
   "cell_type": "markdown",
   "id": "b2093492",
   "metadata": {},
   "source": [
    "## Basic data types"
   ]
  },
  {
   "cell_type": "markdown",
   "id": "e4872357",
   "metadata": {},
   "source": [
    "the essential data types in python are integers, floats, strings, and booleans. Let's play with them"
   ]
  },
  {
   "cell_type": "code",
   "execution_count": 26,
   "id": "fa83a0ad",
   "metadata": {},
   "outputs": [
    {
     "name": "stdout",
     "output_type": "stream",
     "text": [
      "1.2 1 hello world <class 'float'> <class 'int'> <class 'str'>\n"
     ]
    }
   ],
   "source": [
    "a = 1.2\n",
    "b = 1\n",
    "c = 'hello world'\n",
    "print(a,b,c,type(a),type(b),type(c))"
   ]
  },
  {
   "cell_type": "code",
   "execution_count": 27,
   "id": "4d35c45e",
   "metadata": {},
   "outputs": [],
   "source": [
    "a, b, c = 1.2, 1, 'hello world'"
   ]
  },
  {
   "cell_type": "code",
   "execution_count": 28,
   "id": "1022adb4",
   "metadata": {},
   "outputs": [
    {
     "data": {
      "text/plain": [
       "1"
      ]
     },
     "execution_count": 28,
     "metadata": {},
     "output_type": "execute_result"
    }
   ],
   "source": [
    "int(a)"
   ]
  },
  {
   "cell_type": "code",
   "execution_count": 29,
   "id": "c409edcc",
   "metadata": {},
   "outputs": [
    {
     "data": {
      "text/plain": [
       "1"
      ]
     },
     "execution_count": 29,
     "metadata": {},
     "output_type": "execute_result"
    }
   ],
   "source": [
    "int(1.8)"
   ]
  },
  {
   "cell_type": "code",
   "execution_count": 30,
   "id": "1d3e558a",
   "metadata": {},
   "outputs": [
    {
     "ename": "TypeError",
     "evalue": "can only concatenate str (not \"float\") to str",
     "output_type": "error",
     "traceback": [
      "\u001b[0;31m---------------------------------------------------------------------------\u001b[0m",
      "\u001b[0;31mTypeError\u001b[0m                                 Traceback (most recent call last)",
      "Cell \u001b[0;32mIn[30], line 1\u001b[0m\n\u001b[0;32m----> 1\u001b[0m c \u001b[38;5;241m+\u001b[39m a\n",
      "\u001b[0;31mTypeError\u001b[0m: can only concatenate str (not \"float\") to str"
     ]
    }
   ],
   "source": [
    "c + a"
   ]
  },
  {
   "cell_type": "code",
   "execution_count": 31,
   "id": "4cdc7325",
   "metadata": {},
   "outputs": [
    {
     "data": {
      "text/plain": [
       "'hello world1.2'"
      ]
     },
     "execution_count": 31,
     "metadata": {},
     "output_type": "execute_result"
    }
   ],
   "source": [
    "c + str(a)"
   ]
  },
  {
   "cell_type": "code",
   "execution_count": 32,
   "id": "62b2eb28",
   "metadata": {},
   "outputs": [
    {
     "data": {
      "text/plain": [
       "['hello', 'world,', 'how', 'are', 'you?']"
      ]
     },
     "execution_count": 32,
     "metadata": {},
     "output_type": "execute_result"
    }
   ],
   "source": [
    "c = 'hello world, how are you?'\n",
    "c.split(' ')"
   ]
  },
  {
   "cell_type": "code",
   "execution_count": 33,
   "id": "00e4b49a",
   "metadata": {},
   "outputs": [
    {
     "data": {
      "text/plain": [
       "['hell', ' w', 'rld, h', 'w are y', 'u?']"
      ]
     },
     "execution_count": 33,
     "metadata": {},
     "output_type": "execute_result"
    }
   ],
   "source": [
    "c.split('o')"
   ]
  },
  {
   "cell_type": "code",
   "execution_count": 34,
   "id": "4e20e278",
   "metadata": {},
   "outputs": [
    {
     "data": {
      "text/plain": [
       "'world,'"
      ]
     },
     "execution_count": 34,
     "metadata": {},
     "output_type": "execute_result"
    }
   ],
   "source": [
    "c.split(' ')[1]"
   ]
  },
  {
   "cell_type": "code",
   "execution_count": 35,
   "id": "654729f4",
   "metadata": {},
   "outputs": [
    {
     "data": {
      "text/plain": [
       "17"
      ]
     },
     "execution_count": 35,
     "metadata": {},
     "output_type": "execute_result"
    }
   ],
   "source": [
    "c.index('a')"
   ]
  },
  {
   "cell_type": "code",
   "execution_count": 36,
   "id": "ee78b1f4",
   "metadata": {},
   "outputs": [
    {
     "data": {
      "text/plain": [
       "'a'"
      ]
     },
     "execution_count": 36,
     "metadata": {},
     "output_type": "execute_result"
    }
   ],
   "source": [
    "c[17]"
   ]
  },
  {
   "cell_type": "markdown",
   "id": "4e6584d7",
   "metadata": {},
   "source": [
    "## Conditionals and Loops\n",
    "\n",
    "Conditionals are the bread and butter of programming. They allow us to make decisions based on the state of our program. The basic syntax is"
   ]
  },
  {
   "cell_type": "code",
   "execution_count": 37,
   "id": "74e82f2e",
   "metadata": {},
   "outputs": [
    {
     "name": "stdout",
     "output_type": "stream",
     "text": [
      "I know math!\n"
     ]
    }
   ],
   "source": [
    "if 7*7 == 49:\n",
    "    print(\"I know math!\")\n",
    "else:\n",
    "    print(\"I am not sure if I know math\")"
   ]
  },
  {
   "cell_type": "code",
   "execution_count": 38,
   "id": "a6767bec",
   "metadata": {},
   "outputs": [
    {
     "name": "stdout",
     "output_type": "stream",
     "text": [
      "I am in the quantum field theory class\n"
     ]
    }
   ],
   "source": [
    "course = \"qft\"\n",
    "if course == 'qft':\n",
    "    print(\"I am in the quantum field theory class\")\n",
    "elif course == 'statmech':\n",
    "    print(\"I am in the statistical mechanics class\")\n",
    "elif course == 'comp':\n",
    "    print(\"I am in the computational physics class\")\n",
    "else:\n",
    "    print(\"I don't know what class I am in\")\n"
   ]
  },
  {
   "cell_type": "markdown",
   "id": "0dab281b",
   "metadata": {},
   "source": [
    "Loops are also very important. They allow us to repeat a task many times."
   ]
  },
  {
   "cell_type": "code",
   "execution_count": 39,
   "id": "0a44666e",
   "metadata": {},
   "outputs": [
    {
     "name": "stdout",
     "output_type": "stream",
     "text": [
      "285 285\n"
     ]
    }
   ],
   "source": [
    "counter, result = 0, 0\n",
    "while counter < 10:\n",
    "    result += counter**2 # result = result + counter**2\n",
    "    counter += 1\n",
    "print(result, 0**2 + 1**2 + 2**2 + 3**2 + 4**2 + 5**2 + 6**2 + 7**2 + 8**2 + 9**2)"
   ]
  },
  {
   "cell_type": "code",
   "execution_count": 40,
   "id": "21027fc6",
   "metadata": {},
   "outputs": [
    {
     "name": "stdout",
     "output_type": "stream",
     "text": [
      "0\n",
      "1\n",
      "2\n",
      "3\n"
     ]
    }
   ],
   "source": [
    "for i in range(4):\n",
    "    print(i)"
   ]
  },
  {
   "cell_type": "code",
   "execution_count": 41,
   "id": "10ef0950",
   "metadata": {},
   "outputs": [],
   "source": [
    "k = 5\n",
    "k += 1"
   ]
  },
  {
   "cell_type": "code",
   "execution_count": 42,
   "id": "22c1b60c",
   "metadata": {},
   "outputs": [
    {
     "name": "stdout",
     "output_type": "stream",
     "text": [
      "285\n"
     ]
    }
   ],
   "source": [
    "# let's do the above calculation with a for loop\n",
    "result = 0 \n",
    "for i in range(10):\n",
    "    result += i**2\n",
    "print(result)"
   ]
  },
  {
   "cell_type": "markdown",
   "id": "37464011",
   "metadata": {},
   "source": [
    "## Collections\n",
    "\n",
    "Essential types of collections are lists, tuples, dictionaries, and sets. We'll go through each of them."
   ]
  },
  {
   "cell_type": "code",
   "execution_count": 43,
   "id": "483ae686",
   "metadata": {},
   "outputs": [
    {
     "data": {
      "text/plain": [
       "(1, 1, 'physics')"
      ]
     },
     "execution_count": 43,
     "metadata": {},
     "output_type": "execute_result"
    }
   ],
   "source": [
    "a, b, c = [1,2,2,3], (1,2,2,3), {1,2,2,4} # these are of type list, tuple, set\n",
    "teachers = {'joe':'physics', 'jane':'math', 'jill':'english'}\n",
    "a[0], b[0], teachers['joe']\n"
   ]
  },
  {
   "cell_type": "code",
   "execution_count": 44,
   "id": "8b4b858a",
   "metadata": {},
   "outputs": [
    {
     "data": {
      "text/plain": [
       "1"
      ]
     },
     "execution_count": 44,
     "metadata": {},
     "output_type": "execute_result"
    }
   ],
   "source": [
    "b[0] # uh oh!"
   ]
  },
  {
   "cell_type": "code",
   "execution_count": 45,
   "id": "fcbba70e",
   "metadata": {},
   "outputs": [
    {
     "ename": "TypeError",
     "evalue": "'set' object is not subscriptable",
     "output_type": "error",
     "traceback": [
      "\u001b[0;31m---------------------------------------------------------------------------\u001b[0m",
      "\u001b[0;31mTypeError\u001b[0m                                 Traceback (most recent call last)",
      "Cell \u001b[0;32mIn[45], line 1\u001b[0m\n\u001b[0;32m----> 1\u001b[0m c[\u001b[38;5;241m0\u001b[39m]\n",
      "\u001b[0;31mTypeError\u001b[0m: 'set' object is not subscriptable"
     ]
    }
   ],
   "source": [
    "c[0]"
   ]
  },
  {
   "cell_type": "code",
   "execution_count": 46,
   "id": "45009366",
   "metadata": {},
   "outputs": [
    {
     "name": "stdout",
     "output_type": "stream",
     "text": [
      "1\n"
     ]
    }
   ],
   "source": [
    "print(list(c)[0])"
   ]
  },
  {
   "cell_type": "code",
   "execution_count": 47,
   "id": "75352786",
   "metadata": {},
   "outputs": [
    {
     "data": {
      "text/plain": [
       "10"
      ]
     },
     "execution_count": 47,
     "metadata": {},
     "output_type": "execute_result"
    }
   ],
   "source": [
    "[1,2,10,14][-2]"
   ]
  },
  {
   "cell_type": "code",
   "execution_count": 48,
   "id": "5cc6cd96",
   "metadata": {},
   "outputs": [
    {
     "name": "stdout",
     "output_type": "stream",
     "text": [
      "0 1 1\n",
      "1 2 4\n",
      "2 2 4\n",
      "3 3 9\n",
      "or try this\n",
      "1\n",
      "4\n",
      "4\n",
      "9\n"
     ]
    }
   ],
   "source": [
    "for idx, val in enumerate(a):\n",
    "    print(idx,val,val**2)\n",
    "\n",
    "print(\"or try this\")\n",
    "for val in a: print(val**2)"
   ]
  },
  {
   "cell_type": "markdown",
   "id": "19bf51f8",
   "metadata": {},
   "source": [
    "You're a physicist and probably think sequences are cool."
   ]
  },
  {
   "cell_type": "code",
   "execution_count": 49,
   "id": "a1a49993",
   "metadata": {},
   "outputs": [
    {
     "name": "stdout",
     "output_type": "stream",
     "text": [
      "[1, 1, 2]\n",
      "[1, 1, 2, 3]\n",
      "[1, 1, 2, 3, 5]\n",
      "[1, 1, 2, 3, 5, 8]\n",
      "[1, 1, 2, 3, 5, 8, 13]\n",
      "[1, 1, 2, 3, 5, 8, 13, 21]\n",
      "[1, 1, 2, 3, 5, 8, 13, 21, 34]\n",
      "[1, 1, 2, 3, 5, 8, 13, 21, 34, 55]\n",
      "[1, 1, 2, 3, 5, 8, 13, 21, 34, 55, 89]\n",
      "[1, 1, 2, 3, 5, 8, 13, 21, 34, 55, 89, 144]\n"
     ]
    }
   ],
   "source": [
    "fibonacci = [1,1]\n",
    "for i in range(10):\n",
    "    fibonacci.append(fibonacci[-1] + fibonacci[-2])\n",
    "    print(fibonacci)"
   ]
  },
  {
   "cell_type": "code",
   "execution_count": 50,
   "id": "fd69af16",
   "metadata": {},
   "outputs": [
    {
     "name": "stdout",
     "output_type": "stream",
     "text": [
      "[0, 1, 4, 9, 16, 25, 36, 49, 64, 81]\n"
     ]
    }
   ],
   "source": [
    "squares = []\n",
    "for i in range(10):\n",
    "    squares.append(i**2)\n",
    "print(squares)"
   ]
  },
  {
   "cell_type": "markdown",
   "id": "7e529b36",
   "metadata": {},
   "source": [
    "This one is a little complicated because the variable refers to itself. But for ones that don't we have some clever tricks"
   ]
  },
  {
   "cell_type": "code",
   "execution_count": 51,
   "id": "ff73ac55",
   "metadata": {},
   "outputs": [
    {
     "name": "stdout",
     "output_type": "stream",
     "text": [
      "[0, 1, 4, 9, 16, 25, 36, 49, 64, 81]\n"
     ]
    }
   ],
   "source": [
    "squares = [i**2 for i in range(10)]\n",
    "print(squares)"
   ]
  },
  {
   "cell_type": "markdown",
   "id": "9e3bd364",
   "metadata": {},
   "source": [
    "Sets aren't subscriptable because they are unordered. But they are very useful for checking membership because they have O(1) lookup time.\n",
    "\n",
    "Lists, on the other hand, are ordered and subscriptable. But they have O(n) lookup time."
   ]
  },
  {
   "cell_type": "markdown",
   "id": "546d917f",
   "metadata": {},
   "source": [
    "# Plotting\n",
    "\n",
    "We need to learn how to plot stuff."
   ]
  },
  {
   "cell_type": "code",
   "execution_count": 55,
   "id": "92b84e73",
   "metadata": {},
   "outputs": [
    {
     "data": {
      "text/plain": [
       "[<matplotlib.lines.Line2D at 0x756701eb1d00>]"
      ]
     },
     "execution_count": 55,
     "metadata": {},
     "output_type": "execute_result"
    },
    {
     "data": {
      "image/png": "[encoded data removed]",
      "text/plain": [
       "<Figure size 640x480 with 1 Axes>"
      ]
     },
     "metadata": {},
     "output_type": "display_data"
    }
   ],
   "source": [
    "xs = np.linspace(0,2*np.pi,100)\n",
    "ys = np.sin(xs)\n",
    "plt.plot(xs,ys)"
   ]
  },
  {
   "cell_type": "code",
   "execution_count": null,
   "id": "860f2ecd",
   "metadata": {},
   "outputs": [],
   "source": []
  },
  {
   "cell_type": "markdown",
   "id": "ad2c6367",
   "metadata": {},
   "source": [
    "Other types of plots in matplotlib and seaborn are histograms, scatter plots, and 3D plots.\n",
    "\n",
    "Let's make a histogram of the normal distribution."
   ]
  },
  {
   "cell_type": "code",
   "execution_count": 56,
   "id": "8d49b928",
   "metadata": {},
   "outputs": [
    {
     "data": {
      "text/plain": [
       "(array([1.43408555e-03, 1.43408555e-03, 5.01929942e-03, 7.52894913e-03,\n",
       "        1.57749410e-02, 3.22669249e-02, 5.05515156e-02, 8.96303468e-02,\n",
       "        1.27992135e-01, 2.11169097e-01, 2.59928006e-01, 3.10479521e-01,\n",
       "        3.68201465e-01, 3.99751347e-01, 3.91505355e-01, 3.64974772e-01,\n",
       "        3.02592051e-01, 2.25151431e-01, 1.74241394e-01, 1.04329724e-01,\n",
       "        6.48923711e-02, 3.58521387e-02, 2.15112832e-02, 9.68007746e-03,\n",
       "        4.30225665e-03, 2.86817110e-03, 7.17042775e-04, 1.07556416e-03,\n",
       "        0.00000000e+00, 3.58521387e-04]),\n",
       " array([-3.81437104, -3.53544765, -3.25652426, -2.97760087, -2.69867749,\n",
       "        -2.4197541 , -2.14083071, -1.86190732, -1.58298394, -1.30406055,\n",
       "        -1.02513716, -0.74621377, -0.46729038, -0.188367  ,  0.09055639,\n",
       "         0.36947978,  0.64840317,  0.92732656,  1.20624994,  1.48517333,\n",
       "         1.76409672,  2.04302011,  2.3219435 ,  2.60086688,  2.87979027,\n",
       "         3.15871366,  3.43763705,  3.71656044,  3.99548382,  4.27440721,\n",
       "         4.5533306 ]),\n",
       " <BarContainer object of 30 artists>)"
      ]
     },
     "execution_count": 56,
     "metadata": {},
     "output_type": "execute_result"
    },
    {
     "data": {
      "image/png": "[encoded data removed]",
      "text/plain": [
       "<Figure size 640x480 with 1 Axes>"
      ]
     },
     "metadata": {},
     "output_type": "display_data"
    }
   ],
   "source": [
    "# normal_data \n",
    "normal_data = np.random.normal(loc=0, scale=1, size=10000)\n",
    "plt.hist(normal_data, bins=30, density=True)"
   ]
  },
  {
   "cell_type": "markdown",
   "id": "4e54627f",
   "metadata": {},
   "source": [
    "# Scientific Computing Libraries\n",
    "\n",
    "Some essential scientific computing libraries in python are \n",
    "- [NumPy](https://numpy.org/): Numerical Python\n",
    "- [SciPy](https://www.scipy.org/): Scientific Python\n",
    "- [Matplotlib](https://matplotlib.org/): Plotting library\n",
    "- [Seaborn](https://seaborn.pydata.org/): Statistical data visualization\n",
    "- [Pandas](https://pandas.pydata.org/): Data analysis library\n",
    "- [SymPy](https://www.sympy.org/en/index.html): Symbolic Python\n",
    "\n",
    "You saw some of these utilized in the previous lecture, but in this lecture we'll introduce them a little more thoroughly."
   ]
  },
  {
   "cell_type": "markdown",
   "id": "b29a518b",
   "metadata": {},
   "source": [
    "# NumPy\n",
    "\n",
    "Numpy is the fundamental package for scientific computing in Python. It provides a multidimensional array object, various derived objects (such as masked arrays and matrices), and an assortment of routines for fast operations on arrays, including mathematical, logical, shape manipulation, sorting, selecting, I/O, discrete Fourier transforms, basic linear algebra, basic statistical operations, random simulation and much more."
   ]
  },
  {
   "cell_type": "code",
   "execution_count": null,
   "id": "861f8616",
   "metadata": {},
   "outputs": [],
   "source": [
    "import numpy as np"
   ]
  },
  {
   "cell_type": "markdown",
   "id": "cd15e165",
   "metadata": {},
   "source": [
    "## Numpy Essentials\n",
    "\n",
    "To get used to some of the operators, we'll create some random arrays. Functions that do this in numpy include `np.random.rand` and `np.random.randn`. The first creates an array of random numbers between 0 and 1, while the second creates an array of random numbers from a standard normal distribution.\n",
    "\n",
    "If you want to create an array of random integers, you can use `np.random.randint`. We'll use this for now to keep our math simpler."
   ]
  },
  {
   "cell_type": "code",
   "execution_count": null,
   "id": "756d27bc",
   "metadata": {},
   "outputs": [
    {
     "data": {
      "text/plain": [
       "array([6, 8, 7, 3, 8])"
      ]
     },
     "metadata": {},
     "output_type": "display_data"
    }
   ],
   "source": [
    "np.random.randint(0, 10, size=5) # 5 random integers between 0 and 10"
   ]
  },
  {
   "cell_type": "code",
   "execution_count": null,
   "id": "cbf65c9c",
   "metadata": {},
   "outputs": [
    {
     "name": "stdout",
     "output_type": "stream",
     "text": [
      "[9 6] [4 7]\n"
     ]
    }
   ],
   "source": [
    "a, b = np.random.randint(1, 10, size=2), np.random.randint(0, 10, size=2)\n",
    "print(a, b)"
   ]
  },
  {
   "cell_type": "markdown",
   "id": "146ba660",
   "metadata": {},
   "source": [
    "Let's do some basic operations"
   ]
  },
  {
   "cell_type": "code",
   "execution_count": null,
   "id": "c1df9a40",
   "metadata": {},
   "outputs": [
    {
     "name": "stdout",
     "output_type": "stream",
     "text": [
      "[13 13]\n",
      "[ 5 -1]\n",
      "[36 42]\n",
      "[2.25       0.85714286]\n"
     ]
    }
   ],
   "source": [
    "print(a+b)\n",
    "print(a-b)\n",
    "print(a*b)\n",
    "print(a/b)"
   ]
  },
  {
   "cell_type": "markdown",
   "id": "c4c5ec66",
   "metadata": {},
   "source": [
    "Note: it wasn't obvious, a priori, what to expect for division and multiplication, since these are vectors. However, we see that it does element-wise multiplication and division.\n",
    "\n",
    "This isn't something we normally do in standard linear algebra, so let's so some of that with some 2x2 matrices."
   ]
  },
  {
   "cell_type": "code",
   "execution_count": null,
   "id": "096aa86b",
   "metadata": {},
   "outputs": [
    {
     "name": "stdout",
     "output_type": "stream",
     "text": [
      "[[8 7]\n",
      " [7 6]]\n",
      "[[8 4]\n",
      " [1 8]]\n"
     ]
    }
   ],
   "source": [
    "a, b = np.random.randint(1, 10, size=(2,2)), np.random.randint(0, 10, size=(2,2))\n",
    "print(a)\n",
    "print(b)"
   ]
  },
  {
   "cell_type": "markdown",
   "id": "ace2619c",
   "metadata": {},
   "source": [
    "We can always see the shape of an array with the `shape` attribute."
   ]
  },
  {
   "cell_type": "code",
   "execution_count": null,
   "id": "d4b5c719",
   "metadata": {},
   "outputs": [
    {
     "data": {
      "text/plain": [
       "(2, 2)"
      ]
     },
     "metadata": {},
     "output_type": "display_data"
    }
   ],
   "source": [
    "a.shape"
   ]
  },
  {
   "cell_type": "markdown",
   "id": "176ec6ff",
   "metadata": {},
   "source": [
    "Let's multiply"
   ]
  },
  {
   "cell_type": "code",
   "execution_count": null,
   "id": "483fdd5a",
   "metadata": {},
   "outputs": [
    {
     "data": {
      "text/plain": [
       "array([[71, 88],\n",
       "       [62, 76]])"
      ]
     },
     "metadata": {},
     "output_type": "display_data"
    }
   ],
   "source": [
    "a@b # matrix multiplication"
   ]
  },
  {
   "cell_type": "code",
   "execution_count": null,
   "id": "3438e76d",
   "metadata": {},
   "outputs": [
    {
     "data": {
      "text/plain": [
       "array([[71, 88],\n",
       "       [62, 76]])"
      ]
     },
     "metadata": {},
     "output_type": "display_data"
    }
   ],
   "source": [
    "np.matmul(a, b) # matrix multiplication"
   ]
  },
  {
   "cell_type": "code",
   "execution_count": null,
   "id": "5c861748",
   "metadata": {},
   "outputs": [
    {
     "data": {
      "text/plain": [
       "array([[1., 0.],\n",
       "       [0., 1.]])"
      ]
     },
     "metadata": {},
     "output_type": "display_data"
    }
   ],
   "source": [
    "a@np.linalg.inv(a)"
   ]
  },
  {
   "cell_type": "markdown",
   "id": "bba5d8cf",
   "metadata": {},
   "source": [
    "## Numpy Linear Algebra\n",
    "\n",
    "Ok, so we see the NumPy can do some linear algebra. What about some other operations?\n",
    "\n",
    "Some of the most essential operations in `np.linalg` are:\n",
    "- `np.linalg.inv`: Inverse of a matrix\n",
    "- `np.linalg.det`: Determinant of a matrix\n",
    "- `np.linalg.eig`: Eigenvalues and eigenvectors of a matrix\n",
    "- `np.linalg.solve`: Solve a linear system of equations\n",
    "\n",
    "We saw the first, let's see the rest"
   ]
  },
  {
   "cell_type": "code",
   "execution_count": null,
   "id": "5c1421fc",
   "metadata": {},
   "outputs": [
    {
     "data": {
      "text/plain": [
       "-1.0"
      ]
     },
     "metadata": {},
     "output_type": "display_data"
    }
   ],
   "source": [
    "np.linalg.det(a)"
   ]
  },
  {
   "cell_type": "code",
   "execution_count": null,
   "id": "107281bd",
   "metadata": {},
   "outputs": [
    {
     "data": {
      "text/plain": [
       "EigResult(eigenvalues=array([14.07106781, -0.07106781]), eigenvectors=array([[ 0.75545395, -0.65520174],\n",
       "       [ 0.65520174,  0.75545395]]))"
      ]
     },
     "metadata": {},
     "output_type": "display_data"
    }
   ],
   "source": [
    "np.linalg.eig(a)"
   ]
  },
  {
   "cell_type": "code",
   "execution_count": null,
   "id": "f83200d6",
   "metadata": {},
   "outputs": [
    {
     "name": "stdout",
     "output_type": "stream",
     "text": [
      "Left: [10.63004383  9.21938813]\n",
      "Right: [10.63004383  9.21938813]\n",
      "Left: [ 0.04656375 -0.05368846]\n",
      "Right: [ 0.04656375 -0.05368846]\n"
     ]
    }
   ],
   "source": [
    "# check the eigenvectors \n",
    "eigvals, eigvecs = np.linalg.eig(a)\n",
    "for i in range(len(eigvals)):\n",
    "    print(\"Left:\", np.dot(a, eigvecs[:,i]))\n",
    "    print(\"Right:\", eigvals[i] * eigvecs[:,i])"
   ]
  },
  {
   "cell_type": "markdown",
   "id": "13c1259d",
   "metadata": {},
   "source": [
    "In this syntax `eigvecs[:,i]` means \"all rows, column i\". This is a common syntax in python, and is called \"slicing\". We'll see it again later.\n",
    "\n",
    "In the context of this eigenvalue problem, if we're not careful we can do the wrong thing, because eigvecs is a matrix and we need to be careful whether the rows or columns are the eigenvectors. Let's see what happens if we do the wrong thing."
   ]
  },
  {
   "cell_type": "code",
   "execution_count": null,
   "id": "0ecda1dc",
   "metadata": {},
   "outputs": [
    {
     "name": "stdout",
     "output_type": "stream",
     "text": [
      "Left: [1.45721945 1.35696724]\n",
      "Right: [10.63004383 -9.21938813]\n",
      "Left: [10.52979162  9.11913592]\n",
      "Right: [-0.04656375 -0.05368846]\n"
     ]
    }
   ],
   "source": [
    "eigvals, eigvecs = np.linalg.eig(a)\n",
    "for i in range(len(eigvals)):\n",
    "    print(\"Left:\", np.dot(a, eigvecs[i]))\n",
    "    print(\"Right:\", eigvals[i] * eigvecs[i])"
   ]
  },
  {
   "cell_type": "markdown",
   "id": "17864a60",
   "metadata": {},
   "source": [
    "We see these clearly don't match.\n",
    "\n",
    "So: just be careful. Simple tests can always help you sort things out"
   ]
  },
  {
   "cell_type": "markdown",
   "id": "c9ffa3e5",
   "metadata": {},
   "source": [
    "## Numpy Statistics\n",
    "\n",
    "Some of the essential statistical tools in numpy are in `np.random` and `np.linalg`. We'll see some of these in action. Some of the most essential functions are:\n",
    "- `np.random.rand`: Uniform random numbers in [0,1]\n",
    "- `np.random.randn`: Standard normal random numbers\n",
    "- `np.random.randint`: Random integers\n",
    "- `np.random.choice`: Random choice from an array\n",
    "- `np.random.shuffle`: Randomly shuffle an array\n",
    "- `np.random.seed`: Set the random seed\n",
    "- `np.mean`: Mean of an array\n",
    "- `np.std`: Standard deviation of an array\n",
    "- `np.var`: Variance of an array, which is the square of the standard deviation\n",
    "- `np.cov`: Covariance matrix of an array, which is a matrix of all pairwise covariances. The diagional part of the covariance matrix is the variance of each variable."
   ]
  },
  {
   "cell_type": "code",
   "execution_count": null,
   "id": "c7da5854",
   "metadata": {},
   "outputs": [
    {
     "name": "stdout",
     "output_type": "stream",
     "text": [
      "[[2 8 3]\n",
      " [9 3 7]\n",
      " [5 4 9]]\n"
     ]
    }
   ],
   "source": [
    "a = np.random.randint(1, 10, size=(3,3))\n",
    "print(a)"
   ]
  },
  {
   "cell_type": "code",
   "execution_count": null,
   "id": "8b837e84",
   "metadata": {},
   "outputs": [
    {
     "name": "stdout",
     "output_type": "stream",
     "text": [
      "[[2 8 3]\n",
      " [9 3 7]\n",
      " [5 4 9]]\n"
     ]
    }
   ],
   "source": [
    "np.random.shuffle(a)\n",
    "print(a)"
   ]
  },
  {
   "cell_type": "markdown",
   "id": "6a3ea178",
   "metadata": {},
   "source": [
    "Let's play with mean"
   ]
  },
  {
   "cell_type": "code",
   "execution_count": null,
   "id": "2ffed328",
   "metadata": {},
   "outputs": [
    {
     "data": {
      "text/plain": [
       "5.555555555555555"
      ]
     },
     "metadata": {},
     "output_type": "display_data"
    }
   ],
   "source": [
    "np.mean(a)"
   ]
  },
  {
   "cell_type": "markdown",
   "id": "ba9c6ccc",
   "metadata": {},
   "source": [
    "That's the mean of the whole thing! What if we want the mean of each row?"
   ]
  },
  {
   "cell_type": "code",
   "execution_count": null,
   "id": "836dfdea",
   "metadata": {},
   "outputs": [
    {
     "data": {
      "text/plain": [
       "array([4.33333333, 6.33333333, 6.        ])"
      ]
     },
     "metadata": {},
     "output_type": "display_data"
    }
   ],
   "source": [
    "np.mean(a, axis=1)"
   ]
  },
  {
   "cell_type": "markdown",
   "id": "2ab126bb",
   "metadata": {},
   "source": [
    "And the mean of each column?"
   ]
  },
  {
   "cell_type": "code",
   "execution_count": null,
   "id": "642af94b",
   "metadata": {},
   "outputs": [
    {
     "data": {
      "text/plain": [
       "array([5.33333333, 5.        , 6.33333333])"
      ]
     },
     "metadata": {},
     "output_type": "display_data"
    }
   ],
   "source": [
    "np.mean(a, axis=0)"
   ]
  },
  {
   "cell_type": "markdown",
   "id": "adf494de",
   "metadata": {},
   "source": [
    "These shapes are the same, so be careful.\n",
    "\n",
    "A lot of the other functions take an axis argument in a similar way."
   ]
  },
  {
   "cell_type": "markdown",
   "id": "f65a7a8e",
   "metadata": {},
   "source": [
    "Let's check out choice"
   ]
  },
  {
   "cell_type": "code",
   "execution_count": null,
   "id": "badcdf93",
   "metadata": {},
   "outputs": [
    {
     "name": "stdout",
     "output_type": "stream",
     "text": [
      "[4 3 4 2 3]\n",
      "[5 1 3 4 2]\n"
     ]
    }
   ],
   "source": [
    "a = np.array([1,2,3,4,5])\n",
    "print(np.random.choice(a,5))\n",
    "print(np.random.choice(a,5,replace=False)) # replace=False means no duplicates"
   ]
  }
 ],
 "metadata": {
  "kernelspec": {
   "display_name": "base",
   "language": "python",
   "name": "python3"
  },
  "language_info": {
   "codemirror_mode": {
    "name": "ipython",
    "version": 3
   },
   "file_extension": ".py",
   "mimetype": "text/x-python",
   "name": "python",
   "nbconvert_exporter": "python",
   "pygments_lexer": "ipython3",
   "version": "3.12.7"
  }
 },
 "nbformat": 4,
 "nbformat_minor": 5
}
