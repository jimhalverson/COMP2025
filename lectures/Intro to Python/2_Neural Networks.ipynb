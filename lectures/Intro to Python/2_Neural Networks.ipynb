{
    "cells": [
        {
            "cell_type": "markdown",
            "metadata": {},
            "source": [
                "# Neural Networks\n",
                "\n",
                "Neural networks are the workhorse of breakthroughs in machine learning in the last decade. The reason for this is that they are able to learn complex non-linear relationships between inputs and outputs. In this notebook, we will explore the basics of neural networks and how to implement them in Python.\n",
                "\n",
                "For simplicity, we'll use so-called fully connected deep neural networks. It sounds mysterious, but it's just a function, given by \n",
                "\n",
                "$y = f(x) = \\sigma(W_2 \\sigma(W_1 x + b_1) + b_2)$\n",
                "\n",
                "where $x$ is the input, $y$ is the output, $W_1$ and $W_2$ are matrices of weights, $b_1$ and $b_2$ are vectors of biases, and $\\sigma$ is a non-linear function called the activation function. The activation function is applied element-wise to its input.  The number of layers in the network is the depth of the network, and the number of neurons in each layer is the width of the network. The number of neurons in the input layer is the dimensionality of the input, and the number of neurons in the output layer is the dimensionality of the output.\n",
                "\n",
                "The weights and biases are the parameters of the neural network. When the neural network is initialized on your computer these are drawn randomly from a distribution, but the process of machine learning involves some optimization process on the parameters to achieve some goal -- winning at chess, generating fake images of galaxies, classifying phases of matter, etc etc.  Parameters that are not updated during learning are called hyperparameters. The depth and width of the network are hyperparameters in this example."
            ]
        },
        {
            "cell_type": "markdown",
            "metadata": {},
            "source": [
                "# Jax\n",
                "\n",
                "The libraries we'll use for neural networks are `jax` + `flax`. `jax` is a library for automatic differentiation and vectorization, and `flax` is a library for neural networks built on top of `jax`.  `jax` is a bit like `numpy` but with automatic differentiation.  Other very popular neural network libraries include `tensorflow` and `pytorch`.\n",
                "\n",
                "There are a few essential functions / features in jax that you have to get used to before you worry about neural networks. They are \n",
                "- `jax.numpy` which is a version of `numpy` that can be differentiated\n",
                "- `jax.vmap` which is a function that vectorizes a function\n",
                "- `jax.grad` which is a function that computes the gradient of a function\n",
                "- `jax.jit` which is a function that compiles a function for faster execution"
            ]
        },
        {
            "cell_type": "code",
            "execution_count": 1,
            "metadata": {},
            "outputs": [
                {
                    "name": "stdout",
                    "output_type": "stream",
                    "text": [
                        "Collecting jax\n",
                        "  Downloading jax-0.7.1-py3-none-any.whl.metadata (13 kB)\n",
                        "Collecting jaxlib\n",
                        "  Downloading jaxlib-0.7.1-cp313-cp313-macosx_11_0_arm64.whl.metadata (1.3 kB)\n",
                        "Collecting flax\n",
                        "  Downloading flax-0.11.2-py3-none-any.whl.metadata (11 kB)\n",
                        "Collecting ml_dtypes>=0.5.0 (from jax)\n",
                        "  Downloading ml_dtypes-0.5.3-cp313-cp313-macosx_10_13_universal2.whl.metadata (8.9 kB)\n",
                        "Requirement already satisfied: numpy>=1.26 in /opt/anaconda3/envs/COMP2025/lib/python3.13/site-packages (from jax) (2.3.2)\n",
                        "Collecting opt_einsum (from jax)\n",
                        "  Using cached opt_einsum-3.4.0-py3-none-any.whl.metadata (6.3 kB)\n",
                        "Requirement already satisfied: scipy>=1.12 in /opt/anaconda3/envs/COMP2025/lib/python3.13/site-packages (from jax) (1.16.1)\n",
                        "Collecting msgpack (from flax)\n",
                        "  Downloading msgpack-1.1.1-cp313-cp313-macosx_11_0_arm64.whl.metadata (8.4 kB)\n",
                        "Collecting optax (from flax)\n",
                        "  Downloading optax-0.2.5-py3-none-any.whl.metadata (7.5 kB)\n",
                        "Collecting orbax-checkpoint (from flax)\n",
                        "  Downloading orbax_checkpoint-0.11.25-py3-none-any.whl.metadata (2.3 kB)\n",
                        "Collecting tensorstore (from flax)\n",
                        "  Downloading tensorstore-0.1.76-cp313-cp313-macosx_11_0_arm64.whl.metadata (21 kB)\n",
                        "Collecting rich>=11.1 (from flax)\n",
                        "  Downloading rich-14.1.0-py3-none-any.whl.metadata (18 kB)\n",
                        "Requirement already satisfied: typing_extensions>=4.2 in /opt/anaconda3/envs/COMP2025/lib/python3.13/site-packages (from flax) (4.15.0)\n",
                        "Collecting PyYAML>=5.4.1 (from flax)\n",
                        "  Using cached PyYAML-6.0.2-cp313-cp313-macosx_11_0_arm64.whl.metadata (2.1 kB)\n",
                        "Collecting treescope>=0.1.7 (from flax)\n",
                        "  Downloading treescope-0.1.10-py3-none-any.whl.metadata (6.6 kB)\n",
                        "Collecting markdown-it-py>=2.2.0 (from rich>=11.1->flax)\n",
                        "  Downloading markdown_it_py-4.0.0-py3-none-any.whl.metadata (7.3 kB)\n",
                        "Requirement already satisfied: pygments<3.0.0,>=2.13.0 in /opt/anaconda3/envs/COMP2025/lib/python3.13/site-packages (from rich>=11.1->flax) (2.19.2)\n",
                        "Collecting mdurl~=0.1 (from markdown-it-py>=2.2.0->rich>=11.1->flax)\n",
                        "  Using cached mdurl-0.1.2-py3-none-any.whl.metadata (1.6 kB)\n",
                        "Collecting absl-py>=0.7.1 (from optax->flax)\n",
                        "  Using cached absl_py-2.3.1-py3-none-any.whl.metadata (3.3 kB)\n",
                        "Collecting chex>=0.1.87 (from optax->flax)\n",
                        "  Downloading chex-0.1.91-py3-none-any.whl.metadata (18 kB)\n",
                        "Collecting toolz>=1.0.0 (from chex>=0.1.87->optax->flax)\n",
                        "  Downloading toolz-1.0.0-py3-none-any.whl.metadata (5.1 kB)\n",
                        "Collecting etils[epath,epy] (from orbax-checkpoint->flax)\n",
                        "  Downloading etils-1.13.0-py3-none-any.whl.metadata (6.5 kB)\n",
                        "Requirement already satisfied: nest_asyncio in /opt/anaconda3/envs/COMP2025/lib/python3.13/site-packages (from orbax-checkpoint->flax) (1.6.0)\n",
                        "Collecting aiofiles (from orbax-checkpoint->flax)\n",
                        "  Downloading aiofiles-24.1.0-py3-none-any.whl.metadata (10 kB)\n",
                        "Collecting protobuf (from orbax-checkpoint->flax)\n",
                        "  Downloading protobuf-6.32.1-cp39-abi3-macosx_10_9_universal2.whl.metadata (593 bytes)\n",
                        "Collecting humanize (from orbax-checkpoint->flax)\n",
                        "  Downloading humanize-4.13.0-py3-none-any.whl.metadata (7.8 kB)\n",
                        "Collecting simplejson>=3.16.0 (from orbax-checkpoint->flax)\n",
                        "  Downloading simplejson-3.20.1-cp313-cp313-macosx_11_0_arm64.whl.metadata (3.3 kB)\n",
                        "Collecting fsspec (from etils[epath,epy]->orbax-checkpoint->flax)\n",
                        "  Downloading fsspec-2025.9.0-py3-none-any.whl.metadata (10 kB)\n",
                        "Collecting importlib_resources (from etils[epath,epy]->orbax-checkpoint->flax)\n",
                        "  Downloading importlib_resources-6.5.2-py3-none-any.whl.metadata (3.9 kB)\n",
                        "Requirement already satisfied: zipp in /opt/anaconda3/envs/COMP2025/lib/python3.13/site-packages (from etils[epath,epy]->orbax-checkpoint->flax) (3.23.0)\n",
                        "Downloading jax-0.7.1-py3-none-any.whl (2.8 MB)\n",
                        "\u001b[2K   \u001b[90m━━━━━━━━━━━━━━━━━━━━━━━━━━━━━━━━━━━━━━━━\u001b[0m \u001b[32m2.8/2.8 MB\u001b[0m \u001b[31m33.8 MB/s\u001b[0m  \u001b[33m0:00:00\u001b[0m\n",
                        "\u001b[?25hDownloading jaxlib-0.7.1-cp313-cp313-macosx_11_0_arm64.whl (57.7 MB)\n",
                        "\u001b[2K   \u001b[90m━━━━━━━━━━━━━━━━━━━━━━━━━━━━━━━━━━━━━━━━\u001b[0m \u001b[32m57.7/57.7 MB\u001b[0m \u001b[31m39.8 MB/s\u001b[0m  \u001b[33m0:00:01\u001b[0mm0:00:01\u001b[0m00:01\u001b[0m\n",
                        "\u001b[?25hDownloading flax-0.11.2-py3-none-any.whl (458 kB)\n",
                        "Downloading ml_dtypes-0.5.3-cp313-cp313-macosx_10_13_universal2.whl (663 kB)\n",
                        "\u001b[2K   \u001b[90m━━━━━━━━━━━━━━━━━━━━━━━━━━━━━━━━━━━━━━━━\u001b[0m \u001b[32m663.8/663.8 kB\u001b[0m \u001b[31m20.8 MB/s\u001b[0m  \u001b[33m0:00:00\u001b[0m\n",
                        "\u001b[?25hUsing cached PyYAML-6.0.2-cp313-cp313-macosx_11_0_arm64.whl (171 kB)\n",
                        "Downloading rich-14.1.0-py3-none-any.whl (243 kB)\n",
                        "Downloading markdown_it_py-4.0.0-py3-none-any.whl (87 kB)\n",
                        "Using cached mdurl-0.1.2-py3-none-any.whl (10.0 kB)\n",
                        "Downloading treescope-0.1.10-py3-none-any.whl (182 kB)\n",
                        "Downloading msgpack-1.1.1-cp313-cp313-macosx_11_0_arm64.whl (78 kB)\n",
                        "Using cached opt_einsum-3.4.0-py3-none-any.whl (71 kB)\n",
                        "Downloading optax-0.2.5-py3-none-any.whl (354 kB)\n",
                        "Using cached absl_py-2.3.1-py3-none-any.whl (135 kB)\n",
                        "Downloading chex-0.1.91-py3-none-any.whl (100 kB)\n",
                        "Downloading toolz-1.0.0-py3-none-any.whl (56 kB)\n",
                        "Downloading orbax_checkpoint-0.11.25-py3-none-any.whl (563 kB)\n",
                        "\u001b[2K   \u001b[90m━━━━━━━━━━━━━━━━━━━━━━━━━━━━━━━━━━━━━━━━\u001b[0m \u001b[32m563.1/563.1 kB\u001b[0m \u001b[31m20.0 MB/s\u001b[0m  \u001b[33m0:00:00\u001b[0m\n",
                        "\u001b[?25hDownloading simplejson-3.20.1-cp313-cp313-macosx_11_0_arm64.whl (75 kB)\n",
                        "Downloading tensorstore-0.1.76-cp313-cp313-macosx_11_0_arm64.whl (13.6 MB)\n",
                        "\u001b[2K   \u001b[90m━━━━━━━━━━━━━━━━━━━━━━━━━━━━━━━━━━━━━━━━\u001b[0m \u001b[32m13.6/13.6 MB\u001b[0m \u001b[31m41.3 MB/s\u001b[0m  \u001b[33m0:00:00\u001b[0meta \u001b[36m0:00:01\u001b[0m\n",
                        "\u001b[?25hDownloading aiofiles-24.1.0-py3-none-any.whl (15 kB)\n",
                        "Downloading etils-1.13.0-py3-none-any.whl (170 kB)\n",
                        "Downloading fsspec-2025.9.0-py3-none-any.whl (199 kB)\n",
                        "Downloading humanize-4.13.0-py3-none-any.whl (128 kB)\n",
                        "Downloading importlib_resources-6.5.2-py3-none-any.whl (37 kB)\n",
                        "Downloading protobuf-6.32.1-cp39-abi3-macosx_10_9_universal2.whl (426 kB)\n",
                        "Installing collected packages: treescope, toolz, simplejson, PyYAML, protobuf, opt_einsum, msgpack, ml_dtypes, mdurl, importlib_resources, humanize, fsspec, etils, aiofiles, absl-py, tensorstore, markdown-it-py, jaxlib, rich, jax, orbax-checkpoint, chex, optax, flax\n",
                        "\u001b[2K   \u001b[90m━━━━━━━━━━━━━━━━━━━━━━━━━━━━━━━━━━━━━━━━\u001b[0m \u001b[32m24/24\u001b[0m [flax]2m22/24\u001b[0m [optax]checkpoint]\n",
                        "\u001b[1A\u001b[2KSuccessfully installed PyYAML-6.0.2 absl-py-2.3.1 aiofiles-24.1.0 chex-0.1.91 etils-1.13.0 flax-0.11.2 fsspec-2025.9.0 humanize-4.13.0 importlib_resources-6.5.2 jax-0.7.1 jaxlib-0.7.1 markdown-it-py-4.0.0 mdurl-0.1.2 ml_dtypes-0.5.3 msgpack-1.1.1 opt_einsum-3.4.0 optax-0.2.5 orbax-checkpoint-0.11.25 protobuf-6.32.1 rich-14.1.0 simplejson-3.20.1 tensorstore-0.1.76 toolz-1.0.0 treescope-0.1.10\n"
                    ]
                }
            ],
            "source": [
                "!pip install jax jaxlib flax"
            ]
        },
        {
            "cell_type": "code",
            "execution_count": 2,
            "metadata": {},
            "outputs": [],
            "source": [
                "import jax.numpy as jnp\n",
                "from jax import grad, vmap, jit\n",
                "import math"
            ]
        },
        {
            "cell_type": "markdown",
            "metadata": {},
            "source": [
                "Let's check out `grad`, which we've seen previously."
            ]
        },
        {
            "cell_type": "code",
            "execution_count": 3,
            "metadata": {},
            "outputs": [
                {
                    "name": "stdout",
                    "output_type": "stream",
                    "text": [
                        "1.0\n"
                    ]
                }
            ],
            "source": [
                "grad_sin = grad(jnp.sin)\n",
                "print(grad_sin(2*math.pi))"
            ]
        },
        {
            "cell_type": "markdown",
            "metadata": {},
            "source": [
                "What if I want to compute the gradient of a function that takes a vector as input?  Let's try it out."
            ]
        },
        {
            "cell_type": "code",
            "execution_count": 4,
            "metadata": {},
            "outputs": [
                {
                    "name": "stdout",
                    "output_type": "stream",
                    "text": [
                        "[ 1.0000000e+00  7.0710677e-01 -4.3711388e-08 -7.0710677e-01\n",
                        " -4.3711388e-08]\n"
                    ]
                }
            ],
            "source": [
                "grad_vec_input = vmap(grad_sin)\n",
                "print(grad_vec_input(jnp.array([0., math.pi/4, math.pi/2, 3*math.pi/4, math.pi/2])))"
            ]
        },
        {
            "cell_type": "markdown",
            "metadata": {},
            "source": [
                "This demonstrates `vmap`, which is a function that vectorizes a function. Note I can't use it on a single input. Can I use it on a vector with a slightly different shape?"
            ]
        },
        {
            "cell_type": "code",
            "execution_count": 5,
            "metadata": {},
            "outputs": [
                {
                    "ename": "TypeError",
                    "evalue": "Gradient only defined for scalar-output functions. Output had shape: (1,).",
                    "output_type": "error",
                    "traceback": [
                        "\u001b[31m---------------------------------------------------------------------------\u001b[39m",
                        "\u001b[31mTypeError\u001b[39m                                 Traceback (most recent call last)",
                        "\u001b[36mCell\u001b[39m\u001b[36m \u001b[39m\u001b[32mIn[5]\u001b[39m\u001b[32m, line 1\u001b[39m\n\u001b[32m----> \u001b[39m\u001b[32m1\u001b[39m \u001b[38;5;28mprint\u001b[39m(\u001b[43mgrad_vec_input\u001b[49m\u001b[43m(\u001b[49m\u001b[43mjnp\u001b[49m\u001b[43m.\u001b[49m\u001b[43marray\u001b[49m\u001b[43m(\u001b[49m\u001b[43m[\u001b[49m\u001b[43m[\u001b[49m\u001b[32;43m0.\u001b[39;49m\u001b[43m]\u001b[49m\u001b[43m,\u001b[49m\u001b[43m \u001b[49m\u001b[43m[\u001b[49m\u001b[43mmath\u001b[49m\u001b[43m.\u001b[49m\u001b[43mpi\u001b[49m\u001b[43m/\u001b[49m\u001b[32;43m4\u001b[39;49m\u001b[43m]\u001b[49m\u001b[43m,\u001b[49m\u001b[43m \u001b[49m\u001b[43m[\u001b[49m\u001b[43mmath\u001b[49m\u001b[43m.\u001b[49m\u001b[43mpi\u001b[49m\u001b[43m/\u001b[49m\u001b[32;43m2\u001b[39;49m\u001b[43m]\u001b[49m\u001b[43m,\u001b[49m\u001b[43m[\u001b[49m\u001b[43m \u001b[49m\u001b[32;43m3\u001b[39;49m\u001b[43m*\u001b[49m\u001b[43mmath\u001b[49m\u001b[43m.\u001b[49m\u001b[43mpi\u001b[49m\u001b[43m/\u001b[49m\u001b[32;43m4\u001b[39;49m\u001b[43m]\u001b[49m\u001b[43m,\u001b[49m\u001b[43m \u001b[49m\u001b[43m[\u001b[49m\u001b[43mmath\u001b[49m\u001b[43m.\u001b[49m\u001b[43mpi\u001b[49m\u001b[43m/\u001b[49m\u001b[32;43m2\u001b[39;49m\u001b[43m]\u001b[49m\u001b[43m]\u001b[49m\u001b[43m)\u001b[49m\u001b[43m)\u001b[49m)\n",
                        "    \u001b[31m[... skipping hidden 11 frame]\u001b[39m\n",
                        "\u001b[36mFile \u001b[39m\u001b[32m/opt/anaconda3/envs/COMP2025/lib/python3.13/site-packages/jax/_src/api.py:502\u001b[39m, in \u001b[36m_check_scalar\u001b[39m\u001b[34m(x)\u001b[39m\n\u001b[32m    500\u001b[39m \u001b[38;5;28;01mif\u001b[39;00m \u001b[38;5;28misinstance\u001b[39m(aval, ShapedArray):\n\u001b[32m    501\u001b[39m   \u001b[38;5;28;01mif\u001b[39;00m aval.shape != ():\n\u001b[32m--> \u001b[39m\u001b[32m502\u001b[39m     \u001b[38;5;28;01mraise\u001b[39;00m \u001b[38;5;167;01mTypeError\u001b[39;00m(msg(\u001b[33mf\u001b[39m\u001b[33m\"\u001b[39m\u001b[33mhad shape: \u001b[39m\u001b[38;5;132;01m{\u001b[39;00maval.shape\u001b[38;5;132;01m}\u001b[39;00m\u001b[33m\"\u001b[39m))\n\u001b[32m    503\u001b[39m \u001b[38;5;28;01melse\u001b[39;00m:\n\u001b[32m    504\u001b[39m   \u001b[38;5;28;01mraise\u001b[39;00m \u001b[38;5;167;01mTypeError\u001b[39;00m(msg(\u001b[33mf\u001b[39m\u001b[33m\"\u001b[39m\u001b[33mhad abstract value \u001b[39m\u001b[38;5;132;01m{\u001b[39;00maval\u001b[38;5;132;01m}\u001b[39;00m\u001b[33m\"\u001b[39m))\n",
                        "\u001b[31mTypeError\u001b[39m: Gradient only defined for scalar-output functions. Output had shape: (1,)."
                    ]
                }
            ],
            "source": [
                "print(grad_vec_input(jnp.array([[0.], [math.pi/4], [math.pi/2],[ 3*math.pi/4], [math.pi/2]])))"
            ]
        },
        {
            "cell_type": "code",
            "execution_count": 6,
            "metadata": {},
            "outputs": [
                {
                    "name": "stdout",
                    "output_type": "stream",
                    "text": [
                        "[0.         0.70710677 1.         0.70710677 1.        ]\n"
                    ]
                }
            ],
            "source": [
                "squeezed_sin = lambda x: jnp.sin(x).squeeze()\n",
                "grad_vec_input_take2 = vmap(squeezed_sin)\n",
                "print(grad_vec_input_take2(jnp.array([[0.], [math.pi/4], [math.pi/2],[ 3*math.pi/4], [math.pi/2]])))"
            ]
        },
        {
            "cell_type": "markdown",
            "metadata": {},
            "source": [
                "What's the difference? One gives a scalar on this input, the other technically does not even though it has the same numbers in it. It's about the shape."
            ]
        },
        {
            "cell_type": "code",
            "execution_count": 7,
            "metadata": {},
            "outputs": [
                {
                    "data": {
                        "text/plain": [
                            "(5,)"
                        ]
                    },
                    "execution_count": 7,
                    "metadata": {},
                    "output_type": "execute_result"
                }
            ],
            "source": [
                "squeezed_sin(jnp.array([[0.], [math.pi/4], [math.pi/2],[ 3*math.pi/4], [math.pi/2]])).shape"
            ]
        },
        {
            "cell_type": "code",
            "execution_count": 8,
            "metadata": {},
            "outputs": [
                {
                    "data": {
                        "text/plain": [
                            "(5, 1)"
                        ]
                    },
                    "execution_count": 8,
                    "metadata": {},
                    "output_type": "execute_result"
                }
            ],
            "source": [
                "jnp.sin(jnp.array([[0.], [math.pi/4], [math.pi/2],[ 3*math.pi/4], [math.pi/2]])).shape"
            ]
        },
        {
            "cell_type": "markdown",
            "metadata": {},
            "source": [
                "The vmap knows what to do with the first index. It's the second index that is the issue here."
            ]
        },
        {
            "cell_type": "markdown",
            "metadata": {},
            "source": [
                "### A Toy Neural Network: Linear Regression\n",
                "\n",
                "A neural network is just a function with parameters!? That means we know them from middle school: \n",
                "\n",
                "$y=mx + b$ \n",
                "\n",
                "is a function with parameters. This is an extremely simple neural network, and we wish to remind ourselves of the basic training scheme, using `jax` to do linear regression.\n",
                "\n",
                "First we generate some noise data around the line\n",
                "\n",
                "$y=10 x + 4$"
            ]
        },
        {
            "cell_type": "code",
            "execution_count": 9,
            "metadata": {},
            "outputs": [
                {
                    "data": {
                        "text/plain": [
                            "<matplotlib.collections.PathCollection at 0x11cff7230>"
                        ]
                    },
                    "execution_count": 9,
                    "metadata": {},
                    "output_type": "execute_result"
                },
                {
                    "data": {
                        "image/png": "[encoded data removed]",
                        "text/plain": [
                            "<Figure size 320x240 with 1 Axes>"
                        ]
                    },
                    "metadata": {},
                    "output_type": "display_data"
                }
            ],
            "source": [
                "import numpy as np\n",
                "import matplotlib.pyplot as plt\n",
                "import matplotlib\n",
                "\n",
                "matplotlib.rcParams['figure.dpi'] = 50\n",
                "\n",
                "num_points = 25\n",
                "\n",
                "xs = np.random.normal(size=(num_points, 1))\n",
                "noise = np.random.normal(scale=.5, size=(num_points, 1))\n",
                "ys = 10 * xs + 4 + noise\n",
                "\n",
                "plt.scatter(xs,ys)"
            ]
        },
        {
            "cell_type": "markdown",
            "metadata": {},
            "source": [
                "Imagine that we didn't generate this data ourselves, instead that some experiment gave it to us. We want to fit a model to it. In this case we know \n",
                "\n",
                "$f(x) = mx + b$ \n",
                "\n",
                "is a good model, but a prior in an experimental setup we wouldn't know that. Still, let's proceed, by defining the model itself."
            ]
        },
        {
            "cell_type": "code",
            "execution_count": 10,
            "metadata": {},
            "outputs": [],
            "source": [
                "def f(theta, x):\n",
                "    m, b = theta\n",
                "    return m * x + b"
            ]
        },
        {
            "cell_type": "markdown",
            "metadata": {},
            "source": [
                "Now, for any specific values of $m$ and $b$, $f(x)$ makes predictions, and we want to know whether those predictions are good or bad relative to the ground truth values encoded in the variable `ys`. For that, we need a loss function, we'll use mean-squared error (MSE)."
            ]
        },
        {
            "cell_type": "code",
            "execution_count": 11,
            "metadata": {},
            "outputs": [],
            "source": [
                "def mse(theta, x, y):\n",
                "    return jnp.mean((y - f(theta, x))**2)"
            ]
        },
        {
            "cell_type": "markdown",
            "metadata": {},
            "source": [
                "We want to train this function to make better predictions, i.e. we want to move in parameter space to make the predictions better. For that, we use a gradient descent update."
            ]
        },
        {
            "cell_type": "code",
            "execution_count": 12,
            "metadata": {},
            "outputs": [],
            "source": [
                "def update(theta, x, y, lr = 0.1):\n",
                "    loss = mse(theta, x, y)\n",
                "    grad_loss = grad(mse)(theta, x, y)\n",
                "    new_params = theta - lr * grad_loss\n",
                "    return loss, new_params"
            ]
        },
        {
            "cell_type": "markdown",
            "metadata": {},
            "source": [
                "Now that we have our data, defined a parametric model that we want to model the data with, and defined a loss function, we can train the model. We'll do this in a loop, and plot the loss as a function of the number of training steps.\n",
                "\n",
                "This loop is the 'train loop.' It starts with the definition of an initial point in model space, i.e., an initial value for the parameters theta."
            ]
        },
        {
            "cell_type": "code",
            "execution_count": null,
            "metadata": {},
            "outputs": [],
            "source": []
        },
        {
            "cell_type": "code",
            "execution_count": 13,
            "metadata": {},
            "outputs": [
                {
                    "name": "stdout",
                    "output_type": "stream",
                    "text": [
                        "Loss at epoch 0 is 121.651\n",
                        "Loss at epoch 5 is 11.564\n",
                        "Loss at epoch 10 is 1.236\n",
                        "Loss at epoch 15 is 0.267\n",
                        "Loss at epoch 20 is 0.176\n",
                        "Loss at epoch 25 is 0.168\n",
                        "Loss at epoch 30 is 0.167\n",
                        "Loss at epoch 35 is 0.167\n",
                        "Loss at epoch 40 is 0.167\n",
                        "Loss at epoch 45 is 0.167\n",
                        "Loss at epoch 50 is 0.167\n"
                    ]
                },
                {
                    "data": {
                        "text/plain": [
                            "<matplotlib.collections.PathCollection at 0x11d7ee990>"
                        ]
                    },
                    "execution_count": 13,
                    "metadata": {},
                    "output_type": "execute_result"
                },
                {
                    "data": {
                        "image/png": "[encoded data removed]",
                        "text/plain": [
                            "<Figure size 320x240 with 1 Axes>"
                        ]
                    },
                    "metadata": {},
                    "output_type": "display_data"
                }
            ],
            "source": [
                "theta = jnp.array([0.,0.]) # let params be origin at init\n",
                "\n",
                "num_epochs, losses = 50, []\n",
                "for epoch in range(num_epochs+1):\n",
                "    loss, theta = update(theta, xs, ys)\n",
                "    if epoch % 5 == 0: print(f\"Loss at epoch {epoch} is {loss:.3f}\")\n",
                "    losses.append(loss)\n",
                "\n",
                "plt.xscale('log')\n",
                "plt.yscale('log')\n",
                "plt.scatter(list(range(num_epochs+1)), losses)"
            ]
        },
        {
            "cell_type": "markdown",
            "metadata": {},
            "source": [
                "Loss looks good. But is it the model we hoped for? Let's check the params."
            ]
        },
        {
            "cell_type": "code",
            "execution_count": 14,
            "metadata": {},
            "outputs": [
                {
                    "data": {
                        "text/plain": [
                            "Array([10.006496 ,  3.8947413], dtype=float32)"
                        ]
                    },
                    "execution_count": 14,
                    "metadata": {},
                    "output_type": "execute_result"
                }
            ],
            "source": [
                "theta"
            ]
        },
        {
            "cell_type": "markdown",
            "metadata": {},
            "source": [
                "### Toy Model: Mapping to Unit Circle\n",
                "\n"
            ]
        },
        {
            "cell_type": "markdown",
            "metadata": {},
            "source": [
                "Let's do another problem. We want to map a point in 2D to a point on the unit circle. This is a different sort of problem -- there isn't a 'ground truth' label that I'm trying to hit with my predictor. Instead, I'm trying to satisfy a constraint, that my function\n",
                "\n",
                "$f: \\mathbb{R}^2 \\rightarrow \\mathbb{R}^2$\n",
                "\n",
                "maps a point $x$ in the domain onto the unit circle. We'll impose this with a loss function\n",
                "\n",
                "$L = \\sum_i (f(x)\\cdot f(x) - 1)^2$\n",
                "\n",
                "Since $f$ is a model and therefore a function of parameters, $f=f_\\theta$, we want to find \n",
                "\n",
                "$\\theta^* = \\arg \\min_\\theta L(\\theta)$,\n",
                "\n",
                "the value that minimize the loss. \n",
                "\n",
                "Let's start with a linear model again, since it worked last time\n",
                "\n",
                "$f(x) = w \\cdot x$\n",
                "\n",
                "where $w$ and $x$ are now a matrix and vector, respectively.\n"
            ]
        },
        {
            "cell_type": "code",
            "execution_count": 15,
            "metadata": {},
            "outputs": [],
            "source": [
                "def model(theta, x): # x has shape bi, b for batch, i for R2\n",
                "    w, B = theta # w has shape ji, b has shape j\n",
                "    return jnp.einsum('ji,bi->bj', w, x) \n",
                "\n",
                "def unit_circle_loss(theta,x):\n",
                "    fx = model(theta,x)\n",
                "    return jnp.mean((jnp.linalg.norm(fx, axis=1) - 1)**2)\n",
                "\n",
                "def update(theta, x, lr=0.1):\n",
                "    w, B = theta\n",
                "    loss = unit_circle_loss(theta, x)\n",
                "    grad_loss_w, grad_loss_B = grad(unit_circle_loss)(theta, x)\n",
                "    new_params = [w - lr * grad_loss_w, B - lr * grad_loss_B]\n",
                "    return loss, new_params\n",
                "    "
            ]
        },
        {
            "cell_type": "code",
            "execution_count": 16,
            "metadata": {},
            "outputs": [
                {
                    "name": "stdout",
                    "output_type": "stream",
                    "text": [
                        "0.43862426\n",
                        "0.3853898\n",
                        "0.38047966\n",
                        "0.3800267\n",
                        "0.3799849\n",
                        "0.379981\n",
                        "0.37998065\n",
                        "0.37998062\n",
                        "0.37998062\n",
                        "0.37998065\n",
                        "0.37998065\n"
                    ]
                },
                {
                    "data": {
                        "text/plain": [
                            "<matplotlib.collections.PathCollection at 0x11e592990>"
                        ]
                    },
                    "execution_count": 16,
                    "metadata": {},
                    "output_type": "execute_result"
                },
                {
                    "data": {
                        "image/png": "[encoded data removed]",
                        "text/plain": [
                            "<Figure size 320x240 with 1 Axes>"
                        ]
                    },
                    "metadata": {},
                    "output_type": "display_data"
                }
            ],
            "source": [
                "theta = [jnp.array([[0.5,0.5],[0.5,0.5]]), jnp.array([0.5,0.5])]\n",
                "\n",
                "num_points = 37\n",
                "\n",
                "xs = np.random.normal(size=(num_points, 2))\n",
                "\n",
                "num_epochs, losses = 50, []\n",
                "\n",
                "for epoch in range(num_epochs+1):\n",
                "    loss, theta = update(theta, xs)\n",
                "    if epoch % 5 == 0: print(loss)\n",
                "    losses.append(loss)\n",
                "\n",
                "plt.xscale('log')\n",
                "plt.yscale('log')\n",
                "plt.scatter(list(range(num_epochs+1)), losses)"
            ]
        },
        {
            "cell_type": "markdown",
            "metadata": {},
            "source": [
                "So we see **a little** bit of improvement, but not that much really. We should be able to see that it's not that great with our naked eye!"
            ]
        },
        {
            "cell_type": "code",
            "execution_count": 17,
            "metadata": {},
            "outputs": [
                {
                    "data": {
                        "text/plain": [
                            "<matplotlib.collections.PathCollection at 0x11f780910>"
                        ]
                    },
                    "execution_count": 17,
                    "metadata": {},
                    "output_type": "execute_result"
                },
                {
                    "data": {
                        "image/png": "[encoded data removed]",
                        "text/plain": [
                            "<Figure size 320x240 with 1 Axes>"
                        ]
                    },
                    "metadata": {},
                    "output_type": "display_data"
                }
            ],
            "source": [
                "fx = model(theta, xs)\n",
                "plt.scatter(fx[:,0], fx[:,1])"
            ]
        },
        {
            "cell_type": "markdown",
            "metadata": {},
            "source": [
                "This is clearly not lying on the unit circle! It shouldn't surprise us, because this model is laughably simple and simply shouldn't be able to work for this problem.\n",
                "\n",
                "But what if we use a more powerful model, a non-trivial feedforward neural network?"
            ]
        },
        {
            "cell_type": "code",
            "execution_count": 18,
            "metadata": {},
            "outputs": [],
            "source": [
                "def model(theta,x): \n",
                "    w0, b0, w1, b1 = theta \n",
                "    z = jnp.einsum('ji, bi-> bj', w0, x) + b0 # preactivation\n",
                "    h = jnp.maximum(z, 0) # act with activation, ReLU (e.g. could choose tanh, arctan, etc. h is postactivation\n",
                "    output = jnp.einsum('ji, bi->bj', w1, h) + b1 \n",
                "    return output\n",
                "\n",
                "def update(theta, x, lr = 0.001):\n",
                "    w0, b0, w1, b1 = theta\n",
                "    loss = unit_circle_loss(theta, x)\n",
                "    grad_loss_w0, grad_loss_b0, grad_loss_w1, grad_loss_b1 = grad(unit_circle_loss)(theta, x)\n",
                "    new_params = [w0 - lr*grad_loss_w0, b0 - lr*grad_loss_b0, w1 - lr*grad_loss_w1, b1 - lr*grad_loss_b1]\n",
                "    return loss, new_params\n"
            ]
        },
        {
            "cell_type": "code",
            "execution_count": 19,
            "metadata": {},
            "outputs": [
                {
                    "data": {
                        "image/png": "[encoded data removed]",
                        "text/plain": [
                            "<Figure size 320x240 with 1 Axes>"
                        ]
                    },
                    "metadata": {},
                    "output_type": "display_data"
                }
            ],
            "source": [
                "num_points = 100\n",
                "xs = np.random.normal(size=(num_points, 2))\n",
                "d, width = xs.shape[1], 1024\n",
                "theta = [np.random.normal(scale=1, size=(width,d)), np.zeros(width), np.random.normal(scale=1, size=(2,width)), np.zeros(2)]\n",
                "\n",
                "fx = model(theta,xs) # using the untrained theta\n",
                "plt.scatter(fx[:,0], fx[:,1])\n",
                "plt.scatter(xs[:,0], xs[:,1])\n",
                "plt.show()\n"
            ]
        },
        {
            "cell_type": "code",
            "execution_count": 20,
            "metadata": {},
            "outputs": [
                {
                    "name": "stdout",
                    "output_type": "stream",
                    "text": [
                        "0 1206.4528\n"
                    ]
                },
                {
                    "data": {
                        "image/png": "[encoded data removed]",
                        "text/plain": [
                            "<Figure size 320x240 with 1 Axes>"
                        ]
                    },
                    "metadata": {},
                    "output_type": "display_data"
                },
                {
                    "name": "stdout",
                    "output_type": "stream",
                    "text": [
                        "1000 0.009833531\n"
                    ]
                },
                {
                    "data": {
                        "image/png": "[encoded data removed]",
                        "text/plain": [
                            "<Figure size 320x240 with 1 Axes>"
                        ]
                    },
                    "metadata": {},
                    "output_type": "display_data"
                },
                {
                    "name": "stdout",
                    "output_type": "stream",
                    "text": [
                        "2000 0.0036341702\n"
                    ]
                },
                {
                    "data": {
                        "image/png": "[encoded data removed]",
                        "text/plain": [
                            "<Figure size 320x240 with 1 Axes>"
                        ]
                    },
                    "metadata": {},
                    "output_type": "display_data"
                },
                {
                    "name": "stdout",
                    "output_type": "stream",
                    "text": [
                        "3000 0.0019558275\n"
                    ]
                },
                {
                    "data": {
                        "image/png": "[encoded data removed]",
                        "text/plain": [
                            "<Figure size 320x240 with 1 Axes>"
                        ]
                    },
                    "metadata": {},
                    "output_type": "display_data"
                },
                {
                    "name": "stdout",
                    "output_type": "stream",
                    "text": [
                        "4000 0.0012420097\n"
                    ]
                },
                {
                    "data": {
                        "image/png": "[encoded data removed]",
                        "text/plain": [
                            "<Figure size 320x240 with 1 Axes>"
                        ]
                    },
                    "metadata": {},
                    "output_type": "display_data"
                },
                {
                    "name": "stdout",
                    "output_type": "stream",
                    "text": [
                        "5000 0.0008514219\n"
                    ]
                },
                {
                    "data": {
                        "image/png": "[encoded data removed]",
                        "text/plain": [
                            "<Figure size 320x240 with 1 Axes>"
                        ]
                    },
                    "metadata": {},
                    "output_type": "display_data"
                },
                {
                    "name": "stdout",
                    "output_type": "stream",
                    "text": [
                        "6000 0.0006134972\n"
                    ]
                },
                {
                    "data": {
                        "image/png": "[encoded data removed]",
                        "text/plain": [
                            "<Figure size 320x240 with 1 Axes>"
                        ]
                    },
                    "metadata": {},
                    "output_type": "display_data"
                },
                {
                    "name": "stdout",
                    "output_type": "stream",
                    "text": [
                        "7000 0.00045705418\n"
                    ]
                },
                {
                    "data": {
                        "image/png": "[encoded data removed]",
                        "text/plain": [
                            "<Figure size 320x240 with 1 Axes>"
                        ]
                    },
                    "metadata": {},
                    "output_type": "display_data"
                },
                {
                    "name": "stdout",
                    "output_type": "stream",
                    "text": [
                        "8000 0.00034776403\n"
                    ]
                },
                {
                    "data": {
                        "image/png": "[encoded data removed]",
                        "text/plain": [
                            "<Figure size 320x240 with 1 Axes>"
                        ]
                    },
                    "metadata": {},
                    "output_type": "display_data"
                },
                {
                    "name": "stdout",
                    "output_type": "stream",
                    "text": [
                        "9000 0.00027018096\n"
                    ]
                },
                {
                    "data": {
                        "image/png": "[encoded data removed]",
                        "text/plain": [
                            "<Figure size 320x240 with 1 Axes>"
                        ]
                    },
                    "metadata": {},
                    "output_type": "display_data"
                },
                {
                    "name": "stdout",
                    "output_type": "stream",
                    "text": [
                        "10000 0.00021297013\n"
                    ]
                },
                {
                    "data": {
                        "image/png": "[encoded data removed]",
                        "text/plain": [
                            "<Figure size 320x240 with 1 Axes>"
                        ]
                    },
                    "metadata": {},
                    "output_type": "display_data"
                },
                {
                    "name": "stdout",
                    "output_type": "stream",
                    "text": [
                        "[Array(0.43862426, dtype=float32), Array(0.41638875, dtype=float32), Array(0.40258422, dtype=float32), Array(0.39401385, dtype=float32), Array(0.38869312, dtype=float32), Array(0.3853898, dtype=float32), Array(0.38333893, dtype=float32), Array(0.38206568, dtype=float32), Array(0.38127524, dtype=float32), Array(0.3807844, dtype=float32), Array(0.38047966, dtype=float32), Array(0.38029054, dtype=float32), Array(0.380173, dtype=float32), Array(0.3801001, dtype=float32), Array(0.38005483, dtype=float32), Array(0.3800267, dtype=float32), Array(0.38000923, dtype=float32), Array(0.3799984, dtype=float32), Array(0.37999168, dtype=float32), Array(0.3799875, dtype=float32), Array(0.3799849, dtype=float32), Array(0.3799833, dtype=float32), Array(0.37998226, dtype=float32), Array(0.37998164, dtype=float32), Array(0.37998128, dtype=float32), Array(0.379981, dtype=float32), Array(0.3799809, dtype=float32), Array(0.3799808, dtype=float32), Array(0.37998077, dtype=float32), Array(0.3799807, dtype=float32), Array(0.37998065, dtype=float32), Array(0.37998065, dtype=float32), Array(0.37998065, dtype=float32), Array(0.37998065, dtype=float32), Array(0.37998062, dtype=float32), Array(0.37998062, dtype=float32), Array(0.37998062, dtype=float32), Array(0.37998062, dtype=float32), Array(0.37998062, dtype=float32), Array(0.37998062, dtype=float32), Array(0.37998062, dtype=float32), Array(0.37998062, dtype=float32), Array(0.37998065, dtype=float32), Array(0.37998062, dtype=float32), Array(0.37998062, dtype=float32), Array(0.37998065, dtype=float32), Array(0.37998062, dtype=float32), Array(0.37998062, dtype=float32), Array(0.37998062, dtype=float32), Array(0.37998062, dtype=float32), Array(0.37998065, dtype=float32), Array(1206.4528, dtype=float32), Array(0.00983353, dtype=float32), Array(0.00363417, dtype=float32), Array(0.00195583, dtype=float32), Array(0.00124201, dtype=float32), Array(0.00085142, dtype=float32), Array(0.0006135, dtype=float32), Array(0.00045705, dtype=float32), Array(0.00034776, dtype=float32), Array(0.00027018, dtype=float32), Array(0.00021297, dtype=float32)]\n"
                    ]
                }
            ],
            "source": [
                "num_epochs, loss, thetas = 10000, [], []\n",
                "for epoch in range(num_epochs+1):\n",
                "    loss, theta = update(theta, xs)\n",
                "    if epoch % 1000 == 0: \n",
                "        thetas.append(theta)\n",
                "        losses.append(loss)\n",
                "        print(epoch, loss)\n",
                "        fx = model(thetas[-1], xs) \n",
                "        plt.scatter(fx[:,0], fx[:,1])\n",
                "        plt.scatter(xs[:,0], xs[:,1])\n",
                "        plt.show()\n",
                "\n",
                "print(losses)"
            ]
        },
        {
            "cell_type": "code",
            "execution_count": null,
            "metadata": {},
            "outputs": [],
            "source": []
        },
        {
            "cell_type": "markdown",
            "metadata": {},
            "source": [
                "Now: mapping things to the unit circle isnt the most useful thing in the world. But it's a good example of a problem that is hard to solve with a linear model, but easy to solve with a neural network.\n",
                "\n",
                "The point is that this map was *learned from a constraint*, and so you might use neural networks in other situations where you want to learn something satisfying a constraint, e.g. a solution to a diff eq.\n",
                "\n",
                "**Note:** All we plotted was train data. Does it generalize to other random draws?"
            ]
        },
        {
            "cell_type": "code",
            "execution_count": null,
            "metadata": {},
            "outputs": [
                {
                    "data": {
                        "text/plain": [
                            "<matplotlib.collections.PathCollection at 0x7f4710120b10>"
                        ]
                    },
                    "execution_count": 20,
                    "metadata": {},
                    "output_type": "execute_result"
                },
                {
                    "data": {
                        "image/png": "[encoded data removed]",
                        "text/plain": [
                            "<Figure size 320x240 with 1 Axes>"
                        ]
                    },
                    "metadata": {},
                    "output_type": "display_data"
                }
            ],
            "source": [
                "xs_test = np.random.normal(size=(num_points, 2))\n",
                "fx = model(thetas[-1], xs_test)\n",
                "plt.scatter(fx[:,0], fx[:,1])"
            ]
        },
        {
            "cell_type": "code",
            "execution_count": null,
            "metadata": {},
            "outputs": [],
            "source": []
        },
        {
            "cell_type": "code",
            "execution_count": null,
            "metadata": {},
            "outputs": [],
            "source": []
        },
        {
            "cell_type": "markdown",
            "metadata": {},
            "source": [
                "We see it's ok on test points, but not perfect. This is called \"generalization gap\" or \"generalization error.\" It's a measure of how well the model generalizes to new data.\n",
                "\n",
                "In ML, we try to not have generalization gap, by training longer, clever choices, better optimizers, etc. Experimentally, e.g., I saw arctan activation was better on test! But not as good on train."
            ]
        },
        {
            "cell_type": "markdown",
            "metadata": {},
            "source": []
        },
        {
            "cell_type": "markdown",
            "metadata": {},
            "source": []
        },
        {
            "cell_type": "markdown",
            "metadata": {},
            "source": []
        }
    ],
    "metadata": {
        "kernelspec": {
            "display_name": "COMP2025",
            "language": "python",
            "name": "python3"
        },
        "language_info": {
            "codemirror_mode": {
                "name": "ipython",
                "version": 3
            },
            "file_extension": ".py",
            "mimetype": "text/x-python",
            "name": "python",
            "nbconvert_exporter": "python",
            "pygments_lexer": "ipython3",
            "version": "3.13.5"
        },
        "orig_nbformat": 4
    },
    "nbformat": 4,
    "nbformat_minor": 2
}
