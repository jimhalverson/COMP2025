{
 "cells": [
  {
   "cell_type": "markdown",
   "id": "3f88f0bd",
   "metadata": {},
   "source": [
    "# Hackathon 4: Quantum Mechanics"
   ]
  },
  {
   "cell_type": "markdown",
   "id": "c2940d09",
   "metadata": {
    "vscode": {
     "languageId": "plaintext"
    }
   },
   "source": [
    "### **Title:** Two Slit Experiment\n",
    "\n",
    "*Abstract:* In the script script for the course we also have a code for the two-slit experiment, which unfortunately we did not get to in class. Try it in this hackathon but *do not use CoPilot* because it's easy enough to do without it and it would be closer in spirit to what might be on a quiz at the end of the month.\n",
    "\n",
    "I suggest if you do this modification that you start with the single-slit code and modify it to get two slits, and then analyze, see what works and what doesn't, etc."
   ]
  },
  {
   "cell_type": "markdown",
   "id": "84cefc5d",
   "metadata": {},
   "source": []
  },
  {
   "cell_type": "markdown",
   "id": "eab53bef",
   "metadata": {},
   "source": [
    "### **Title:** Wavefunction on a lattice\n",
    "\n",
    "***Abstract***: A 2D Lattice provides a useful platform for a guassian wavefunction to encounter periodic potentials at lattice sites. Therefore, it's an impressive playground for the wavefunction time evolution to capture interesting effects such as spreading, interference and boundary effects. A good starting point would be to consider a simple tight binding Hamiltonian on 2D square lattice:\n",
    "\n",
    "$$H = −t \\sum_{<i,j>} ​c_i^{\\dagger} ​c_j​ + V_i​ c_i^{\\dagger}​ c_i​$$\n",
    "\n",
    "The next step would be to implement Hamiltonian time evolution via your preferable method (Crank–Nicolson for example) and use the discretised version of the Schrödinger equation:\n",
    "\n",
    "$$ iℏ \\frac{d \\psi_{i,j}}{dt} ​= −t (\\psi_{i+1,j} ​+ \\psi_{i−1,j} + \\psi_{i,j+1} ​+ \\psi_{i,j−1}​ − \\psiψ_{i,j}​) + V_{i,j} ​\\psi_{i,j} ​$$\n",
    "\n",
    "**Deliverables/Setup**:\n",
    "1) Initialize lattice: Create a 2D grid, e.g. 100×100 points, with numpy meshgrid.\n",
    "2) Define initial wavepacket: $\\psi(x,y,0) = e^{-((x-x_0)^2 + (y-y_0)^2)/2\\sigma^2} e^{ik_x x}e^{ik_y y}$ with initial momentum $\\vec{k} = \\{k_x, k_y\\}$.\n",
    "3) Build Hamiltonian\n",
    "4) Time evolution\n",
    "5) Visualization\n",
    "\n",
    "Extension: Think about the modifications required to produce a steady Bloch state."
   ]
  },
  {
   "cell_type": "markdown",
   "id": "5ed1e3b6",
   "metadata": {},
   "source": []
  },
  {
   "cell_type": "markdown",
   "id": "130fb776",
   "metadata": {},
   "source": [
    "### **Title:** Hard Sphere Scattering Cross Section\n",
    "\n",
    "*Abstract:* For time-indenpendent problems the Lippmann–Schwinger equation gives a formal solution for quantum states being scattered by some potential that goes to zero as the radius goes to infinity, which under the Born approximation becomes\n",
    "\n",
    "\\begin{align}\n",
    "    \\psi(r)=e^{ik\\cdot r}+\\frac{e^{ikr}}{r}f_k(\\theta),\n",
    "\\end{align}\n",
    "with \n",
    "\\begin{align}\n",
    "    f_k(\\theta)=-\\frac{1}{4\\pi}\\frac{2m}{\\hbar^2}\\int d^3r^\\prime e^{iq\\cdot r^\\prime}V(r^\\prime), \\hspace{2mm} q=|k-k^\\prime|=2k \\sin(\\theta/2), \n",
    "\\end{align}\n",
    "and cross-section given by \n",
    "\\begin{align}\n",
    "    \\frac{d \\sigma(\\theta)}{d\\Omega}=|f(\\theta)|^2\n",
    "\\end{align}\n",
    "\n",
    "Write a code that perform the following step:\n",
    "\n",
    "-Computes both $\\psi(r)$ and $f_k(\\theta)$ (Note that under the Born approximation $f_k(\\theta)$ is effectivelly the Fourier transform of $V(r)$)\n",
    "\n",
    "-Plots the cross-section for either the hard-sphere or the Yukawa potential\n",
    "\n",
    "-Verify the valid the of the optical theorem \n",
    "\n",
    "\\begin{align}\n",
    "    Im (f(0))=\\frac{k}{4\\pi}\\sigma_{total}\n",
    "\\end{align}"
   ]
  },
  {
   "cell_type": "markdown",
   "id": "b226dbb1",
   "metadata": {},
   "source": []
  },
  {
   "cell_type": "markdown",
   "id": "325f1500",
   "metadata": {},
   "source": [
    "### **Title:** Quantum Billiards\n",
    "\n",
    "*Abstract:* Study the quantum analog of a classical billiard system. Implement the Schrödinger equation for a particle confined in a 2D billiard table with various boundary shapes. While it may sound relatively benign, the uncertainty in the quantum wavefunction and the boundary conditions of the billiards table can take a mundane initial wavefunction to something truly beautiful. So solve for the wavefunction, and make it as easy as possible to change the geometry of the billiard table. Start with ellipsoidal boundary conditions and see what changes as you change the eccentricity. If you have time, try more complicated shapes like a stadium or a Sinai billiard.\n",
    "\n",
    "### What You’ll Build\n",
    "This is a very interesting example of how chaotic systems, specifically quantum chaotic systems, can give you interesting and somewhat deterministic results. It also importantly shows some really cute pictures.\n",
    "Create an interactive visualization or simulation that:\n",
    "- Solves the **time-independent Schrödinger equation** in a 2D billiard domain\n",
    "  (e.g., rectangular, circular, stadium, or Sinai).\n",
    "- Shows the **eigenmodes (wavefunctions)** of the system — especially those exhibiting **quantum scarring**.\n",
    "- Allows users to **change the geometry** or **boundary conditions**\n",
    "  (Dirichlet / Neumann) and observe how chaos and scarring emerge.\n",
    "- *(Bonus!)* Animate the **time evolution** of a wavepacket to show how it explores the domain,\n",
    "  localizes, or traces unstable classical orbits.\n",
    "\n",
    "### Stretch Goals\n",
    "- Recreate specific scarred eigenstates from the **stadium billiard** (Heller, 1984).\n",
    "- Overlay the **classical periodic orbits** that correspond to visible scars.\n",
    "- Generate **real-time animations** of wavepacket revival or interference phenomena.\n"
   ]
  },
  {
   "cell_type": "markdown",
   "id": "e1797dc9",
   "metadata": {},
   "source": []
  },
  {
   "cell_type": "markdown",
   "id": "c335a73c",
   "metadata": {},
   "source": [
    "### **Title:** Helium Atom\n",
    "\n",
    "*Abstract:* Implement the Schrodinger equation for a two electron system to solve for the ground state energy of the Helium atom. Before coding, look up common gotchas so that you don't commit them too!"
   ]
  },
  {
   "cell_type": "markdown",
   "id": "848cd0ca",
   "metadata": {},
   "source": []
  },
  {
   "cell_type": "code",
   "execution_count": null,
   "id": "f66a9283",
   "metadata": {},
   "outputs": [],
   "source": []
  },
  {
   "cell_type": "markdown",
   "id": "284f41b2",
   "metadata": {},
   "source": []
  }
 ],
 "metadata": {
  "kernelspec": {
   "display_name": "COMP2025",
   "language": "python",
   "name": "python3"
  },
  "language_info": {
   "codemirror_mode": {
    "name": "ipython",
    "version": 3
   },
   "file_extension": ".py",
   "mimetype": "text/x-python",
   "name": "python",
   "nbconvert_exporter": "python",
   "pygments_lexer": "ipython3",
   "version": "3.13.7"
  }
 },
 "nbformat": 4,
 "nbformat_minor": 5
}
