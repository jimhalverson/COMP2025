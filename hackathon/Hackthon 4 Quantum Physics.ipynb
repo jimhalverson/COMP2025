{
 "cells": [
  {
   "cell_type": "markdown",
   "id": "3f88f0bd",
   "metadata": {},
   "source": [
    "# Hackathon 4: Quantum Mechanics"
   ]
  },
  {
   "cell_type": "markdown",
   "id": "c2940d09",
   "metadata": {
    "vscode": {
     "languageId": "plaintext"
    }
   },
   "source": [
    "### **Title:** Two Slit Experiment\n",
    "\n",
    "*Abstract:* In the script script for the course we also have a code for the two-slit experiment, which unfortunately we did not get to in class. Try it in this hackathon but *do not use CoPilot* because it's easy enough to do without it and it would be closer in spirit to what might be on a quiz at the end of the month.\n",
    "\n",
    "I suggest if you do this modification that you start with the single-slit code and modify it to get two slits, and then analyze, see what works and what doesn't, etc."
   ]
  },
  {
   "cell_type": "markdown",
   "id": "e54c8228",
   "metadata": {},
   "source": [
    "### **Title:** \n",
    "\n",
    "*Abstract:* \n"
   ]
  },
  {
   "cell_type": "markdown",
   "id": "84cefc5d",
   "metadata": {},
   "source": []
  },
  {
   "cell_type": "markdown",
   "id": "eab53bef",
   "metadata": {},
   "source": [
    "### **Title:** Electron Hopping on a Lattice, CM Style\n",
    "\n",
    "*Abstract:* "
   ]
  },
  {
   "cell_type": "markdown",
   "id": "5ed1e3b6",
   "metadata": {},
   "source": []
  },
  {
   "cell_type": "markdown",
   "id": "130fb776",
   "metadata": {},
   "source": [
    "### **Title:** Hard Sphere Scattering Cross Section\n",
    "\n",
    "*Abstract:* Implement the Lippman-Schwinger equation for hard sphere scattering in 3D. Find the cross section of the scattering process by finding the Green's function and the T-matrix. Compare your results to the analytic solution for hard sphere scattering."
   ]
  },
  {
   "cell_type": "markdown",
   "id": "b226dbb1",
   "metadata": {},
   "source": []
  },
  {
   "cell_type": "markdown",
   "id": "325f1500",
   "metadata": {},
   "source": [
    "### **Title:** Quantum Billiards\n",
    "\n",
    "*Abstract:* Study the quantum analog of a classical billiard system. Implement the Schrödinger equation for a particle confined in a 2D billiard table with various boundary shapes. While it may sound relatively benign, the uncertainty in the quantum wavefunction and the boundary conditions of the billiards table can take a mundane initial wavefunction to something truly beautiful. So solve for the wavefunction, and make it as easy as possible to change the geometry of the billiard table. Start with ellipsoidal boundary conditions and see what changes as you change the eccentricity. If you have time, try more complicated shapes like a stadium or a Sinai billiard."
   ]
  },
  {
   "cell_type": "markdown",
   "id": "e1797dc9",
   "metadata": {},
   "source": []
  },
  {
   "cell_type": "markdown",
   "id": "c335a73c",
   "metadata": {},
   "source": [
    "### **Title:** Helium Atom\n",
    "\n",
    "*Abstract:* Implement the Schrodinger equation for a two electron system to solve for the ground state energy of the Helium atom. Before coding, look up common gotchas so that you don't commit them too!"
   ]
  },
  {
   "cell_type": "markdown",
   "id": "848cd0ca",
   "metadata": {},
   "source": []
  },
  {
   "cell_type": "markdown",
   "id": "762a1a3b",
   "metadata": {},
   "source": [
    "### **Title:** Quantum Random Walks on a Network\n",
    "\n",
    "*Abstract:* The Hamiltonian is the adjacency matrix of the network itself. When we move forward one step in time we generally end up in a superposition."
   ]
  },
  {
   "cell_type": "code",
   "execution_count": null,
   "id": "f66a9283",
   "metadata": {
    "vscode": {
     "languageId": "plaintext"
    }
   },
   "outputs": [],
   "source": []
  },
  {
   "cell_type": "markdown",
   "id": "284f41b2",
   "metadata": {},
   "source": []
  }
 ],
 "metadata": {
  "kernelspec": {
   "display_name": "COMP2025",
   "language": "python",
   "name": "python3"
  },
  "language_info": {
   "name": "python",
   "version": "3.13.5"
  }
 },
 "nbformat": 4,
 "nbformat_minor": 5
}
