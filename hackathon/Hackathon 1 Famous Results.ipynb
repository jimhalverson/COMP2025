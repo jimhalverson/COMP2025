{
 "cells": [
  {
   "cell_type": "markdown",
   "id": "15985b96",
   "metadata": {},
   "source": [
    "# Hackathon 1: Famous Results with Python and CoPilot\n",
    "\n",
    "This is the first lecture, and we'll dive right in with one of the most important components of the course: hackathons. Sometimes we'll do hackathons together, sometimes you'll do them on in your own in class. Today it'll be together.\n",
    "\n",
    "This hackathon has a few goals:\n",
    "1. Develop intuition for computational problems.\n",
    "2. Get comfortable with Python.\n",
    "3. A first look at GitHub CoPilot and its modes.\n",
    "4. Recover two very famous results you already know."
   ]
  },
  {
   "cell_type": "markdown",
   "id": "b364e6d4",
   "metadata": {},
   "source": [
    "## The Value of $\\pi$\n",
    "\n",
    "You know its value, but have you ever *computed* its value?\n",
    "\n",
    "What are some ways to do it?"
   ]
  },
  {
   "cell_type": "markdown",
   "id": "6c4e5d8d",
   "metadata": {},
   "source": [
    "**Let's do it like the Greeks did? Circumference**"
   ]
  },
  {
   "cell_type": "code",
   "execution_count": 16,
   "id": "a364e1d6",
   "metadata": {},
   "outputs": [],
   "source": [
    "import numpy as np\n",
    "from matplotlib import pyplot as plt"
   ]
  },
  {
   "cell_type": "code",
   "execution_count": 23,
   "id": "8f3fa486",
   "metadata": {},
   "outputs": [
    {
     "name": "stdout",
     "output_type": "stream",
     "text": [
      "[0.         0.06346652 0.12693304 0.19039955 0.25386607 0.31733259\n",
      " 0.38079911 0.44426563 0.50773215 0.57119866 0.63466518 0.6981317\n",
      " 0.76159822 0.82506474 0.88853126 0.95199777 1.01546429 1.07893081\n",
      " 1.14239733 1.20586385 1.26933037 1.33279688 1.3962634  1.45972992\n",
      " 1.52319644 1.58666296 1.65012947 1.71359599 1.77706251 1.84052903\n",
      " 1.90399555 1.96746207 2.03092858 2.0943951  2.15786162 2.22132814\n",
      " 2.28479466 2.34826118 2.41172769 2.47519421 2.53866073 2.60212725\n",
      " 2.66559377 2.72906028 2.7925268  2.85599332 2.91945984 2.98292636\n",
      " 3.04639288 3.10985939 3.17332591 3.23679243 3.30025895 3.36372547\n",
      " 3.42719199 3.4906585  3.55412502 3.61759154 3.68105806 3.74452458\n",
      " 3.8079911  3.87145761 3.93492413 3.99839065 4.06185717 4.12532369\n",
      " 4.1887902  4.25225672 4.31572324 4.37918976 4.44265628 4.5061228\n",
      " 4.56958931 4.63305583 4.69652235 4.75998887 4.82345539 4.88692191\n",
      " 4.95038842 5.01385494 5.07732146 5.14078798 5.2042545  5.26772102\n",
      " 5.33118753 5.39465405 5.45812057 5.52158709 5.58505361 5.64852012\n",
      " 5.71198664 5.77545316 5.83891968 5.9023862  5.96585272 6.02931923\n",
      " 6.09278575 6.15625227 6.21971879 6.28318531]\n"
     ]
    }
   ],
   "source": [
    "thetas = np.linspace(0, 2*np.pi, 100)\n",
    "print(thetas)"
   ]
  },
  {
   "cell_type": "code",
   "execution_count": 24,
   "id": "1ef59d5b",
   "metadata": {},
   "outputs": [
    {
     "data": {
      "text/plain": [
       "[<matplotlib.lines.Line2D at 0x12c7507d0>]"
      ]
     },
     "execution_count": 24,
     "metadata": {},
     "output_type": "execute_result"
    },
    {
     "data": {
      "image/png": "[encoded data removed]",
      "text/plain": [
       "<Figure size 300x300 with 1 Axes>"
      ]
     },
     "metadata": {},
     "output_type": "display_data"
    }
   ],
   "source": [
    "xs = np.cos(thetas)\n",
    "ys = np.sin(thetas)\n",
    "\n",
    "# set figsize \n",
    "plt.figure(figsize=(3,3))\n",
    "plt.plot(xs, ys, 'o-')"
   ]
  },
  {
   "cell_type": "code",
   "execution_count": 29,
   "id": "84522e77",
   "metadata": {},
   "outputs": [
    {
     "name": "stdout",
     "output_type": "stream",
     "text": [
      "6.282130832617387\n"
     ]
    }
   ],
   "source": [
    "# compute Euclidean distance between successive points\n",
    "dx = np.diff(xs)\n",
    "dy = np.diff(ys)\n",
    "distances = np.sqrt(dx**2 + dy**2)\n",
    "\n",
    "print(sum(distances))"
   ]
  },
  {
   "cell_type": "code",
   "execution_count": 33,
   "id": "dcbd2e05",
   "metadata": {},
   "outputs": [],
   "source": [
    "def approximate_pi(N):\n",
    "    thetas = np.linspace(0,2*np.pi,N)\n",
    "    xs, ys = np.cos(thetas), np.sin(thetas)\n",
    "    dx, dy = np.diff(xs), np.diff(ys)\n",
    "    distances = np.sqrt(dx**2+dy**2)\n",
    "    return sum(distances)/2"
   ]
  },
  {
   "cell_type": "code",
   "execution_count": 39,
   "id": "7ffa19bc",
   "metadata": {},
   "outputs": [
    {
     "data": {
      "text/plain": [
       "np.float64(3.1410654163086935)"
      ]
     },
     "execution_count": 39,
     "metadata": {},
     "output_type": "execute_result"
    }
   ],
   "source": [
    "approximate_pi(100)"
   ]
  },
  {
   "cell_type": "code",
   "execution_count": 62,
   "id": "d4399544",
   "metadata": {},
   "outputs": [
    {
     "name": "stdout",
     "output_type": "stream",
     "text": [
      "[np.float64(3.141587475528576), np.float64(3.141588374978739), np.float64(3.141589058913013), np.float64(3.141589591062762), np.float64(3.1415900132316517), np.float64(3.1415903537636067), np.float64(3.1415906324267695), np.float64(3.1415908633485796), np.float64(3.1415910568433323), np.float64(3.141591220582582), np.float64(3.1415913603688015), np.float64(3.141591480656215), np.float64(3.1415915849094342), np.float64(3.141591675856453), np.float64(3.141591755669328), np.float64(3.1415918260940447), np.float64(3.141591888546819), np.float64(3.1415919441874194), np.float64(3.1415919939716015), np.float64(3.141592038693521), np.float64(3.141592079016677), np.float64(3.141592115499422), np.float64(3.141592148614666), np.float64(3.141592178764497), np.float64(3.1415922062928785), np.float64(3.141592231494396), np.float64(3.141592254624775), np.float64(3.1415922759049772), np.float64(3.1415922955263507), np.float64(3.141592313657752), np.float64(3.14159233044637), np.float64(3.1415923460209374), np.float64(3.1415923604958023), np.float64(3.1415923739729883), np.float64(3.1415923865412414), np.float64(3.141592398280782), np.float64(3.1415924092629486), np.float64(3.141592419551441), np.float64(3.141592429203367), np.float64(3.1415924382700897), np.float64(3.141592446798769), np.float64(3.141592454830345), np.float64(3.141592462402801), np.float64(3.1415924695507123), np.float64(3.141592476305096), np.float64(3.141592482694309), np.float64(3.141592488744448), np.float64(3.1415924944787323), np.float64(3.1415924999184557), np.float64(3.14159250508491), np.float64(3.141592509994598), np.float64(3.141592514664761), np.float64(3.141592519110354), np.float64(3.1415925233466537), np.float64(3.1415925273857317), np.float64(3.1415925312397452), np.float64(3.141592534919669), np.float64(3.1415925384356154), np.float64(3.1415925417981105), np.float64(3.14159254501584), np.float64(3.1415925480958427), np.float64(3.141592551047621), np.float64(3.1415925538760616), np.float64(3.141592556590039), np.float64(3.141592559194417), np.float64(3.141592561695228), np.float64(3.1415925640978046), np.float64(3.141592566407508), np.float64(3.1415925686282162), np.float64(3.141592570765887), np.float64(3.1415925728244396), np.float64(3.141592574805876), np.float64(3.141592576715882), np.float64(3.1415925785574736), np.float64(3.1415925803341787), np.float64(3.141592582047644), np.float64(3.1415925837021956), np.float64(3.1415925852997653), np.float64(3.141592586842383), np.float64(3.141592588334894), np.float64(3.1415925897762578), np.float64(3.141592591171956), np.float64(3.1415925925208406), np.float64(3.141592593827404), np.float64(3.1415925950922805), np.float64(3.1415925963174804), np.float64(3.141592597504354), np.float64(3.141592598655476), np.float64(3.141592599770471), np.float64(3.141592600853013)]\n"
     ]
    }
   ],
   "source": [
    "Ns = list(range(1000,10000,100))\n",
    "approximated_Ns = [approximate_pi(N) for N in Ns]\n",
    "print(approximated_Ns)"
   ]
  },
  {
   "cell_type": "code",
   "execution_count": 63,
   "id": "0fddf22e",
   "metadata": {},
   "outputs": [
    {
     "data": {
      "text/plain": [
       "array([5.17806122e-06, 4.27861105e-06, 3.59467678e-06, 3.06252703e-06,\n",
       "       2.64035814e-06, 2.29982619e-06, 2.02116302e-06, 1.79024121e-06,\n",
       "       1.59674646e-06, 1.43300721e-06, 1.29322099e-06, 1.17293358e-06,\n",
       "       1.06868036e-06, 9.77733340e-07, 8.97920465e-07, 8.27495748e-07,\n",
       "       7.65042974e-07, 7.09402374e-07, 6.59618192e-07, 6.14896272e-07,\n",
       "       5.74573116e-07, 5.38090371e-07, 5.04975127e-07, 4.74825296e-07,\n",
       "       4.47296915e-07, 4.22095397e-07, 3.98965018e-07, 3.77684816e-07,\n",
       "       3.58063442e-07, 3.39932041e-07, 3.23143423e-07, 3.07568856e-07,\n",
       "       2.93093991e-07, 2.79616805e-07, 2.67048552e-07, 2.55309011e-07,\n",
       "       2.44326845e-07, 2.34038352e-07, 2.24386426e-07, 2.15319703e-07,\n",
       "       2.06791024e-07, 1.98759448e-07, 1.91186992e-07, 1.84039081e-07,\n",
       "       1.77284697e-07, 1.70895484e-07, 1.64845345e-07, 1.59111061e-07,\n",
       "       1.53671337e-07, 1.48504883e-07, 1.43595195e-07, 1.38925032e-07,\n",
       "       1.34479439e-07, 1.30243139e-07, 1.26204061e-07, 1.22350048e-07,\n",
       "       1.18670124e-07, 1.15154178e-07, 1.11791683e-07, 1.08573953e-07,\n",
       "       1.05493950e-07, 1.02542172e-07, 9.97137315e-08, 9.69997540e-08,\n",
       "       9.43953760e-08, 9.18945653e-08, 8.94919885e-08, 8.71822849e-08,\n",
       "       8.49615769e-08, 8.28239060e-08, 8.07653535e-08, 7.87839172e-08,\n",
       "       7.68739112e-08, 7.50323195e-08, 7.32556145e-08, 7.15421491e-08,\n",
       "       6.98875975e-08, 6.82900279e-08, 6.67474103e-08, 6.52548993e-08,\n",
       "       6.38135353e-08, 6.24178371e-08, 6.10689526e-08, 5.97623893e-08,\n",
       "       5.84975126e-08, 5.72723127e-08, 5.60854390e-08, 5.49343171e-08,\n",
       "       5.38193223e-08, 5.27367803e-08])"
      ]
     },
     "execution_count": 63,
     "metadata": {},
     "output_type": "execute_result"
    }
   ],
   "source": [
    "errors = np.pi - np.array(approximated_Ns)\n",
    "errors"
   ]
  },
  {
   "cell_type": "code",
   "execution_count": 64,
   "id": "1298fded",
   "metadata": {},
   "outputs": [
    {
     "data": {
      "image/png": "[encoded data removed]",
      "text/plain": [
       "<Figure size 300x300 with 1 Axes>"
      ]
     },
     "metadata": {},
     "output_type": "display_data"
    }
   ],
   "source": [
    "# plot the errors \n",
    "\n",
    "# set figsize \n",
    "plt.figure(figsize=(3,3))\n",
    "plt.plot(Ns, errors, 'o-')\n",
    "plt.xlabel('Number of points')\n",
    "plt.ylabel('Error in approximation of pi')\n",
    "\n",
    "# log the axes \n",
    "plt.xscale('log')\n",
    "plt.yscale('log')"
   ]
  },
  {
   "cell_type": "code",
   "execution_count": 65,
   "id": "b0c91370",
   "metadata": {},
   "outputs": [
    {
     "name": "stdout",
     "output_type": "stream",
     "text": [
      "[-2.00061834  1.64817918]\n",
      "The power law exponent is approximately -2.0006183407903975\n"
     ]
    }
   ],
   "source": [
    "# log log plot gives a line, fit it \n",
    "\n",
    "log_Ns = np.log(Ns)\n",
    "log_errors = np.log(errors)\n",
    "\n",
    "coeffs = np.polyfit(log_Ns, log_errors, 1)\n",
    "print(coeffs)\n",
    "\n",
    "print(\"The power law exponent is approximately\", coeffs[0])"
   ]
  },
  {
   "cell_type": "markdown",
   "id": "a530f6eb",
   "metadata": {
    "vscode": {
     "languageId": "plaintext"
    }
   },
   "source": [
    "**Let's do it like the Greeks did? Area** "
   ]
  },
  {
   "cell_type": "code",
   "execution_count": 95,
   "id": "ba485385",
   "metadata": {},
   "outputs": [
    {
     "data": {
      "text/plain": [
       "<matplotlib.collections.PathCollection at 0x12f169310>"
      ]
     },
     "execution_count": 95,
     "metadata": {},
     "output_type": "execute_result"
    },
    {
     "data": {
      "image/png": "[encoded data removed]",
      "text/plain": [
       "<Figure size 300x300 with 1 Axes>"
      ]
     },
     "metadata": {},
     "output_type": "display_data"
    }
   ],
   "source": [
    "n_samples = 1000000\n",
    "\n",
    "# give me uniform random samples in the unit square in R2\n",
    "\n",
    "points = 2*np.random.uniform(size=(n_samples,2))-1\n",
    "points.shape\n",
    "\n",
    "plt.figure(figsize=(3,3))\n",
    "plt.scatter(points[:,0], points[:,1])"
   ]
  },
  {
   "cell_type": "code",
   "execution_count": 96,
   "id": "7925a565",
   "metadata": {},
   "outputs": [
    {
     "name": "stdout",
     "output_type": "stream",
     "text": [
      "3.143228\n"
     ]
    }
   ],
   "source": [
    "r_squared = points[:,0]**2 + points[:,1]**2\n",
    "\n",
    "in_unit_circle = r_squared[np.where(r_squared < 1)]\n",
    "print(len(in_unit_circle)/n_samples*4)"
   ]
  },
  {
   "cell_type": "markdown",
   "id": "28bccd61",
   "metadata": {
    "vscode": {
     "languageId": "plaintext"
    }
   },
   "source": [
    "**Let's do it as a series**"
   ]
  },
  {
   "cell_type": "markdown",
   "id": "a5fb4713",
   "metadata": {},
   "source": [
    "**Your ideas!**"
   ]
  },
  {
   "cell_type": "markdown",
   "id": "68f8eafd",
   "metadata": {},
   "source": [
    "## The Central Limit Theorem\n",
    "\n",
    "What is the essential statement?"
   ]
  },
  {
   "cell_type": "markdown",
   "id": "815787dc",
   "metadata": {},
   "source": [
    "**Simple Version**"
   ]
  },
  {
   "cell_type": "markdown",
   "id": "247a3148",
   "metadata": {
    "vscode": {
     "languageId": "plaintext"
    }
   },
   "source": [
    "**With Parallelization**"
   ]
  },
  {
   "cell_type": "markdown",
   "id": "69b8919a",
   "metadata": {
    "vscode": {
     "languageId": "plaintext"
    }
   },
   "source": [
    "**With ``numpy`` Arrays**"
   ]
  },
  {
   "cell_type": "markdown",
   "id": "a6deb85c",
   "metadata": {},
   "source": []
  }
 ],
 "metadata": {
  "kernelspec": {
   "display_name": "kan",
   "language": "python",
   "name": "python3"
  },
  "language_info": {
   "codemirror_mode": {
    "name": "ipython",
    "version": 3
   },
   "file_extension": ".py",
   "mimetype": "text/x-python",
   "name": "python",
   "nbconvert_exporter": "python",
   "pygments_lexer": "ipython3",
   "version": "3.13.2"
  }
 },
 "nbformat": 4,
 "nbformat_minor": 5
}
