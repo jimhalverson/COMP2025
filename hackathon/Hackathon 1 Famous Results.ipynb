{
 "cells": [
  {
   "cell_type": "markdown",
   "id": "15985b96",
   "metadata": {},
   "source": [
    "# Hackathon 1: Famous Results with Python and CoPilot\n",
    "\n",
    "This is the first lecture, and we'll dive right in with one of the most important components of the course: hackathons. Sometimes we'll do hackathons together, sometimes you'll do them on in your own in class. Today it'll be together.\n",
    "\n",
    "This hackathon has a few goals:\n",
    "1. Develop intuition for computational problems.\n",
    "2. Get comfortable with Python.\n",
    "3. A first look at GitHub CoPilot and its modes.\n",
    "4. Recover two very famous results you already know."
   ]
  },
  {
   "cell_type": "markdown",
   "id": "b364e6d4",
   "metadata": {},
   "source": [
    "## The Value of $\\pi$\n",
    "\n",
    "You know its value, but have you ever *computed* its value?\n",
    "\n",
    "What are some ways to do it?"
   ]
  },
  {
   "cell_type": "markdown",
   "id": "6c4e5d8d",
   "metadata": {},
   "source": [
    "**Let's do it like the Greeks did? Circumference**"
   ]
  },
  {
   "cell_type": "code",
   "execution_count": 3,
   "id": "a364e1d6",
   "metadata": {},
   "outputs": [],
   "source": [
    "import numpy as np\n",
    "from matplotlib import pyplot as plt"
   ]
  },
  {
   "cell_type": "code",
   "execution_count": 4,
   "id": "8f3fa486",
   "metadata": {},
   "outputs": [
    {
     "name": "stdout",
     "output_type": "stream",
     "text": [
      "[0.         0.06346652 0.12693304 0.19039955 0.25386607 0.31733259\n",
      " 0.38079911 0.44426563 0.50773215 0.57119866 0.63466518 0.6981317\n",
      " 0.76159822 0.82506474 0.88853126 0.95199777 1.01546429 1.07893081\n",
      " 1.14239733 1.20586385 1.26933037 1.33279688 1.3962634  1.45972992\n",
      " 1.52319644 1.58666296 1.65012947 1.71359599 1.77706251 1.84052903\n",
      " 1.90399555 1.96746207 2.03092858 2.0943951  2.15786162 2.22132814\n",
      " 2.28479466 2.34826118 2.41172769 2.47519421 2.53866073 2.60212725\n",
      " 2.66559377 2.72906028 2.7925268  2.85599332 2.91945984 2.98292636\n",
      " 3.04639288 3.10985939 3.17332591 3.23679243 3.30025895 3.36372547\n",
      " 3.42719199 3.4906585  3.55412502 3.61759154 3.68105806 3.74452458\n",
      " 3.8079911  3.87145761 3.93492413 3.99839065 4.06185717 4.12532369\n",
      " 4.1887902  4.25225672 4.31572324 4.37918976 4.44265628 4.5061228\n",
      " 4.56958931 4.63305583 4.69652235 4.75998887 4.82345539 4.88692191\n",
      " 4.95038842 5.01385494 5.07732146 5.14078798 5.2042545  5.26772102\n",
      " 5.33118753 5.39465405 5.45812057 5.52158709 5.58505361 5.64852012\n",
      " 5.71198664 5.77545316 5.83891968 5.9023862  5.96585272 6.02931923\n",
      " 6.09278575 6.15625227 6.21971879 6.28318531]\n"
     ]
    }
   ],
   "source": [
    "thetas = np.linspace(0, 2*np.pi, 100)\n",
    "print(thetas)"
   ]
  },
  {
   "cell_type": "code",
   "execution_count": 5,
   "id": "1ef59d5b",
   "metadata": {},
   "outputs": [
    {
     "data": {
      "text/plain": [
       "[<matplotlib.lines.Line2D at 0x120a52ad0>]"
      ]
     },
     "execution_count": 5,
     "metadata": {},
     "output_type": "execute_result"
    },
    {
     "data": {
      "image/png": "[encoded data removed]",
      "text/plain": [
       "<Figure size 300x300 with 1 Axes>"
      ]
     },
     "metadata": {},
     "output_type": "display_data"
    }
   ],
   "source": [
    "xs = np.cos(thetas)\n",
    "ys = np.sin(thetas)\n",
    "\n",
    "# set figsize \n",
    "plt.figure(figsize=(3,3))\n",
    "plt.plot(xs, ys, 'o-')"
   ]
  },
  {
   "cell_type": "code",
   "execution_count": 6,
   "id": "84522e77",
   "metadata": {},
   "outputs": [
    {
     "name": "stdout",
     "output_type": "stream",
     "text": [
      "6.282130832617387\n"
     ]
    }
   ],
   "source": [
    "# compute Euclidean distance between successive points\n",
    "dx = np.diff(xs)\n",
    "dy = np.diff(ys)\n",
    "distances = np.sqrt(dx**2 + dy**2)\n",
    "\n",
    "print(sum(distances))"
   ]
  },
  {
   "cell_type": "code",
   "execution_count": 7,
   "id": "dcbd2e05",
   "metadata": {},
   "outputs": [],
   "source": [
    "def approximate_pi(N):\n",
    "    thetas = np.linspace(0,2*np.pi,N)\n",
    "    xs, ys = np.cos(thetas), np.sin(thetas)\n",
    "    dx, dy = np.diff(xs), np.diff(ys)\n",
    "    distances = np.sqrt(dx**2+dy**2)\n",
    "    return sum(distances)/2"
   ]
  },
  {
   "cell_type": "code",
   "execution_count": 8,
   "id": "7ffa19bc",
   "metadata": {},
   "outputs": [
    {
     "data": {
      "text/plain": [
       "np.float64(3.1410654163086935)"
      ]
     },
     "execution_count": 8,
     "metadata": {},
     "output_type": "execute_result"
    }
   ],
   "source": [
    "approximate_pi(100)"
   ]
  },
  {
   "cell_type": "code",
   "execution_count": 9,
   "id": "d4399544",
   "metadata": {},
   "outputs": [
    {
     "name": "stdout",
     "output_type": "stream",
     "text": [
      "[np.float64(3.141587475528576), np.float64(3.141588374978739), np.float64(3.141589058913013), np.float64(3.141589591062762), np.float64(3.1415900132316517), np.float64(3.1415903537636067), np.float64(3.1415906324267695), np.float64(3.1415908633485796), np.float64(3.1415910568433323), np.float64(3.141591220582582), np.float64(3.1415913603688015), np.float64(3.141591480656215), np.float64(3.1415915849094342), np.float64(3.141591675856453), np.float64(3.141591755669328), np.float64(3.1415918260940447), np.float64(3.141591888546819), np.float64(3.1415919441874194), np.float64(3.1415919939716015), np.float64(3.141592038693521), np.float64(3.141592079016677), np.float64(3.141592115499422), np.float64(3.141592148614666), np.float64(3.141592178764497), np.float64(3.1415922062928785), np.float64(3.141592231494396), np.float64(3.141592254624775), np.float64(3.1415922759049772), np.float64(3.1415922955263507), np.float64(3.141592313657752), np.float64(3.14159233044637), np.float64(3.1415923460209374), np.float64(3.1415923604958023), np.float64(3.1415923739729883), np.float64(3.1415923865412414), np.float64(3.141592398280782), np.float64(3.1415924092629486), np.float64(3.141592419551441), np.float64(3.141592429203367), np.float64(3.1415924382700897), np.float64(3.141592446798769), np.float64(3.141592454830345), np.float64(3.141592462402801), np.float64(3.1415924695507123), np.float64(3.141592476305096), np.float64(3.141592482694309), np.float64(3.141592488744448), np.float64(3.1415924944787323), np.float64(3.1415924999184557), np.float64(3.14159250508491), np.float64(3.141592509994598), np.float64(3.141592514664761), np.float64(3.141592519110354), np.float64(3.1415925233466537), np.float64(3.1415925273857317), np.float64(3.1415925312397452), np.float64(3.141592534919669), np.float64(3.1415925384356154), np.float64(3.1415925417981105), np.float64(3.14159254501584), np.float64(3.1415925480958427), np.float64(3.141592551047621), np.float64(3.1415925538760616), np.float64(3.141592556590039), np.float64(3.141592559194417), np.float64(3.141592561695228), np.float64(3.1415925640978046), np.float64(3.141592566407508), np.float64(3.1415925686282162), np.float64(3.141592570765887), np.float64(3.1415925728244396), np.float64(3.141592574805876), np.float64(3.141592576715882), np.float64(3.1415925785574736), np.float64(3.1415925803341787), np.float64(3.141592582047644), np.float64(3.1415925837021956), np.float64(3.1415925852997653), np.float64(3.141592586842383), np.float64(3.141592588334894), np.float64(3.1415925897762578), np.float64(3.141592591171956), np.float64(3.1415925925208406), np.float64(3.141592593827404), np.float64(3.1415925950922805), np.float64(3.1415925963174804), np.float64(3.141592597504354), np.float64(3.141592598655476), np.float64(3.141592599770471), np.float64(3.141592600853013)]\n"
     ]
    }
   ],
   "source": [
    "Ns = list(range(1000,10000,100))\n",
    "approximated_Ns = [approximate_pi(N) for N in Ns]\n",
    "print(approximated_Ns)"
   ]
  },
  {
   "cell_type": "code",
   "execution_count": 10,
   "id": "0fddf22e",
   "metadata": {},
   "outputs": [
    {
     "data": {
      "text/plain": [
       "array([5.17806122e-06, 4.27861105e-06, 3.59467678e-06, 3.06252703e-06,\n",
       "       2.64035814e-06, 2.29982619e-06, 2.02116302e-06, 1.79024121e-06,\n",
       "       1.59674646e-06, 1.43300721e-06, 1.29322099e-06, 1.17293358e-06,\n",
       "       1.06868036e-06, 9.77733340e-07, 8.97920465e-07, 8.27495748e-07,\n",
       "       7.65042974e-07, 7.09402374e-07, 6.59618192e-07, 6.14896272e-07,\n",
       "       5.74573116e-07, 5.38090371e-07, 5.04975127e-07, 4.74825296e-07,\n",
       "       4.47296915e-07, 4.22095397e-07, 3.98965018e-07, 3.77684816e-07,\n",
       "       3.58063442e-07, 3.39932041e-07, 3.23143423e-07, 3.07568856e-07,\n",
       "       2.93093991e-07, 2.79616805e-07, 2.67048552e-07, 2.55309011e-07,\n",
       "       2.44326845e-07, 2.34038352e-07, 2.24386426e-07, 2.15319703e-07,\n",
       "       2.06791024e-07, 1.98759448e-07, 1.91186992e-07, 1.84039081e-07,\n",
       "       1.77284697e-07, 1.70895484e-07, 1.64845345e-07, 1.59111061e-07,\n",
       "       1.53671337e-07, 1.48504883e-07, 1.43595195e-07, 1.38925032e-07,\n",
       "       1.34479439e-07, 1.30243139e-07, 1.26204061e-07, 1.22350048e-07,\n",
       "       1.18670124e-07, 1.15154178e-07, 1.11791683e-07, 1.08573953e-07,\n",
       "       1.05493950e-07, 1.02542172e-07, 9.97137315e-08, 9.69997540e-08,\n",
       "       9.43953760e-08, 9.18945653e-08, 8.94919885e-08, 8.71822849e-08,\n",
       "       8.49615769e-08, 8.28239060e-08, 8.07653535e-08, 7.87839172e-08,\n",
       "       7.68739112e-08, 7.50323195e-08, 7.32556145e-08, 7.15421491e-08,\n",
       "       6.98875975e-08, 6.82900279e-08, 6.67474103e-08, 6.52548993e-08,\n",
       "       6.38135353e-08, 6.24178371e-08, 6.10689526e-08, 5.97623893e-08,\n",
       "       5.84975126e-08, 5.72723127e-08, 5.60854390e-08, 5.49343171e-08,\n",
       "       5.38193223e-08, 5.27367803e-08])"
      ]
     },
     "execution_count": 10,
     "metadata": {},
     "output_type": "execute_result"
    }
   ],
   "source": [
    "errors = np.pi - np.array(approximated_Ns)\n",
    "errors"
   ]
  },
  {
   "cell_type": "code",
   "execution_count": 11,
   "id": "1298fded",
   "metadata": {},
   "outputs": [
    {
     "data": {
      "image/png": "[encoded data removed]",
      "text/plain": [
       "<Figure size 300x300 with 1 Axes>"
      ]
     },
     "metadata": {},
     "output_type": "display_data"
    }
   ],
   "source": [
    "# plot the errors \n",
    "\n",
    "# set figsize \n",
    "plt.figure(figsize=(3,3))\n",
    "plt.plot(Ns, errors, 'o-')\n",
    "plt.xlabel('Number of points')\n",
    "plt.ylabel('Error in approximation of pi')\n",
    "\n",
    "# log the axes \n",
    "plt.xscale('log')\n",
    "plt.yscale('log')"
   ]
  },
  {
   "cell_type": "code",
   "execution_count": 65,
   "id": "b0c91370",
   "metadata": {},
   "outputs": [
    {
     "name": "stdout",
     "output_type": "stream",
     "text": [
      "[-2.00061834  1.64817918]\n",
      "The power law exponent is approximately -2.0006183407903975\n"
     ]
    }
   ],
   "source": [
    "# log log plot gives a line, fit it \n",
    "\n",
    "log_Ns = np.log(Ns)\n",
    "log_errors = np.log(errors)\n",
    "\n",
    "coeffs = np.polyfit(log_Ns, log_errors, 1)\n",
    "print(coeffs)\n",
    "\n",
    "print(\"The power law exponent is approximately\", coeffs[0])"
   ]
  },
  {
   "cell_type": "markdown",
   "id": "a530f6eb",
   "metadata": {
    "vscode": {
     "languageId": "plaintext"
    }
   },
   "source": [
    "**Let's do it like the Greeks did? Area** "
   ]
  },
  {
   "cell_type": "code",
   "execution_count": 12,
   "id": "ba485385",
   "metadata": {},
   "outputs": [
    {
     "data": {
      "text/plain": [
       "<matplotlib.collections.PathCollection at 0x120c1be00>"
      ]
     },
     "execution_count": 12,
     "metadata": {},
     "output_type": "execute_result"
    },
    {
     "data": {
      "image/png": "[encoded data removed]",
      "text/plain": [
       "<Figure size 300x300 with 1 Axes>"
      ]
     },
     "metadata": {},
     "output_type": "display_data"
    }
   ],
   "source": [
    "n_samples = 1000000\n",
    "\n",
    "# give me uniform random samples in the unit square in R2\n",
    "\n",
    "points = 2*np.random.uniform(size=(n_samples,2))-1\n",
    "points.shape\n",
    "\n",
    "plt.figure(figsize=(3,3))\n",
    "plt.scatter(points[:,0], points[:,1])"
   ]
  },
  {
   "cell_type": "code",
   "execution_count": 13,
   "id": "7925a565",
   "metadata": {},
   "outputs": [
    {
     "name": "stdout",
     "output_type": "stream",
     "text": [
      "3.142516\n"
     ]
    }
   ],
   "source": [
    "r_squared = points[:,0]**2 + points[:,1]**2\n",
    "\n",
    "in_unit_circle = r_squared[np.where(r_squared < 1)]\n",
    "print(len(in_unit_circle)/n_samples*4)"
   ]
  },
  {
   "cell_type": "markdown",
   "id": "28bccd61",
   "metadata": {
    "vscode": {
     "languageId": "plaintext"
    }
   },
   "source": [
    "**Let's do it as a series**"
   ]
  },
  {
   "cell_type": "code",
   "execution_count": 16,
   "id": "13155bfa",
   "metadata": {},
   "outputs": [
    {
     "name": "stdout",
     "output_type": "stream",
     "text": [
      "[ 0  1  2  3  4  5  6  7  8  9 10 11 12 13 14 15 16 17 18 19 20 21 22 23\n",
      " 24 25 26 27 28 29 30 31 32 33 34 35 36 37 38 39 40 41 42 43 44 45 46 47\n",
      " 48 49]\n",
      "[ 1.         -0.33333333  0.2        -0.14285714  0.11111111 -0.09090909\n",
      "  0.07692308 -0.06666667  0.05882353 -0.05263158  0.04761905 -0.04347826\n",
      "  0.04       -0.03703704  0.03448276 -0.03225806  0.03030303 -0.02857143\n",
      "  0.02702703 -0.02564103  0.02439024 -0.02325581  0.02222222 -0.0212766\n",
      "  0.02040816 -0.01960784  0.01886792 -0.01818182  0.01754386 -0.01694915\n",
      "  0.01639344 -0.01587302  0.01538462 -0.01492537  0.01449275 -0.01408451\n",
      "  0.01369863 -0.01333333  0.01298701 -0.01265823  0.01234568 -0.01204819\n",
      "  0.01176471 -0.01149425  0.01123596 -0.01098901  0.01075269 -0.01052632\n",
      "  0.01030928 -0.01010101]\n",
      "3.121594652591011\n"
     ]
    }
   ],
   "source": [
    "k = np.arange(50)\n",
    "print(k)\n",
    "terms = (-1)**k/(2*k+1)\n",
    "print(terms)\n",
    "print(sum(terms)*4)"
   ]
  },
  {
   "cell_type": "code",
   "execution_count": 19,
   "id": "39501d93",
   "metadata": {},
   "outputs": [
    {
     "data": {
      "text/plain": [
       "np.float64(3.1415916535897743)"
      ]
     },
     "execution_count": 19,
     "metadata": {},
     "output_type": "execute_result"
    }
   ],
   "source": [
    "def leibniz_formula_for_pi(N):\n",
    "    k = np.arange(N)\n",
    "    terms = (-1)**k/(2*k+1)\n",
    "    return 4*sum(terms)\n",
    "\n",
    "leibniz_formula_for_pi(1000000)"
   ]
  },
  {
   "cell_type": "markdown",
   "id": "06cb5ac1",
   "metadata": {},
   "source": [
    "**Euler's Series (Basel Problem)**\n",
    "\n",
    "The Basel problem, solved by Euler, shows that the sum of reciprocals of perfect squares equals π²/6:\n",
    "\n",
    "π²/6 = 1 + 1/4 + 1/9 + 1/16 + 1/25 + ...\n",
    "\n",
    "So π = √(6 × Σ(1/n²))"
   ]
  },
  {
   "cell_type": "code",
   "execution_count": 20,
   "id": "c48c0ea8",
   "metadata": {},
   "outputs": [
    {
     "name": "stdout",
     "output_type": "stream",
     "text": [
      "Euler's series approximations:\n",
      "N =    100: π ≈ 3.13207653, error = 9.52e-03\n",
      "N =   1000: π ≈ 3.14063806, error = 9.55e-04\n",
      "N =  10000: π ≈ 3.14149716, error = 9.55e-05\n",
      "N = 100000: π ≈ 3.14158310, error = 9.55e-06\n",
      "\n",
      "Actual π = 3.14159265\n"
     ]
    }
   ],
   "source": [
    "def euler_series_for_pi(N):\n",
    "    \"\"\"\n",
    "    Compute π using Euler's series (Basel problem solution)\n",
    "    π = √(6 × Σ(1/n²)) for n from 1 to N\n",
    "    \"\"\"\n",
    "    n = np.arange(1, N+1)\n",
    "    sum_of_reciprocal_squares = np.sum(1/n**2)\n",
    "    return np.sqrt(6 * sum_of_reciprocal_squares)\n",
    "\n",
    "# Test with different numbers of terms\n",
    "print(\"Euler's series approximations:\")\n",
    "for N in [100, 1000, 10000, 100000]:\n",
    "    pi_approx = euler_series_for_pi(N)\n",
    "    error = abs(np.pi - pi_approx)\n",
    "    print(f\"N = {N:6d}: π ≈ {pi_approx:.8f}, error = {error:.2e}\")\n",
    "    \n",
    "print(f\"\\nActual π = {np.pi:.8f}\")"
   ]
  },
  {
   "cell_type": "code",
   "execution_count": 21,
   "id": "9e3f683a",
   "metadata": {},
   "outputs": [
    {
     "data": {
      "image/png": "[encoded data removed]",
      "text/plain": [
       "<Figure size 1000x600 with 1 Axes>"
      ]
     },
     "metadata": {},
     "output_type": "display_data"
    },
    {
     "name": "stdout",
     "output_type": "stream",
     "text": [
      "At N=10000:\n",
      "Leibniz error: 1.00e-04\n",
      "Euler error: 9.55e-05\n"
     ]
    }
   ],
   "source": [
    "# Compare convergence of Leibniz vs Euler series\n",
    "N_values = np.logspace(1, 5, 50).astype(int)  # From 10 to 100,000 terms\n",
    "\n",
    "leibniz_errors = []\n",
    "euler_errors = []\n",
    "\n",
    "for N in N_values:\n",
    "    leibniz_pi = leibniz_formula_for_pi(N)\n",
    "    euler_pi = euler_series_for_pi(N)\n",
    "    \n",
    "    leibniz_errors.append(abs(np.pi - leibniz_pi))\n",
    "    euler_errors.append(abs(np.pi - euler_pi))\n",
    "\n",
    "# Plot convergence comparison\n",
    "plt.figure(figsize=(10, 6))\n",
    "plt.loglog(N_values, leibniz_errors, 'b-', label='Leibniz Formula', alpha=0.7)\n",
    "plt.loglog(N_values, euler_errors, 'r-', label=\"Euler's Series\", alpha=0.7)\n",
    "plt.xlabel('Number of Terms (N)')\n",
    "plt.ylabel('Absolute Error')\n",
    "plt.title('Convergence Comparison: Leibniz vs Euler Series for π')\n",
    "plt.legend()\n",
    "plt.grid(True, alpha=0.3)\n",
    "plt.show()\n",
    "\n",
    "print(f\"At N=10000:\")\n",
    "print(f\"Leibniz error: {abs(np.pi - leibniz_formula_for_pi(10000)):.2e}\")\n",
    "print(f\"Euler error: {abs(np.pi - euler_series_for_pi(10000)):.2e}\")"
   ]
  },
  {
   "cell_type": "code",
   "execution_count": null,
   "id": "39f546ba",
   "metadata": {},
   "outputs": [],
   "source": []
  },
  {
   "cell_type": "markdown",
   "id": "a5fb4713",
   "metadata": {},
   "source": [
    "**Your ideas!**"
   ]
  },
  {
   "cell_type": "markdown",
   "id": "68f8eafd",
   "metadata": {},
   "source": [
    "## The Central Limit Theorem\n",
    "\n",
    "What is the essential statement?\n",
    "\n",
    "The Central Limit Theorem states that the sum (or average) of a large number of independent, identically distributed random variables will be approximately normally distributed, regardless of the original distribution of the variables."
   ]
  },
  {
   "cell_type": "markdown",
   "id": "815787dc",
   "metadata": {},
   "source": [
    "**Simple Version**"
   ]
  },
  {
   "cell_type": "code",
   "execution_count": 31,
   "id": "8ae115e4",
   "metadata": {},
   "outputs": [
    {
     "data": {
      "text/plain": [
       "(array([1.00531576, 0.9888155 , 1.0140159 , 0.98071537, 0.95791502,\n",
       "        0.98461544, 1.00441575, 1.00651578, 1.01251587, 0.99421559,\n",
       "        1.01251587, 0.98971552, 0.98521544, 0.98971552, 1.020916  ,\n",
       "        1.0269161 , 0.99961567, 1.01821596, 1.00531576, 0.9954156 ,\n",
       "        0.98041537, 1.00831581, 1.0143159 , 1.03111616, 0.98551545,\n",
       "        0.99271556, 0.9825154 , 1.00531576, 1.01821596, 0.98941551]),\n",
       " array([1.03328674e-05, 3.33431436e-02, 6.66759544e-02, 1.00008765e-01,\n",
       "        1.33341576e-01, 1.66674387e-01, 2.00007198e-01, 2.33340008e-01,\n",
       "        2.66672819e-01, 3.00005630e-01, 3.33338441e-01, 3.66671251e-01,\n",
       "        4.00004062e-01, 4.33336873e-01, 4.66669684e-01, 5.00002495e-01,\n",
       "        5.33335305e-01, 5.66668116e-01, 6.00000927e-01, 6.33333738e-01,\n",
       "        6.66666549e-01, 6.99999359e-01, 7.33332170e-01, 7.66664981e-01,\n",
       "        7.99997792e-01, 8.33330602e-01, 8.66663413e-01, 8.99996224e-01,\n",
       "        9.33329035e-01, 9.66661846e-01, 9.99994656e-01]),\n",
       " <BarContainer object of 30 artists>)"
      ]
     },
     "execution_count": 31,
     "metadata": {},
     "output_type": "execute_result"
    },
    {
     "data": {
      "image/png": "[encoded data removed]",
      "text/plain": [
       "<Figure size 640x480 with 1 Axes>"
      ]
     },
     "metadata": {},
     "output_type": "display_data"
    }
   ],
   "source": [
    "test_samples = [np.random.uniform() for _ in range(100000)]\n",
    "# plot a histogram\n",
    "plt.hist(test_samples, bins=30, density=True)"
   ]
  },
  {
   "cell_type": "code",
   "execution_count": 43,
   "id": "d26b947b",
   "metadata": {},
   "outputs": [
    {
     "data": {
      "text/plain": [
       "(array([0.00248313, 0.00496625, 0.00744938, 0.02731439, 0.0571119 ,\n",
       "        0.10677443, 0.15643695, 0.23838012, 0.45937835, 0.58105153,\n",
       "        0.9286892 , 1.09505866, 1.29619188, 1.36571942, 1.30115813,\n",
       "        1.25894499, 1.1372718 , 0.83433041, 0.6058828 , 0.39233394,\n",
       "        0.26072825, 0.15892008, 0.06704441, 0.03476377, 0.03228064,\n",
       "        0.00248313, 0.        , 0.        , 0.        , 0.00248313]),\n",
       " array([34.23763634, 34.31817997, 34.3987236 , 34.47926724, 34.55981087,\n",
       "        34.6403545 , 34.72089813, 34.80144176, 34.88198539, 34.96252902,\n",
       "        35.04307265, 35.12361628, 35.20415991, 35.28470354, 35.36524717,\n",
       "        35.4457908 , 35.52633443, 35.60687806, 35.68742169, 35.76796532,\n",
       "        35.84850895, 35.92905258, 36.00959622, 36.09013985, 36.17068348,\n",
       "        36.25122711, 36.33177074, 36.41231437, 36.492858  , 36.57340163,\n",
       "        36.65394526]),\n",
       " <BarContainer object of 30 artists>)"
      ]
     },
     "execution_count": 43,
     "metadata": {},
     "output_type": "execute_result"
    },
    {
     "data": {
      "image/png": "[encoded data removed]",
      "text/plain": [
       "<Figure size 640x480 with 1 Axes>"
      ]
     },
     "metadata": {},
     "output_type": "display_data"
    }
   ],
   "source": [
    "N_terms, N_samples = 5000, 5000\n",
    "\n",
    "def X_sample():\n",
    "    return 1/np.sqrt(N_terms) * sum(np.random.uniform() for _ in range(N_terms))\n",
    "\n",
    "X_samples = [X_sample() for _ in range(N_samples)]\n",
    "plt.hist(X_samples, bins=30, density=True)"
   ]
  },
  {
   "cell_type": "markdown",
   "id": "247a3148",
   "metadata": {
    "vscode": {
     "languageId": "plaintext"
    }
   },
   "source": [
    "**With Parallelization**"
   ]
  },
  {
   "cell_type": "code",
   "execution_count": 46,
   "id": "9f120d3b",
   "metadata": {},
   "outputs": [
    {
     "data": {
      "text/plain": [
       "(array([0.00252006, 0.        , 0.00252006, 0.00756017, 0.00756017,\n",
       "        0.0226805 , 0.05292118, 0.08820196, 0.16380364, 0.30744683,\n",
       "        0.47629058, 0.66025467, 0.89209982, 1.02314273, 1.33058956,\n",
       "        1.35579012, 1.3683904 , 1.21466699, 1.10882463, 0.86185915,\n",
       "        0.61489366, 0.45109002, 0.28476633, 0.14112314, 0.0856819 ,\n",
       "        0.04284095, 0.01512034, 0.00504011, 0.01008022, 0.00252006]),\n",
       " array([34.10421199, 34.18357531, 34.26293862, 34.34230194, 34.42166526,\n",
       "        34.50102857, 34.58039189, 34.65975521, 34.73911852, 34.81848184,\n",
       "        34.89784515, 34.97720847, 35.05657179, 35.1359351 , 35.21529842,\n",
       "        35.29466173, 35.37402505, 35.45338837, 35.53275168, 35.612115  ,\n",
       "        35.69147831, 35.77084163, 35.85020495, 35.92956826, 36.00893158,\n",
       "        36.0882949 , 36.16765821, 36.24702153, 36.32638484, 36.40574816,\n",
       "        36.48511148]),\n",
       " <BarContainer object of 30 artists>)"
      ]
     },
     "execution_count": 46,
     "metadata": {},
     "output_type": "execute_result"
    },
    {
     "data": {
      "image/png": "[encoded data removed]",
      "text/plain": [
       "<Figure size 640x480 with 1 Axes>"
      ]
     },
     "metadata": {},
     "output_type": "display_data"
    }
   ],
   "source": [
    "from joblib import Parallel, delayed\n",
    "\n",
    "def X_sample():\n",
    "    return 1/np.sqrt(N_terms) * sum(np.random.uniform() for _ in range(N_terms))\n",
    "\n",
    "X_samples = Parallel(n_jobs=-1)(delayed(X_sample)() for _ in range(N_samples))\n",
    "plt.hist(X_samples, bins=30, density=True)\n"
   ]
  },
  {
   "cell_type": "markdown",
   "id": "69b8919a",
   "metadata": {
    "vscode": {
     "languageId": "plaintext"
    }
   },
   "source": [
    "**With ``numpy`` Arrays**"
   ]
  },
  {
   "cell_type": "code",
   "execution_count": 49,
   "id": "00d179a6",
   "metadata": {},
   "outputs": [
    {
     "name": "stdout",
     "output_type": "stream",
     "text": [
      "(4000, 5000)\n"
     ]
    },
    {
     "data": {
      "text/plain": [
       "(array([0.00367661, 0.02941291, 0.02205968, 0.08823872, 0.0551492 ,\n",
       "        0.15809438, 0.19486051, 0.34560166, 0.51104926, 0.66179041,\n",
       "        0.92650658, 1.00739207, 1.32725744, 1.30152115, 1.35667035,\n",
       "        1.29416792, 1.20225258, 1.0698945 , 0.99268562, 0.77576543,\n",
       "        0.58090492, 0.31618875, 0.20589035, 0.12868147, 0.08456211,\n",
       "        0.03676613, 0.01838307, 0.00735323, 0.        , 0.00367661]),\n",
       " array([34.35790337, 34.42590073, 34.49389809, 34.56189545, 34.6298928 ,\n",
       "        34.69789016, 34.76588752, 34.83388488, 34.90188224, 34.9698796 ,\n",
       "        35.03787696, 35.10587431, 35.17387167, 35.24186903, 35.30986639,\n",
       "        35.37786375, 35.44586111, 35.51385847, 35.58185582, 35.64985318,\n",
       "        35.71785054, 35.7858479 , 35.85384526, 35.92184262, 35.98983997,\n",
       "        36.05783733, 36.12583469, 36.19383205, 36.26182941, 36.32982677,\n",
       "        36.39782413]),\n",
       " <BarContainer object of 30 artists>)"
      ]
     },
     "execution_count": 49,
     "metadata": {},
     "output_type": "execute_result"
    },
    {
     "data": {
      "image/png": "[encoded data removed]",
      "text/plain": [
       "<Figure size 640x480 with 1 Axes>"
      ]
     },
     "metadata": {},
     "output_type": "display_data"
    }
   ],
   "source": [
    "# Optimized version\n",
    "N_terms, N_samples = 5000, 4000\n",
    "# Generate all random numbers at once\n",
    "random_matrix = np.random.uniform(size=(N_samples, N_terms))\n",
    "print(random_matrix.shape)\n",
    "X_samples = np.sum(random_matrix, axis=1) / np.sqrt(N_terms)\n",
    "plt.hist(X_samples, bins=30, density=True)"
   ]
  },
  {
   "cell_type": "markdown",
   "id": "a6deb85c",
   "metadata": {},
   "source": []
  }
 ],
 "metadata": {
  "kernelspec": {
   "display_name": "COMP2025",
   "language": "python",
   "name": "python3"
  },
  "language_info": {
   "codemirror_mode": {
    "name": "ipython",
    "version": 3
   },
   "file_extension": ".py",
   "mimetype": "text/x-python",
   "name": "python",
   "nbconvert_exporter": "python",
   "pygments_lexer": "ipython3",
   "version": "3.13.5"
  }
 },
 "nbformat": 4,
 "nbformat_minor": 5
}
