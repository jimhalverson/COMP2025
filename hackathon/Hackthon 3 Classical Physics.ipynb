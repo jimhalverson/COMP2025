{
 "cells": [
  {
   "cell_type": "markdown",
   "id": "3f88f0bd",
   "metadata": {},
   "source": [
    "# Hackathon 3: Classical Physics"
   ]
  },
  {
   "cell_type": "markdown",
   "id": "c2940d09",
   "metadata": {
    "vscode": {
     "languageId": "plaintext"
    }
   },
   "source": [
    "### **Title:** Kuramoto Model\n",
    "\n",
    "*Abstract:* The Kuramoto model is a model of synchronization for a system of non-linear coupled oscillators, with an exact solution in the infinite # oscillators limit that we would like to compare to numerics. The problem involves:\n",
    "1. Initial displacements and velocities of N particles on a ring.\n",
    "2. A system of ODEs to be coded up.\n",
    "3. Order parameter related to sum of phases. \n",
    "4. Study how order parameter responds to changes in the coupling and see phase transition.\n",
    "\n",
    "Beefy version: do it on a random graph of some type."
   ]
  },
  {
   "cell_type": "markdown",
   "id": "76c4aee0",
   "metadata": {},
   "source": []
  },
  {
   "cell_type": "markdown",
   "id": "e54c8228",
   "metadata": {},
   "source": [
    "### **Title:** Radiation Pressure and Gravity Balance in Stars\n",
    "\n",
    "*Abstract:* \n",
    "1. Initial conditions of some stars (classification labels --> different dyanmics). Do it for star with nucleosynthesis.\n",
    "2. Use the mass continuity equation, hydrostatic equilibrium, and energy transport equations to model the internal structure of stars.\n",
    "3. Use hydrostatic equilibrium equation to show what type of pressure dominates as a function of the radius."
   ]
  },
  {
   "cell_type": "markdown",
   "id": "84cefc5d",
   "metadata": {},
   "source": []
  },
  {
   "cell_type": "markdown",
   "id": "eab53bef",
   "metadata": {},
   "source": [
    "### **Title:** Chaos Examples\n",
    "\n",
    "*Abstract:* You all suggested a bunch of chaotic systems, e.g. the double pendulum, the Lorenz system, and N-body simulations.\n",
    "1. Come up with defining data and initial conditions.\n",
    "2. Write down (or look up) the dynamical equations.\n",
    "3. Research (for a few minutes) common issues and gotchas that arise when you try to solve the diff eqs. Probably will require fancier numerical techniques than in class. Use an implementation of someone else.\n",
    "4. Visualize the results, study how they depend on initial condition.\n",
    "5. If time permits, look into how to characterize the chaos."
   ]
  },
  {
   "cell_type": "markdown",
   "id": "5ed1e3b6",
   "metadata": {},
   "source": []
  }
 ],
 "metadata": {
  "kernelspec": {
   "display_name": "COMP2025",
   "language": "python",
   "name": "python3"
  },
  "language_info": {
   "name": "python",
   "version": "3.13.5"
  }
 },
 "nbformat": 4,
 "nbformat_minor": 5
}
