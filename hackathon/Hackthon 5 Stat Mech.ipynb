{
 "cells": [
  {
   "cell_type": "markdown",
   "id": "3f88f0bd",
   "metadata": {},
   "source": [
    "# Hackathon 5: Statistical Mechanics"
   ]
  },
  {
   "cell_type": "markdown",
   "id": "f53babc4",
   "metadata": {},
   "source": [
    "### **Title:** X-Y Model: Continuous Spin Phase Transitions\n",
    "\n",
    "*Abstract:* The X-Y model describes a 2D lattice of spins with continuous angular degrees of freedom, where each spin can point in any direction in the plane (unlike the discrete Ising model). This model exhibits a fascinating Kosterlitz-Thouless (KT) transition—a topological phase transition driven by the unbinding of vortex-antivortex pairs, rather than the usual symmetry breaking.\n",
    "\n",
    "Implement a Monte Carlo simulation of the X-Y model on a square lattice. Use the Metropolis algorithm with the Hamiltonian $H = -J \\sum_{<i,j>} \\cos(\\theta_i - \\theta_j)$, where $\\theta_i$ is the angle of spin $i$. Start at high temperature and gradually cool the system, measuring the magnetization and vorticity. Visualize the spin configurations as vector fields and look for the emergence of vortex pairs at low temperature. "
   ]
  },
  {
   "cell_type": "markdown",
   "id": "627cd185",
   "metadata": {},
   "source": []
  },
  {
   "cell_type": "markdown",
   "id": "16be6cba",
   "metadata": {},
   "source": [
    "### **Title:** Percolation Transition in Random Networks\n",
    "\n",
    "*Abstract:* \n",
    "In this hackathon, we will find a phase transition from statistical physics in network science. The order parameter is the size of the largest connected component in the network (the largest subgraph of connected nodes), measured as a function of connection probability in an Erdos-Renyi random graph. We will simulate random networks, obtain the phase transition, and find the critical scaling exponents.\n",
    "\n",
    "1. Write a method to create an Erdos-Renyi (ER) random graph G(N,p) i.e. a method that samples from the ensemble of random graphs. The network has N nodes and every pair is connected with some probability p. Compare output to networkx function.\n",
    "For a network of N=10,000 nodes, create ER graphs with logarithmically spaced probabilities p = 0 to p = 0.5. For each p, obtain the connected components (implemented in networkx), averaging over 10 independent networks for robustness.\n",
    "\n",
    "2. For each p, find the size of the largest connected component N_{GC}. Plot N_{GC}/N vs p. Compare the transition probability p_c to the known value =1/(N-1) and obtain the scaling exponent for the order parameter near the transition (beta = 1).\n",
    "\n",
    "3. For each p, find the susceptibility (average cluster size), the cluster size distribution, and the correlation length (mean shortest path within each cluster). \n",
    "\n",
    "4. Find the scaling exponents to be 1, 5/2 and 3, respectively.\n",
    "\n",
    "Beefier versions:\n",
    "\n",
    "5. Animate the percolation transition through the emergence of the largest connected component at p = p_c\n",
    "6. Try percolation on a Watts-Strogatz small-world network as a function of the rewiring probability\n",
    "\n",
    "References:\n",
    "https://networksciencebook.com/chapter/3#evolution-network (section 3.6)\n",
    "https://arxiv.org/pdf/1907.13190 (pages 2 and 3) "
   ]
  },
  {
   "cell_type": "markdown",
   "id": "25a981b7",
   "metadata": {},
   "source": []
  },
  {
   "cell_type": "markdown",
   "id": "2fdd20d9",
   "metadata": {},
   "source": [
    "### **Title:** Entropic Order, High Temperature Ordered Phases\n",
    "\n",
    "*Abstract:* Most statistical system exhibit ordered phases at low temperature. This is rooted in the fact that thermal fluctuations are not strong enough to overcome energetic costs, and thus the system prefers to maintain itself a low energy configurations. However, as you increase temperature, and by consequence entropy, it is expected that all system (no matter how strongly ordered they are) will eventually pass through a transition to a disordered phase. This is why things melt if you throw them at lava!\n",
    "\n",
    "Early this year, it was found a counter example of such order-to-disorder phase transition. In reference arXiv:2503.22789v1 they considered the classical bosonic hamiltonian\n",
    "\\begin{align}\n",
    "    H=U\\sum_{<u v>}n_u^2n_v^2+\\sum_u n_u\n",
    "\\end{align}\n",
    "where $n_v$ denotes the occupation number of a given site in the 2D lattice and $<uv>$ refers to only first-neighbors interactions.\n",
    "\n",
    "In this hackathon, we plan to construct the phase diagram of the model defined above:\n",
    "1. Construct the Hamiltonian above in a square lattice and introduce a reasonable cutoff $N_{max}$ at the bosonic occupation number (This is necessary in order to make calculations manageable in our computers)\n",
    "2. Apply the metropolis algorithm to compute thermal correlations of the order parameter for different values of temperature\n",
    "\\begin{align}\n",
    "\\Delta(T) = \\frac{1}{L^4}\\braket{ \\sum_{x, y = 1}^L (-1)^{x+y} n_{xy}}\n",
    "\\end{align}\n",
    "the objective is to show that as temperature increase, $\\Delta$ develops a non-zero expectation values, which is the opposite behavior the we would expect of systems like the Ising model.\n",
    "3. Apply metropolis algorithm to compute thermal expectation values of the energy, and show that at high temperature the system exhibits the check board pattern displayed at figure 1 of reference arXiv:2503.22789v1."
   ]
  },
  {
   "cell_type": "markdown",
   "id": "222a802b",
   "metadata": {},
   "source": []
  },
  {
   "cell_type": "markdown",
   "id": "a6959e2b",
   "metadata": {},
   "source": [
    "### **Title:** Belousov-Zhabotinsky Reaction Waves\n",
    "\n",
    "*Abstract:* The Belousov-Zhabotinsky (BZ) reaction is a striking example of chemical self-organization far from equilibrium. Unlike typical reactions that reach equilibrium, the BZ system exhibits sustained oscillations and traveling spiral waves, creating mesmerizing spatial-temporal patterns. These reaction-diffusion dynamics cannot be described by equilibrium thermodynamics and require solving coupled PDEs for the chemical species concentrations.\n",
    "\n",
    "Implement a simplified 2D reaction-diffusion system using the FitzHugh-Nagumo or Oregonator model—reduced models that capture BZ dynamics. Use explicit finite difference methods to solve equations of the form $\\partial u/\\partial t = D\\nabla^2 u + f(u,v)$ and $\\partial v/\\partial t = \\epsilon g(u,v)$ on a 2D grid. Initialize with small perturbations or a spiral seed and watch waves emerge. Visualize the evolution using animated heatmaps to see spiral waves, target patterns, or wave collisions. Experiment with parameters to observe different dynamical regimes. This demonstrates how local interactions and diffusion can create coherent macroscopic structures without equilibrium—a key concept in non-equilibrium statistical mechanics and pattern formation."
   ]
  },
  {
   "cell_type": "markdown",
   "id": "712cc9bf",
   "metadata": {},
   "source": []
  }
 ],
 "metadata": {
  "kernelspec": {
   "display_name": "COMP2025",
   "language": "python",
   "name": "python3"
  },
  "language_info": {
   "codemirror_mode": {
    "name": "ipython",
    "version": 3
   },
   "file_extension": ".py",
   "mimetype": "text/x-python",
   "name": "python",
   "nbconvert_exporter": "python",
   "pygments_lexer": "ipython3",
   "version": "3.13.7"
  }
 },
 "nbformat": 4,
 "nbformat_minor": 5
}
