{
 "cells": [
  {
   "cell_type": "markdown",
   "id": "f422ef7a",
   "metadata": {},
   "source": [
    "# Hackathon 2: Python at Your Speed"
   ]
  },
  {
   "cell_type": "markdown",
   "id": "c2940d09",
   "metadata": {
    "vscode": {
     "languageId": "plaintext"
    }
   },
   "source": [
    "### **Title:** Essentials of Knot Theory\n",
    "\n",
    "*Abstract:* In this hackathon we will learn the essentials of knot theory, which play fundamental roles in mathematics, quantum field theory, and quantum computation. We will find and study a common open-source dataset of knots and find a package to study essential invariants. We will learn topological equivalent of knots and implement methods to do moves on knots that preserve topology, verifying this with necessary checks provided by topological invariants."
   ]
  },
  {
   "cell_type": "markdown",
   "id": "76c4aee0",
   "metadata": {},
   "source": []
  },
  {
   "cell_type": "markdown",
   "id": "e54c8228",
   "metadata": {},
   "source": [
    "### **Title:** Spread of Epidemics on Networks\n",
    "\n",
    "*Abstract:* In this hackathon, we will learn the basics of discrete network topologies by modeling epidemics on networks. We will implement the commonly used Susceptible-Infectious-Recovered (SIR) model, evolve it in time with different seeds, and study the effect of the network topology (random, small-world, scale-free) on the dynamics. The final deliverables could include a successfully built model, final outbreak size/time for different infection probabilities/networks, and plots of dynamics."
   ]
  },
  {
   "cell_type": "markdown",
   "id": "84cefc5d",
   "metadata": {},
   "source": []
  },
  {
   "cell_type": "markdown",
   "id": "eab53bef",
   "metadata": {},
   "source": [
    "### **Title:** Conway's Game of Life\n",
    "\n",
    "*Abstract:* The game is played on a two-dimensional grid of \"cells,\" each of which can be in one of two states: alive or dead. A set of simple rules governs how the grid evolves from one generation to the next, creating surprisingly complex and beautiful emergent patterns from simple initial conditions. This is an example of a discrete dynamically systems where emergent patterns occur as a result of simple deterministic rules. Deliverables: GUI with Tkinter were we can play the game and explore it."
   ]
  },
  {
   "cell_type": "markdown",
   "id": "5ed1e3b6",
   "metadata": {},
   "source": []
  }
 ],
 "metadata": {
  "language_info": {
   "name": "python"
  }
 },
 "nbformat": 4,
 "nbformat_minor": 5
}
